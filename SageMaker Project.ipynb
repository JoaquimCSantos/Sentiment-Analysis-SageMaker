{
 "cells": [
  {
   "cell_type": "markdown",
   "metadata": {},
   "source": [
    "# Creating a Sentiment Analysis Web App\n",
    "## Using PyTorch and SageMaker\n",
    "\n",
    "_Deep Learning Nanodegree Program | Deployment_\n",
    "\n",
    "---\n",
    "\n",
    "Now that we have a basic understanding of how SageMaker works we will try to use it to construct a complete project from end to end. Our goal will be to have a simple web page which a user can use to enter a movie review. The web page will then send the review off to our deployed model which will predict the sentiment of the entered review.\n",
    "\n",
    "## Instructions\n",
    "\n",
    "Some template code has already been provided for you, and you will need to implement additional functionality to successfully complete this notebook. You will not need to modify the included code beyond what is requested. Sections that begin with '**TODO**' in the header indicate that you need to complete or implement some portion within them. Instructions will be provided for each section and the specifics of the implementation are marked in the code block with a `# TODO: ...` comment. Please be sure to read the instructions carefully!\n",
    "\n",
    "In addition to implementing code, there will be questions for you to answer which relate to the task and your implementation. Each section where you will answer a question is preceded by a '**Question:**' header. Carefully read each question and provide your answer below the '**Answer:**' header by editing the Markdown cell.\n",
    "\n",
    "> **Note**: Code and Markdown cells can be executed using the **Shift+Enter** keyboard shortcut. In addition, a cell can be edited by typically clicking it (double-click for Markdown cells) or by pressing **Enter** while it is highlighted.\n",
    "\n",
    "## General Outline\n",
    "\n",
    "Recall the general outline for SageMaker projects using a notebook instance.\n",
    "\n",
    "1. Download or otherwise retrieve the data.\n",
    "2. Process / Prepare the data.\n",
    "3. Upload the processed data to S3.\n",
    "4. Train a chosen model.\n",
    "5. Test the trained model (typically using a batch transform job).\n",
    "6. Deploy the trained model.\n",
    "7. Use the deployed model.\n",
    "\n",
    "For this project, you will be following the steps in the general outline with some modifications. \n",
    "\n",
    "First, you will not be testing the model in its own step. You will still be testing the model, however, you will do it by deploying your model and then using the deployed model by sending the test data to it. One of the reasons for doing this is so that you can make sure that your deployed model is working correctly before moving forward.\n",
    "\n",
    "In addition, you will deploy and use your trained model a second time. In the second iteration you will customize the way that your trained model is deployed by including some of your own code. In addition, your newly deployed model will be used in the sentiment analysis web app."
   ]
  },
  {
   "cell_type": "markdown",
   "metadata": {},
   "source": [
    "## Step 1: Downloading the data\n",
    "\n",
    "As in the XGBoost in SageMaker notebook, we will be using the [IMDb dataset](http://ai.stanford.edu/~amaas/data/sentiment/)\n",
    "\n",
    "> Maas, Andrew L., et al. [Learning Word Vectors for Sentiment Analysis](http://ai.stanford.edu/~amaas/data/sentiment/). In _Proceedings of the 49th Annual Meeting of the Association for Computational Linguistics: Human Language Technologies_. Association for Computational Linguistics, 2011."
   ]
  },
  {
   "cell_type": "code",
   "execution_count": 1,
   "metadata": {},
   "outputs": [
    {
     "name": "stdout",
     "output_type": "stream",
     "text": [
      "mkdir: cannot create directory ‘../data’: File exists\n",
      "--2019-07-18 15:29:15--  http://ai.stanford.edu/~amaas/data/sentiment/aclImdb_v1.tar.gz\n",
      "Resolving ai.stanford.edu (ai.stanford.edu)... 171.64.68.10\n",
      "Connecting to ai.stanford.edu (ai.stanford.edu)|171.64.68.10|:80... connected.\n",
      "HTTP request sent, awaiting response... 200 OK\n",
      "Length: 84125825 (80M) [application/x-gzip]\n",
      "Saving to: ‘../data/aclImdb_v1.tar.gz’\n",
      "\n",
      "../data/aclImdb_v1. 100%[===================>]  80.23M  9.98MB/s    in 9.3s    \n",
      "\n",
      "2019-07-18 15:29:25 (8.62 MB/s) - ‘../data/aclImdb_v1.tar.gz’ saved [84125825/84125825]\n",
      "\n"
     ]
    }
   ],
   "source": [
    "%mkdir ../data\n",
    "!wget -O ../data/aclImdb_v1.tar.gz http://ai.stanford.edu/~amaas/data/sentiment/aclImdb_v1.tar.gz\n",
    "!tar -zxf ../data/aclImdb_v1.tar.gz -C ../data"
   ]
  },
  {
   "cell_type": "markdown",
   "metadata": {},
   "source": [
    "## Step 2: Preparing and Processing the data\n",
    "\n",
    "Also, as in the XGBoost notebook, we will be doing some initial data processing. The first few steps are the same as in the XGBoost example. To begin with, we will read in each of the reviews and combine them into a single input structure. Then, we will split the dataset into a training set and a testing set."
   ]
  },
  {
   "cell_type": "code",
   "execution_count": 2,
   "metadata": {},
   "outputs": [],
   "source": [
    "import os\n",
    "import glob\n",
    "\n",
    "def read_imdb_data(data_dir='../data/aclImdb'):\n",
    "    data = {}\n",
    "    labels = {}\n",
    "    \n",
    "    for data_type in ['train', 'test']:\n",
    "        data[data_type] = {}\n",
    "        labels[data_type] = {}\n",
    "        \n",
    "        for sentiment in ['pos', 'neg']:\n",
    "            data[data_type][sentiment] = []\n",
    "            labels[data_type][sentiment] = []\n",
    "            \n",
    "            path = os.path.join(data_dir, data_type, sentiment, '*.txt')\n",
    "            files = glob.glob(path)\n",
    "            \n",
    "            for f in files:\n",
    "                with open(f) as review:\n",
    "                    data[data_type][sentiment].append(review.read())\n",
    "                    # Here we represent a positive review by '1' and a negative review by '0'\n",
    "                    labels[data_type][sentiment].append(1 if sentiment == 'pos' else 0)\n",
    "                    \n",
    "            assert len(data[data_type][sentiment]) == len(labels[data_type][sentiment]), \\\n",
    "                    \"{}/{} data size does not match labels size\".format(data_type, sentiment)\n",
    "                \n",
    "    return data, labels"
   ]
  },
  {
   "cell_type": "code",
   "execution_count": 3,
   "metadata": {},
   "outputs": [
    {
     "name": "stdout",
     "output_type": "stream",
     "text": [
      "IMDB reviews: train = 12500 pos / 12500 neg, test = 12500 pos / 12500 neg\n"
     ]
    }
   ],
   "source": [
    "data, labels = read_imdb_data()\n",
    "print(\"IMDB reviews: train = {} pos / {} neg, test = {} pos / {} neg\".format(\n",
    "            len(data['train']['pos']), len(data['train']['neg']),\n",
    "            len(data['test']['pos']), len(data['test']['neg'])))"
   ]
  },
  {
   "cell_type": "markdown",
   "metadata": {},
   "source": [
    "Now that we've read the raw training and testing data from the downloaded dataset, we will combine the positive and negative reviews and shuffle the resulting records."
   ]
  },
  {
   "cell_type": "code",
   "execution_count": 4,
   "metadata": {},
   "outputs": [],
   "source": [
    "from sklearn.utils import shuffle\n",
    "\n",
    "def prepare_imdb_data(data, labels):\n",
    "    \"\"\"Prepare training and test sets from IMDb movie reviews.\"\"\"\n",
    "    \n",
    "    #Combine positive and negative reviews and labels\n",
    "    data_train = data['train']['pos'] + data['train']['neg']\n",
    "    data_test = data['test']['pos'] + data['test']['neg']\n",
    "    labels_train = labels['train']['pos'] + labels['train']['neg']\n",
    "    labels_test = labels['test']['pos'] + labels['test']['neg']\n",
    "    \n",
    "    #Shuffle reviews and corresponding labels within training and test sets\n",
    "    data_train, labels_train = shuffle(data_train, labels_train)\n",
    "    data_test, labels_test = shuffle(data_test, labels_test)\n",
    "    \n",
    "    # Return a unified training data, test data, training labels, test labets\n",
    "    return data_train, data_test, labels_train, labels_test"
   ]
  },
  {
   "cell_type": "code",
   "execution_count": 5,
   "metadata": {},
   "outputs": [
    {
     "name": "stdout",
     "output_type": "stream",
     "text": [
      "IMDb reviews (combined): train = 25000, test = 25000\n"
     ]
    }
   ],
   "source": [
    "train_X, test_X, train_y, test_y = prepare_imdb_data(data, labels)\n",
    "print(\"IMDb reviews (combined): train = {}, test = {}\".format(len(train_X), len(test_X)))"
   ]
  },
  {
   "cell_type": "markdown",
   "metadata": {},
   "source": [
    "Now that we have our training and testing sets unified and prepared, we should do a quick check and see an example of the data our model will be trained on. This is generally a good idea as it allows you to see how each of the further processing steps affects the reviews and it also ensures that the data has been loaded correctly."
   ]
  },
  {
   "cell_type": "code",
   "execution_count": 6,
   "metadata": {},
   "outputs": [
    {
     "name": "stdout",
     "output_type": "stream",
     "text": [
      "I was expecting to love this movie--film noir, serial killer, dark irony. I was baffled by many choices the characters made (\"Hey, I know they're creepy looking, but let's hook up for a cross-country road trip anyway!\"), found the pacing to be glacial, and the emphasis on moody lighting to take the place of original thought by the director and cinematographer.<br /><br />Thinking about it now, this would have been a much better movie if someone had just run the script through the common sense-o-meter (1992 model) before starting to film...\n",
      "0\n"
     ]
    }
   ],
   "source": [
    "print(train_X[100])\n",
    "print(train_y[100])"
   ]
  },
  {
   "cell_type": "markdown",
   "metadata": {},
   "source": [
    "The first step in processing the reviews is to make sure that any html tags that appear should be removed. In addition we wish to tokenize our input, that way words such as *entertained* and *entertaining* are considered the same with regard to sentiment analysis."
   ]
  },
  {
   "cell_type": "code",
   "execution_count": 7,
   "metadata": {},
   "outputs": [],
   "source": [
    "import nltk\n",
    "from nltk.corpus import stopwords\n",
    "from nltk.stem.porter import *\n",
    "\n",
    "import re\n",
    "from bs4 import BeautifulSoup\n",
    "\n",
    "def review_to_words(review):\n",
    "    nltk.download(\"stopwords\", quiet=True)\n",
    "    stemmer = PorterStemmer()\n",
    "    \n",
    "    text = BeautifulSoup(review, \"html.parser\").get_text() # Remove HTML tags\n",
    "    text = re.sub(r\"[^a-zA-Z0-9]\", \" \", text.lower()) # Convert to lower case\n",
    "    words = text.split() # Split string into words\n",
    "    words = [w for w in words if w not in stopwords.words(\"english\")] # Remove stopwords\n",
    "    words = [PorterStemmer().stem(w) for w in words] # stem\n",
    "    \n",
    "    return words"
   ]
  },
  {
   "cell_type": "markdown",
   "metadata": {},
   "source": [
    "The `review_to_words` method defined above uses `BeautifulSoup` to remove any html tags that appear and uses the `nltk` package to tokenize the reviews. As a check to ensure we know how everything is working, try applying `review_to_words` to one of the reviews in the training set."
   ]
  },
  {
   "cell_type": "code",
   "execution_count": 8,
   "metadata": {},
   "outputs": [
    {
     "data": {
      "text/plain": [
       "['expect',\n",
       " 'love',\n",
       " 'movi',\n",
       " 'film',\n",
       " 'noir',\n",
       " 'serial',\n",
       " 'killer',\n",
       " 'dark',\n",
       " 'ironi',\n",
       " 'baffl',\n",
       " 'mani',\n",
       " 'choic',\n",
       " 'charact',\n",
       " 'made',\n",
       " 'hey',\n",
       " 'know',\n",
       " 'creepi',\n",
       " 'look',\n",
       " 'let',\n",
       " 'hook',\n",
       " 'cross',\n",
       " 'countri',\n",
       " 'road',\n",
       " 'trip',\n",
       " 'anyway',\n",
       " 'found',\n",
       " 'pace',\n",
       " 'glacial',\n",
       " 'emphasi',\n",
       " 'moodi',\n",
       " 'light',\n",
       " 'take',\n",
       " 'place',\n",
       " 'origin',\n",
       " 'thought',\n",
       " 'director',\n",
       " 'cinematograph',\n",
       " 'think',\n",
       " 'would',\n",
       " 'much',\n",
       " 'better',\n",
       " 'movi',\n",
       " 'someon',\n",
       " 'run',\n",
       " 'script',\n",
       " 'common',\n",
       " 'sens',\n",
       " 'meter',\n",
       " '1992',\n",
       " 'model',\n",
       " 'start',\n",
       " 'film']"
      ]
     },
     "execution_count": 8,
     "metadata": {},
     "output_type": "execute_result"
    }
   ],
   "source": [
    "# TODO: Apply review_to_words to a review (train_X[100] or any other review)\n",
    "review_to_words(train_X[100])"
   ]
  },
  {
   "cell_type": "markdown",
   "metadata": {},
   "source": [
    "**Question:** Above we mentioned that `review_to_words` method removes html formatting and allows us to tokenize the words found in a review, for example, converting *entertained* and *entertaining* into *entertain* so that they are treated as though they are the same word. What else, if anything, does this method do to the input?"
   ]
  },
  {
   "cell_type": "markdown",
   "metadata": {},
   "source": [
    "**Answer:** Splits the string into words, it converts everything to lower case, removes punctuation marks to a space, removes HTML tags and it removes the different ending of words to become the same word. "
   ]
  },
  {
   "cell_type": "markdown",
   "metadata": {},
   "source": [
    "The method below applies the `review_to_words` method to each of the reviews in the training and testing datasets. In addition it caches the results. This is because performing this processing step can take a long time. This way if you are unable to complete the notebook in the current session, you can come back without needing to process the data a second time."
   ]
  },
  {
   "cell_type": "code",
   "execution_count": 9,
   "metadata": {},
   "outputs": [],
   "source": [
    "import pickle\n",
    "\n",
    "cache_dir = os.path.join(\"../cache\", \"sentiment_analysis\")  # where to store cache files\n",
    "os.makedirs(cache_dir, exist_ok=True)  # ensure cache directory exists\n",
    "\n",
    "def preprocess_data(data_train, data_test, labels_train, labels_test,\n",
    "                    cache_dir=cache_dir, cache_file=\"preprocessed_data.pkl\"):\n",
    "    \"\"\"Convert each review to words; read from cache if available.\"\"\"\n",
    "\n",
    "    # If cache_file is not None, try to read from it first\n",
    "    cache_data = None\n",
    "    if cache_file is not None:\n",
    "        try:\n",
    "            with open(os.path.join(cache_dir, cache_file), \"rb\") as f:\n",
    "                cache_data = pickle.load(f)\n",
    "            print(\"Read preprocessed data from cache file:\", cache_file)\n",
    "        except:\n",
    "            pass  # unable to read from cache, but that's okay\n",
    "    \n",
    "    # If cache is missing, then do the heavy lifting\n",
    "    if cache_data is None:\n",
    "        # Preprocess training and test data to obtain words for each review\n",
    "        #words_train = list(map(review_to_words, data_train))\n",
    "        #words_test = list(map(review_to_words, data_test))\n",
    "        words_train = [review_to_words(review) for review in data_train]\n",
    "        words_test = [review_to_words(review) for review in data_test]\n",
    "        \n",
    "        # Write to cache file for future runs\n",
    "        if cache_file is not None:\n",
    "            cache_data = dict(words_train=words_train, words_test=words_test,\n",
    "                              labels_train=labels_train, labels_test=labels_test)\n",
    "            with open(os.path.join(cache_dir, cache_file), \"wb\") as f:\n",
    "                pickle.dump(cache_data, f)\n",
    "            print(\"Wrote preprocessed data to cache file:\", cache_file)\n",
    "    else:\n",
    "        # Unpack data loaded from cache file\n",
    "        words_train, words_test, labels_train, labels_test = (cache_data['words_train'],\n",
    "                cache_data['words_test'], cache_data['labels_train'], cache_data['labels_test'])\n",
    "    \n",
    "    return words_train, words_test, labels_train, labels_test"
   ]
  },
  {
   "cell_type": "code",
   "execution_count": 10,
   "metadata": {},
   "outputs": [
    {
     "name": "stdout",
     "output_type": "stream",
     "text": [
      "Read preprocessed data from cache file: preprocessed_data.pkl\n"
     ]
    }
   ],
   "source": [
    "# Preprocess data\n",
    "train_X, test_X, train_y, test_y = preprocess_data(train_X, test_X, train_y, test_y)"
   ]
  },
  {
   "cell_type": "markdown",
   "metadata": {},
   "source": [
    "## Transform the data\n",
    "\n",
    "In the XGBoost notebook we transformed the data from its word representation to a bag-of-words feature representation. For the model we are going to construct in this notebook we will construct a feature representation which is very similar. To start, we will represent each word as an integer. Of course, some of the words that appear in the reviews occur very infrequently and so likely don't contain much information for the purposes of sentiment analysis. The way we will deal with this problem is that we will fix the size of our working vocabulary and we will only include the words that appear most frequently. We will then combine all of the infrequent words into a single category and, in our case, we will label it as `1`.\n",
    "\n",
    "Since we will be using a recurrent neural network, it will be convenient if the length of each review is the same. To do this, we will fix a size for our reviews and then pad short reviews with the category 'no word' (which we will label `0`) and truncate long reviews."
   ]
  },
  {
   "cell_type": "markdown",
   "metadata": {},
   "source": [
    "### (TODO) Create a word dictionary\n",
    "\n",
    "To begin with, we need to construct a way to map words that appear in the reviews to integers. Here we fix the size of our vocabulary (including the 'no word' and 'infrequent' categories) to be `5000` but you may wish to change this to see how it affects the model.\n",
    "\n",
    "> **TODO:** Complete the implementation for the `build_dict()` method below. Note that even though the vocab_size is set to `5000`, we only want to construct a mapping for the most frequently appearing `4998` words. This is because we want to reserve the special labels `0` for 'no word' and `1` for 'infrequent word'."
   ]
  },
  {
   "cell_type": "code",
   "execution_count": 11,
   "metadata": {},
   "outputs": [],
   "source": [
    "import numpy as np\n",
    "from collections import Counter\n",
    "\n",
    "def build_dict(data, vocab_size = 5000):\n",
    "    \"\"\"Construct and return a dictionary mapping each of the most frequently appearing words to a unique integer.\"\"\"\n",
    "    \n",
    "    # TODO: Determine how often each word appears in `data`. Note that `data` is a list of sentences and that a\n",
    "    #       sentence is a list of words.\n",
    "    word_count = Counter(np.concatenate(data,axis=0)) # A dict storing the words that appear in the reviews along with how often they occur\n",
    "    \n",
    "    # TODO: Sort the words found in `data` so that sorted_words[0] is the most frequently appearing word and\n",
    "    #       sorted_words[-1] is the least frequently appearing word.\n",
    "    sorted_words = sorted(word_count, key=word_count.get, reverse=True)\n",
    "    word_dict = {} # This is what we are building, a dictionary that translates words into integers\n",
    "    for idx, word in enumerate(sorted_words[:vocab_size - 2]): # The -2 is so that we save room for the 'no word'\n",
    "        word_dict[word] = idx + 2                              # 'infrequent' labels\n",
    "        \n",
    "    return word_dict"
   ]
  },
  {
   "cell_type": "code",
   "execution_count": 12,
   "metadata": {},
   "outputs": [],
   "source": [
    "word_dict = build_dict(train_X)"
   ]
  },
  {
   "cell_type": "markdown",
   "metadata": {},
   "source": [
    "**Question:** What are the five most frequently appearing (tokenized) words in the training set? Does it makes sense that these words appear frequently in the training set?"
   ]
  },
  {
   "cell_type": "markdown",
   "metadata": {},
   "source": [
    "**Answer:** As we can see below, the 5 most frequently appearing words are movie, film, one, like and time. Most of them don't have impact on the review being positive or negative."
   ]
  },
  {
   "cell_type": "code",
   "execution_count": 13,
   "metadata": {},
   "outputs": [
    {
     "name": "stdout",
     "output_type": "stream",
     "text": [
      "{'movi': 2, 'film': 3, 'one': 4, 'like': 5, 'time': 6, 'good': 7, 'make': 8, 'charact': 9, 'get': 10, 'see': 11, 'watch': 12, 'stori': 13, 'even': 14, 'would': 15, 'realli': 16, 'well': 17, 'scene': 18, 'look': 19, 'show': 20, 'much': 21, 'end': 22, 'peopl': 23, 'bad': 24, 'go': 25, 'great': 26, 'also': 27, 'first': 28, 'love': 29, 'think': 30, 'way': 31, 'act': 32, 'play': 33, 'made': 34, 'thing': 35, 'could': 36, 'know': 37, 'say': 38, 'seem': 39, 'work': 40, 'plot': 41, 'two': 42, 'actor': 43, 'year': 44, 'come': 45, 'mani': 46, 'seen': 47, 'take': 48, 'want': 49, 'life': 50, 'never': 51, 'littl': 52, 'best': 53, 'tri': 54, 'man': 55, 'ever': 56, 'give': 57, 'better': 58, 'still': 59, 'perform': 60, 'find': 61, 'feel': 62, 'part': 63, 'back': 64, 'use': 65, 'someth': 66, 'director': 67, 'actual': 68, 'interest': 69, 'lot': 70, 'real': 71, 'old': 72, 'cast': 73, 'though': 74, 'live': 75, 'star': 76, 'enjoy': 77, 'guy': 78, 'anoth': 79, 'new': 80, 'role': 81, 'noth': 82, '10': 83, 'funni': 84, 'music': 85, 'point': 86, 'start': 87, 'set': 88, 'girl': 89, 'origin': 90, 'day': 91, 'world': 92, 'everi': 93, 'believ': 94, 'turn': 95, 'quit': 96, 'direct': 97, 'us': 98, 'thought': 99, 'fact': 100, 'minut': 101, 'horror': 102, 'kill': 103, 'action': 104, 'comedi': 105, 'pretti': 106, 'young': 107, 'wonder': 108, 'happen': 109, 'around': 110, 'got': 111, 'effect': 112, 'right': 113, 'long': 114, 'howev': 115, 'big': 116, 'line': 117, 'famili': 118, 'enough': 119, 'seri': 120, 'may': 121, 'need': 122, 'fan': 123, 'bit': 124, 'script': 125, 'beauti': 126, 'person': 127, 'becom': 128, 'without': 129, 'must': 130, 'alway': 131, 'friend': 132, 'tell': 133, 'reason': 134, 'saw': 135, 'last': 136, 'final': 137, 'kid': 138, 'almost': 139, 'put': 140, 'least': 141, 'sure': 142, 'done': 143, 'whole': 144, 'place': 145, 'complet': 146, 'kind': 147, 'expect': 148, 'differ': 149, 'shot': 150, 'far': 151, 'mean': 152, 'anyth': 153, 'book': 154, 'laugh': 155, 'might': 156, 'name': 157, 'sinc': 158, 'begin': 159, '2': 160, 'probabl': 161, 'woman': 162, 'help': 163, 'entertain': 164, 'let': 165, 'screen': 166, 'call': 167, 'tv': 168, 'moment': 169, 'away': 170, 'read': 171, 'yet': 172, 'rather': 173, 'worst': 174, 'run': 175, 'fun': 176, 'lead': 177, 'hard': 178, 'audienc': 179, 'idea': 180, 'anyon': 181, 'episod': 182, 'american': 183, 'found': 184, 'appear': 185, 'bore': 186, 'especi': 187, 'although': 188, 'hope': 189, 'keep': 190, 'cours': 191, 'anim': 192, 'job': 193, 'goe': 194, 'move': 195, 'sens': 196, 'version': 197, 'dvd': 198, 'war': 199, 'money': 200, 'someon': 201, 'mind': 202, 'mayb': 203, 'problem': 204, 'true': 205, 'hous': 206, 'everyth': 207, 'nice': 208, 'second': 209, 'rate': 210, 'three': 211, 'night': 212, 'follow': 213, 'face': 214, 'recommend': 215, 'main': 216, 'product': 217, 'worth': 218, 'leav': 219, 'human': 220, 'special': 221, 'excel': 222, 'togeth': 223, 'wast': 224, 'sound': 225, 'everyon': 226, 'john': 227, 'hand': 228, '1': 229, 'father': 230, 'later': 231, 'eye': 232, 'said': 233, 'view': 234, 'instead': 235, 'review': 236, 'boy': 237, 'high': 238, 'hour': 239, 'miss': 240, 'classic': 241, 'talk': 242, 'wife': 243, 'understand': 244, 'left': 245, 'care': 246, 'black': 247, 'death': 248, 'open': 249, 'murder': 250, 'write': 251, 'half': 252, 'head': 253, 'rememb': 254, 'chang': 255, 'viewer': 256, 'fight': 257, 'gener': 258, 'surpris': 259, 'short': 260, 'includ': 261, 'die': 262, 'fall': 263, 'less': 264, 'els': 265, 'entir': 266, 'piec': 267, 'involv': 268, 'pictur': 269, 'simpli': 270, 'top': 271, 'home': 272, 'power': 273, 'total': 274, 'usual': 275, 'budget': 276, 'attempt': 277, 'suppos': 278, 'releas': 279, 'hollywood': 280, 'terribl': 281, 'song': 282, 'men': 283, 'possibl': 284, 'featur': 285, 'portray': 286, 'disappoint': 287, 'poor': 288, '3': 289, 'coupl': 290, 'stupid': 291, 'camera': 292, 'dead': 293, 'wrong': 294, 'low': 295, 'produc': 296, 'video': 297, 'either': 298, 'aw': 299, 'definit': 300, 'except': 301, 'rest': 302, 'given': 303, 'absolut': 304, 'women': 305, 'lack': 306, 'word': 307, 'writer': 308, 'titl': 309, 'talent': 310, 'decid': 311, 'full': 312, 'perfect': 313, 'along': 314, 'style': 315, 'close': 316, 'truli': 317, 'school': 318, 'emot': 319, 'save': 320, 'sex': 321, 'age': 322, 'next': 323, 'bring': 324, 'mr': 325, 'case': 326, 'killer': 327, 'heart': 328, 'comment': 329, 'sort': 330, 'creat': 331, 'perhap': 332, 'came': 333, 'brother': 334, 'sever': 335, 'joke': 336, 'art': 337, 'dialogu': 338, 'game': 339, 'small': 340, 'base': 341, 'flick': 342, 'written': 343, 'sequenc': 344, 'meet': 345, 'earli': 346, 'often': 347, 'other': 348, 'mother': 349, 'develop': 350, 'humor': 351, 'actress': 352, 'consid': 353, 'dark': 354, 'guess': 355, 'amaz': 356, 'unfortun': 357, 'lost': 358, 'light': 359, 'exampl': 360, 'cinema': 361, 'drama': 362, 'ye': 363, 'white': 364, 'experi': 365, 'imagin': 366, 'mention': 367, 'stop': 368, 'natur': 369, 'forc': 370, 'manag': 371, 'felt': 372, 'cut': 373, 'present': 374, 'children': 375, 'fail': 376, 'son': 377, 'qualiti': 378, 'support': 379, 'car': 380, 'ask': 381, 'hit': 382, 'side': 383, 'voic': 384, 'extrem': 385, 'impress': 386, 'wors': 387, 'evil': 388, 'went': 389, 'stand': 390, 'certainli': 391, 'basic': 392, 'oh': 393, 'overal': 394, 'favorit': 395, 'horribl': 396, 'mysteri': 397, 'number': 398, 'type': 399, 'danc': 400, 'wait': 401, 'hero': 402, '5': 403, 'alreadi': 404, 'learn': 405, 'matter': 406, '4': 407, 'michael': 408, 'genr': 409, 'fine': 410, 'despit': 411, 'throughout': 412, 'walk': 413, 'success': 414, 'histori': 415, 'question': 416, 'zombi': 417, 'town': 418, 'relationship': 419, 'realiz': 420, 'past': 421, 'child': 422, 'daughter': 423, 'late': 424, 'b': 425, 'wish': 426, 'credit': 427, 'hate': 428, 'event': 429, 'theme': 430, 'touch': 431, 'citi': 432, 'today': 433, 'sometim': 434, 'behind': 435, 'god': 436, 'twist': 437, 'sit': 438, 'deal': 439, 'annoy': 440, 'stay': 441, 'abl': 442, 'rent': 443, 'pleas': 444, 'edit': 445, 'blood': 446, 'deserv': 447, 'anyway': 448, 'comic': 449, 'appar': 450, 'soon': 451, 'gave': 452, 'etc': 453, 'level': 454, 'slow': 455, 'chanc': 456, 'score': 457, 'bodi': 458, 'brilliant': 459, 'incred': 460, 'figur': 461, 'situat': 462, 'major': 463, 'self': 464, 'stuff': 465, 'decent': 466, 'element': 467, 'return': 468, 'dream': 469, 'obvious': 470, 'order': 471, 'continu': 472, 'pace': 473, 'ridicul': 474, 'happi': 475, 'highli': 476, 'add': 477, 'group': 478, 'thank': 479, 'ladi': 480, 'novel': 481, 'speak': 482, 'pain': 483, 'career': 484, 'shoot': 485, 'strang': 486, 'heard': 487, 'sad': 488, 'husband': 489, 'polic': 490, 'import': 491, 'break': 492, 'took': 493, 'cannot': 494, 'strong': 495, 'robert': 496, 'predict': 497, 'violenc': 498, 'hilari': 499, 'recent': 500, 'countri': 501, 'known': 502, 'particularli': 503, 'pick': 504, 'documentari': 505, 'season': 506, 'critic': 507, 'jame': 508, 'compar': 509, 'obviou': 510, 'alon': 511, 'told': 512, 'state': 513, 'rock': 514, 'visual': 515, 'theater': 516, 'offer': 517, 'exist': 518, 'opinion': 519, 'gore': 520, 'hold': 521, 'crap': 522, 'result': 523, 'room': 524, 'hear': 525, 'realiti': 526, 'effort': 527, 'clich': 528, 'thriller': 529, 'caus': 530, 'sequel': 531, 'serious': 532, 'explain': 533, 'king': 534, 'local': 535, 'ago': 536, 'none': 537, 'hell': 538, 'note': 539, 'allow': 540, 'sister': 541, 'david': 542, 'simpl': 543, 'femal': 544, 'deliv': 545, 'ok': 546, 'convinc': 547, 'class': 548, 'check': 549, 'suspens': 550, 'win': 551, 'buy': 552, 'oscar': 553, 'huge': 554, 'valu': 555, 'sexual': 556, 'cool': 557, 'scari': 558, 'excit': 559, 'similar': 560, 'exactli': 561, 'apart': 562, 'provid': 563, 'avoid': 564, 'shown': 565, 'seriou': 566, 'english': 567, 'taken': 568, 'whose': 569, 'cinematographi': 570, 'shock': 571, 'polit': 572, 'spoiler': 573, 'offic': 574, 'across': 575, 'middl': 576, 'pass': 577, 'street': 578, 'messag': 579, 'somewhat': 580, 'charm': 581, 'silli': 582, 'modern': 583, 'confus': 584, 'filmmak': 585, 'form': 586, 'tale': 587, 'singl': 588, 'jack': 589, 'mostli': 590, 'william': 591, 'attent': 592, 'carri': 593, 'sing': 594, 'subject': 595, 'five': 596, 'prove': 597, 'richard': 598, 'stage': 599, 'team': 600, 'cop': 601, 'unlik': 602, 'georg': 603, 'televis': 604, 'monster': 605, 'earth': 606, 'cover': 607, 'villain': 608, 'pay': 609, 'marri': 610, 'toward': 611, 'build': 612, 'pull': 613, 'parent': 614, 'due': 615, 'respect': 616, 'fill': 617, 'dialog': 618, 'four': 619, 'remind': 620, 'futur': 621, 'weak': 622, 'typic': 623, '7': 624, 'cheap': 625, 'intellig': 626, 'british': 627, 'atmospher': 628, 'clearli': 629, '80': 630, 'paul': 631, 'non': 632, 'dog': 633, '8': 634, 'knew': 635, 'fast': 636, 'artist': 637, 'crime': 638, 'easili': 639, 'escap': 640, 'doubt': 641, 'adult': 642, 'detail': 643, 'date': 644, 'fire': 645, 'member': 646, 'romant': 647, 'drive': 648, 'gun': 649, 'straight': 650, 'beyond': 651, 'fit': 652, 'attack': 653, 'imag': 654, 'upon': 655, 'posit': 656, 'whether': 657, 'peter': 658, 'fantast': 659, 'appreci': 660, 'aspect': 661, 'captur': 662, 'ten': 663, 'plan': 664, 'discov': 665, 'remain': 666, 'period': 667, 'near': 668, 'realist': 669, 'air': 670, 'mark': 671, 'red': 672, 'dull': 673, 'adapt': 674, 'within': 675, 'lose': 676, 'spend': 677, 'materi': 678, 'color': 679, 'chase': 680, 'mari': 681, 'storylin': 682, 'forget': 683, 'bunch': 684, 'clear': 685, 'lee': 686, 'victim': 687, 'nearli': 688, 'box': 689, 'york': 690, 'inspir': 691, 'match': 692, 'finish': 693, 'mess': 694, 'standard': 695, 'easi': 696, 'truth': 697, 'suffer': 698, 'busi': 699, 'bill': 700, 'space': 701, 'dramat': 702, 'western': 703, 'e': 704, 'list': 705, 'battl': 706, 'notic': 707, 'de': 708, 'french': 709, 'ad': 710, '9': 711, 'tom': 712, 'larg': 713, 'among': 714, 'eventu': 715, 'train': 716, 'accept': 717, 'agre': 718, 'soundtrack': 719, 'spirit': 720, 'third': 721, 'teenag': 722, 'adventur': 723, 'soldier': 724, 'suggest': 725, 'famou': 726, 'sorri': 727, 'drug': 728, 'normal': 729, 'babi': 730, 'cri': 731, 'troubl': 732, 'ultim': 733, 'contain': 734, 'certain': 735, 'cultur': 736, 'romanc': 737, 'rare': 738, 'lame': 739, 'somehow': 740, 'disney': 741, 'mix': 742, 'gone': 743, 'cartoon': 744, 'student': 745, 'reveal': 746, 'fear': 747, 'kept': 748, 'suck': 749, 'attract': 750, 'appeal': 751, 'premis': 752, 'greatest': 753, 'secret': 754, 'design': 755, 'shame': 756, 'throw': 757, 'copi': 758, 'scare': 759, 'wit': 760, 'admit': 761, 'america': 762, 'particular': 763, 'relat': 764, 'brought': 765, 'screenplay': 766, 'whatev': 767, 'pure': 768, '70': 769, 'averag': 770, 'harri': 771, 'master': 772, 'describ': 773, 'treat': 774, 'male': 775, '20': 776, 'fantasi': 777, 'issu': 778, 'warn': 779, 'inde': 780, 'background': 781, 'forward': 782, 'free': 783, 'project': 784, 'japanes': 785, 'memor': 786, 'poorli': 787, 'award': 788, 'locat': 789, 'amus': 790, 'potenti': 791, 'struggl': 792, 'magic': 793, 'weird': 794, 'societi': 795, 'okay': 796, 'doctor': 797, 'imdb': 798, 'accent': 799, 'hot': 800, 'water': 801, 'express': 802, '30': 803, 'dr': 804, 'alien': 805, 'odd': 806, 'choic': 807, 'crazi': 808, 'studio': 809, 'fiction': 810, 'control': 811, 'becam': 812, 'masterpiec': 813, 'fli': 814, 'difficult': 815, 'joe': 816, 'scream': 817, 'costum': 818, 'lover': 819, 'uniqu': 820, 'refer': 821, 'remak': 822, 'girlfriend': 823, 'vampir': 824, 'prison': 825, 'execut': 826, 'wear': 827, 'jump': 828, 'unless': 829, 'wood': 830, 'creepi': 831, 'cheesi': 832, 'superb': 833, 'otherwis': 834, 'parti': 835, 'roll': 836, 'ghost': 837, 'mad': 838, 'public': 839, 'depict': 840, 'earlier': 841, 'jane': 842, 'badli': 843, 'moral': 844, 'week': 845, 'fi': 846, 'dumb': 847, 'flaw': 848, 'grow': 849, 'deep': 850, 'sci': 851, 'cat': 852, 'maker': 853, 'footag': 854, 'connect': 855, 'older': 856, 'bother': 857, 'plenti': 858, 'outsid': 859, 'stick': 860, 'gay': 861, 'catch': 862, 'co': 863, 'plu': 864, 'popular': 865, 'equal': 866, 'social': 867, 'quickli': 868, 'disturb': 869, 'perfectli': 870, 'dress': 871, 'era': 872, '90': 873, 'mistak': 874, 'lie': 875, 'ride': 876, 'previou': 877, 'combin': 878, 'concept': 879, 'band': 880, 'rich': 881, 'surviv': 882, 'answer': 883, 'front': 884, 'sweet': 885, 'christma': 886, 'insid': 887, 'eat': 888, 'bare': 889, 'concern': 890, 'listen': 891, 'beat': 892, 'ben': 893, 'c': 894, 'serv': 895, 'term': 896, 'la': 897, 'german': 898, 'meant': 899, 'hardli': 900, 'stereotyp': 901, 'innoc': 902, 'law': 903, 'desper': 904, 'promis': 905, 'memori': 906, 'cute': 907, 'intent': 908, 'steal': 909, 'inform': 910, 'variou': 911, 'brain': 912, 'post': 913, 'tone': 914, 'island': 915, 'amount': 916, 'compani': 917, 'track': 918, 'nuditi': 919, 'store': 920, 'claim': 921, 'hair': 922, 'flat': 923, '50': 924, 'land': 925, 'univers': 926, 'danger': 927, 'scott': 928, 'fairli': 929, 'kick': 930, 'player': 931, 'plain': 932, 'step': 933, 'crew': 934, 'toni': 935, 'share': 936, 'tast': 937, 'centuri': 938, 'achiev': 939, 'engag': 940, 'travel': 941, 'cold': 942, 'record': 943, 'rip': 944, 'suit': 945, 'manner': 946, 'sadli': 947, 'wrote': 948, 'spot': 949, 'tension': 950, 'fascin': 951, 'intens': 952, 'familiar': 953, 'remark': 954, 'depth': 955, 'burn': 956, 'destroy': 957, 'histor': 958, 'sleep': 959, 'purpos': 960, 'languag': 961, 'ignor': 962, 'ruin': 963, 'delight': 964, 'italian': 965, 'unbeliev': 966, 'collect': 967, 'abil': 968, 'soul': 969, 'detect': 970, 'clever': 971, 'violent': 972, 'rape': 973, 'reach': 974, 'door': 975, 'scienc': 976, 'liter': 977, 'trash': 978, 'commun': 979, 'reveng': 980, 'caught': 981, 'creatur': 982, 'trip': 983, 'approach': 984, 'fashion': 985, 'intrigu': 986, 'introduc': 987, 'skill': 988, 'paint': 989, 'channel': 990, 'complex': 991, 'camp': 992, 'christian': 993, 'extra': 994, 'hole': 995, 'immedi': 996, 'limit': 997, 'mental': 998, 'ann': 999, 'comput': 1000, 'million': 1001, 'slightli': 1002, 'mere': 1003, '6': 1004, 'conclus': 1005, 'slasher': 1006, 'imposs': 1007, 'suddenli': 1008, 'crimin': 1009, 'teen': 1010, 'neither': 1011, 'physic': 1012, 'nation': 1013, 'spent': 1014, 'respons': 1015, 'planet': 1016, 'fake': 1017, 'receiv': 1018, 'sick': 1019, 'blue': 1020, 'bizarr': 1021, 'embarrass': 1022, 'indian': 1023, 'ring': 1024, '15': 1025, 'drop': 1026, 'pop': 1027, 'drag': 1028, 'haunt': 1029, 'pointless': 1030, 'suspect': 1031, 'edg': 1032, 'search': 1033, 'handl': 1034, 'biggest': 1035, 'common': 1036, 'arriv': 1037, 'hurt': 1038, 'faith': 1039, 'technic': 1040, 'angel': 1041, 'dad': 1042, 'genuin': 1043, 'solid': 1044, 'f': 1045, 'awesom': 1046, 'van': 1047, 'colleg': 1048, 'former': 1049, 'focu': 1050, 'count': 1051, 'tear': 1052, 'heavi': 1053, 'wall': 1054, 'rais': 1055, 'visit': 1056, 'younger': 1057, 'laughabl': 1058, 'fair': 1059, 'sign': 1060, 'excus': 1061, 'cult': 1062, 'motion': 1063, 'tough': 1064, 'key': 1065, 'desir': 1066, 'super': 1067, 'addit': 1068, 'stun': 1069, 'cloth': 1070, 'exploit': 1071, 'smith': 1072, 'tortur': 1073, 'race': 1074, 'davi': 1075, 'author': 1076, 'cross': 1077, 'jim': 1078, 'consist': 1079, 'minor': 1080, 'compel': 1081, 'focus': 1082, 'pathet': 1083, 'chemistri': 1084, 'commit': 1085, 'park': 1086, 'frank': 1087, 'obsess': 1088, 'tradit': 1089, 'grade': 1090, '60': 1091, 'asid': 1092, 'brutal': 1093, 'steve': 1094, 'somewher': 1095, 'depress': 1096, 'grant': 1097, 'u': 1098, 'opportun': 1099, 'explor': 1100, 'rule': 1101, 'besid': 1102, 'honest': 1103, 'anti': 1104, 'dub': 1105, 'intend': 1106, 'trailer': 1107, 'bar': 1108, 'scientist': 1109, 'west': 1110, 'regard': 1111, 'longer': 1112, 'judg': 1113, 'decad': 1114, 'silent': 1115, 'armi': 1116, 'creativ': 1117, 'wild': 1118, 'g': 1119, 'south': 1120, 'stewart': 1121, 'draw': 1122, 'road': 1123, 'govern': 1124, 'ex': 1125, 'boss': 1126, 'practic': 1127, 'festiv': 1128, 'gang': 1129, 'motiv': 1130, 'surprisingli': 1131, 'club': 1132, 'london': 1133, 'redeem': 1134, 'green': 1135, 'page': 1136, 'display': 1137, 'machin': 1138, 'militari': 1139, 'idiot': 1140, 'aliv': 1141, 'thrill': 1142, 'repeat': 1143, '100': 1144, 'folk': 1145, 'yeah': 1146, 'nobodi': 1147, '40': 1148, 'garbag': 1149, 'journey': 1150, 'smile': 1151, 'ground': 1152, 'tire': 1153, 'bought': 1154, 'mood': 1155, 'stone': 1156, 'cost': 1157, 'sam': 1158, 'mouth': 1159, 'noir': 1160, 'terrif': 1161, 'agent': 1162, 'requir': 1163, 'utterli': 1164, 'sexi': 1165, 'area': 1166, 'honestli': 1167, 'report': 1168, 'geniu': 1169, 'investig': 1170, 'enter': 1171, 'glad': 1172, 'humour': 1173, 'serial': 1174, 'occasion': 1175, 'narr': 1176, 'passion': 1177, 'marriag': 1178, 'climax': 1179, 'studi': 1180, 'industri': 1181, 'nowher': 1182, 'charli': 1183, 'demon': 1184, 'center': 1185, 'ship': 1186, 'bear': 1187, 'hors': 1188, 'loos': 1189, 'hang': 1190, 'wow': 1191, 'graphic': 1192, 'giant': 1193, 'admir': 1194, 'send': 1195, 'damn': 1196, 'loud': 1197, 'subtl': 1198, 'profession': 1199, 'rel': 1200, 'nake': 1201, 'blow': 1202, 'bottom': 1203, 'insult': 1204, 'batman': 1205, 'kelli': 1206, 'boyfriend': 1207, 'doubl': 1208, 'r': 1209, 'initi': 1210, 'frame': 1211, 'opera': 1212, 'gem': 1213, 'affect': 1214, 'drawn': 1215, 'cinemat': 1216, 'challeng': 1217, 'church': 1218, 'seek': 1219, 'fulli': 1220, 'evid': 1221, 'j': 1222, 'l': 1223, 'nightmar': 1224, 'conflict': 1225, 'arm': 1226, 'essenti': 1227, 'wind': 1228, 'christoph': 1229, 'henri': 1230, 'grace': 1231, 'assum': 1232, 'witch': 1233, 'narrat': 1234, 'push': 1235, 'hunt': 1236, 'chri': 1237, 'wise': 1238, 'repres': 1239, 'month': 1240, 'nomin': 1241, 'affair': 1242, 'avail': 1243, 'sceneri': 1244, 'hide': 1245, 'thu': 1246, 'smart': 1247, 'bond': 1248, 'justic': 1249, 'outstand': 1250, 'interview': 1251, 'flashback': 1252, 'satisfi': 1253, 'presenc': 1254, 'constantli': 1255, 'bed': 1256, 'central': 1257, 'content': 1258, 'sell': 1259, 'iron': 1260, 'everybodi': 1261, 'gag': 1262, 'hotel': 1263, 'slowli': 1264, 'hire': 1265, 'system': 1266, 'hey': 1267, 'adam': 1268, 'individu': 1269, 'thrown': 1270, 'charl': 1271, 'jone': 1272, 'mediocr': 1273, 'allen': 1274, 'ray': 1275, 'billi': 1276, 'lesson': 1277, 'cameo': 1278, 'photographi': 1279, 'fellow': 1280, 'pari': 1281, 'strike': 1282, 'independ': 1283, 'rise': 1284, 'brief': 1285, 'absurd': 1286, 'neg': 1287, 'phone': 1288, 'impact': 1289, 'model': 1290, 'born': 1291, 'ill': 1292, 'fresh': 1293, 'spoil': 1294, 'angl': 1295, 'abus': 1296, 'likabl': 1297, 'discuss': 1298, 'hill': 1299, 'sight': 1300, 'ahead': 1301, 'sent': 1302, 'photograph': 1303, 'occur': 1304, 'blame': 1305, 'logic': 1306, 'shine': 1307, 'mainli': 1308, 'bruce': 1309, 'skip': 1310, 'commerci': 1311, 'forev': 1312, 'held': 1313, 'surround': 1314, 'teacher': 1315, 'segment': 1316, 'zero': 1317, 'blond': 1318, 'resembl': 1319, 'trap': 1320, 'summer': 1321, 'satir': 1322, 'six': 1323, 'queen': 1324, 'ball': 1325, 'fool': 1326, 'tragedi': 1327, 'sub': 1328, 'twice': 1329, 'pack': 1330, 'reaction': 1331, 'bomb': 1332, 'will': 1333, 'protagonist': 1334, 'hospit': 1335, 'sport': 1336, 'mile': 1337, 'vote': 1338, 'mom': 1339, 'trust': 1340, 'drink': 1341, 'jerri': 1342, 'encount': 1343, 'plane': 1344, 'station': 1345, 'program': 1346, 'current': 1347, 'al': 1348, 'celebr': 1349, 'martin': 1350, 'choos': 1351, 'join': 1352, 'round': 1353, 'tragic': 1354, 'favourit': 1355, 'lord': 1356, 'field': 1357, 'vision': 1358, 'jean': 1359, 'robot': 1360, 'tie': 1361, 'arthur': 1362, 'roger': 1363, 'random': 1364, 'fortun': 1365, 'dread': 1366, 'psycholog': 1367, 'intern': 1368, 'epic': 1369, 'prefer': 1370, 'nonsens': 1371, 'improv': 1372, 'pleasur': 1373, 'formula': 1374, 'legend': 1375, 'highlight': 1376, 'tape': 1377, 'dollar': 1378, '11': 1379, 'object': 1380, 'porn': 1381, 'thin': 1382, 'gorgeou': 1383, 'fox': 1384, 'wide': 1385, 'influenc': 1386, 'ugli': 1387, 'buddi': 1388, 'ii': 1389, 'nasti': 1390, 'prepar': 1391, 'progress': 1392, 'warm': 1393, 'supposedli': 1394, 'reflect': 1395, 'worthi': 1396, 'youth': 1397, 'length': 1398, 'latter': 1399, 'unusu': 1400, 'crash': 1401, 'superior': 1402, 'seven': 1403, 'shop': 1404, 'childhood': 1405, 'theatr': 1406, 'remot': 1407, 'funniest': 1408, 'disgust': 1409, 'paid': 1410, 'pilot': 1411, 'trick': 1412, 'convers': 1413, 'fell': 1414, 'castl': 1415, 'establish': 1416, 'disast': 1417, 'rob': 1418, 'gangster': 1419, 'disappear': 1420, 'mine': 1421, 'heaven': 1422, 'suicid': 1423, 'ident': 1424, 'heroin': 1425, 'decis': 1426, 'tend': 1427, 'singer': 1428, 'forgotten': 1429, 'mask': 1430, 'brian': 1431, 'partner': 1432, 'desert': 1433, 'alan': 1434, 'recogn': 1435, 'ms': 1436, 'sky': 1437, 'p': 1438, 'stuck': 1439, 'thoroughli': 1440, 'accur': 1441, 'replac': 1442, 'market': 1443, 'danni': 1444, 'uncl': 1445, 'seemingli': 1446, 'commentari': 1447, 'clue': 1448, 'eddi': 1449, 'andi': 1450, 'devil': 1451, 'jackson': 1452, 'therefor': 1453, 'refus': 1454, 'that': 1455, 'pair': 1456, 'accid': 1457, 'fault': 1458, 'river': 1459, 'ed': 1460, 'fate': 1461, 'unit': 1462, 'tune': 1463, 'afraid': 1464, 'clean': 1465, 'stephen': 1466, 'russian': 1467, 'hidden': 1468, 'captain': 1469, 'instanc': 1470, 'convey': 1471, 'test': 1472, 'readi': 1473, 'quick': 1474, 'irrit': 1475, 'european': 1476, 'daniel': 1477, 'frustrat': 1478, 'insan': 1479, 'chines': 1480, '1950': 1481, 'wed': 1482, 'rescu': 1483, 'food': 1484, 'angri': 1485, 'lock': 1486, 'dirti': 1487, 'joy': 1488, 'steven': 1489, 'price': 1490, 'bland': 1491, 'cage': 1492, 'anymor': 1493, 'rang': 1494, 'wooden': 1495, 'news': 1496, 'n': 1497, 'jason': 1498, 'rush': 1499, 'led': 1500, '12': 1501, 'board': 1502, 'worri': 1503, 'twenti': 1504, 'martial': 1505, 'transform': 1506, 'symbol': 1507, 'hunter': 1508, 'cgi': 1509, 'invent': 1510, 'sentiment': 1511, 'piti': 1512, 'johnni': 1513, 'x': 1514, 'onto': 1515, 'explan': 1516, 'attitud': 1517, 'process': 1518, 'awar': 1519, 'owner': 1520, 'aim': 1521, 'floor': 1522, 'necessari': 1523, 'target': 1524, 'energi': 1525, 'favor': 1526, 'opposit': 1527, 'religi': 1528, 'insight': 1529, 'window': 1530, 'blind': 1531, 'chick': 1532, 'movement': 1533, 'deepli': 1534, 'mountain': 1535, 'research': 1536, 'comparison': 1537, 'possess': 1538, 'whatsoev': 1539, 'comed': 1540, 'rain': 1541, 'grand': 1542, 'mid': 1543, 'bank': 1544, 'began': 1545, 'shadow': 1546, 'parodi': 1547, 'princ': 1548, 'credibl': 1549, 'friendship': 1550, 'taylor': 1551, 'pre': 1552, 'weapon': 1553, 'dougla': 1554, 'teach': 1555, 'flesh': 1556, 'hint': 1557, 'protect': 1558, 'terror': 1559, 'bloodi': 1560, 'marvel': 1561, 'accord': 1562, 'superman': 1563, 'drunk': 1564, 'anybodi': 1565, 'load': 1566, 'watchabl': 1567, 'leader': 1568, 'brown': 1569, 'freddi': 1570, 'jeff': 1571, 'seat': 1572, 'appropri': 1573, 'hitler': 1574, 'tim': 1575, 'knock': 1576, 'villag': 1577, 'charg': 1578, 'keaton': 1579, 'unknown': 1580, 'unnecessari': 1581, 'enemi': 1582, 'media': 1583, 'england': 1584, 'empti': 1585, 'utter': 1586, 'buck': 1587, 'perspect': 1588, 'strength': 1589, 'dare': 1590, 'wave': 1591, 'craft': 1592, 'correct': 1593, 'nativ': 1594, 'kiss': 1595, 'contrast': 1596, 'ford': 1597, 'soap': 1598, 'knowledg': 1599, 'chill': 1600, 'magnific': 1601, 'distract': 1602, 'anywher': 1603, 'speed': 1604, 'nazi': 1605, 'mission': 1606, 'ice': 1607, 'breath': 1608, 'fred': 1609, '1980': 1610, 'jr': 1611, 'moon': 1612, 'crowd': 1613, 'joan': 1614, 'frighten': 1615, '000': 1616, 'kate': 1617, 'soft': 1618, 'dick': 1619, 'nick': 1620, 'dan': 1621, 'hundr': 1622, 'somebodi': 1623, 'simon': 1624, 'radio': 1625, 'dozen': 1626, 'shakespear': 1627, 'academi': 1628, 'loss': 1629, 'thousand': 1630, 'andrew': 1631, 'account': 1632, 'sum': 1633, 'quot': 1634, 'root': 1635, 'vehicl': 1636, 'behavior': 1637, '1970': 1638, 'leg': 1639, 'convent': 1640, 'regular': 1641, 'gold': 1642, 'compet': 1643, 'demand': 1644, 'pretenti': 1645, 'worker': 1646, 'interpret': 1647, 'explos': 1648, 'notabl': 1649, 'lynch': 1650, 'stretch': 1651, 'candi': 1652, 'privat': 1653, 'japan': 1654, 'constant': 1655, 'debut': 1656, 'tarzan': 1657, 'sea': 1658, 'spi': 1659, 'prais': 1660, 'revolv': 1661, 'translat': 1662, 'threaten': 1663, 'technolog': 1664, 'sat': 1665, 'jesu': 1666, 'franc': 1667, 'ass': 1668, 'quiet': 1669, 'failur': 1670, 'toy': 1671, 'met': 1672, 'aid': 1673, 'kevin': 1674, 'punch': 1675, 'higher': 1676, 'interact': 1677, 'abandon': 1678, 'mike': 1679, 'vh': 1680, 'bet': 1681, 'confront': 1682, 'separ': 1683, 'command': 1684, 'recal': 1685, 'site': 1686, 'stunt': 1687, 'techniqu': 1688, 'gotten': 1689, 'belong': 1690, 'servic': 1691, 'freak': 1692, 'foot': 1693, 'bug': 1694, 'cabl': 1695, 'fu': 1696, 'capabl': 1697, 'african': 1698, 'jimmi': 1699, 'bright': 1700, 'presid': 1701, 'clark': 1702, 'fat': 1703, 'boat': 1704, 'stock': 1705, 'succeed': 1706, 'spanish': 1707, 'structur': 1708, 'gene': 1709, 'paper': 1710, 'kidnap': 1711, 'belief': 1712, 'factor': 1713, 'whilst': 1714, 'attend': 1715, 'bob': 1716, 'complic': 1717, 'tree': 1718, 'witti': 1719, 'educ': 1720, 'realis': 1721, 'realism': 1722, 'assist': 1723, 'finest': 1724, 'broken': 1725, 'santa': 1726, 'depart': 1727, 'smoke': 1728, 'determin': 1729, 'v': 1730, 'up': 1731, 'observ': 1732, 'fame': 1733, 'lewi': 1734, 'routin': 1735, 'rubbish': 1736, 'hat': 1737, 'oper': 1738, 'domin': 1739, 'foreign': 1740, 'lone': 1741, 'morgan': 1742, 'kinda': 1743, 'hook': 1744, 'advanc': 1745, 'safe': 1746, 'numer': 1747, 'rank': 1748, 'rose': 1749, 'washington': 1750, 'shape': 1751, 'shallow': 1752, 'vs': 1753, 'civil': 1754, 'werewolf': 1755, 'morn': 1756, 'gari': 1757, 'kong': 1758, 'winner': 1759, 'ordinari': 1760, 'accomplish': 1761, 'peac': 1762, 'whenev': 1763, 'grab': 1764, 'virtual': 1765, 'luck': 1766, 'offens': 1767, 'h': 1768, 'contriv': 1769, 'activ': 1770, 'unfunni': 1771, 'complain': 1772, 'bigger': 1773, 'patient': 1774, 'welcom': 1775, 'pretend': 1776, 'dimension': 1777, 'trek': 1778, 'con': 1779, 'lesbian': 1780, 'eric': 1781, 'dri': 1782, 'code': 1783, 'wake': 1784, 'flash': 1785, 'cain': 1786, 'guard': 1787, 'statu': 1788, 'corrupt': 1789, 'albert': 1790, 'manipul': 1791, 'dancer': 1792, 'speech': 1793, 'signific': 1794, 'context': 1795, 'gain': 1796, 'sourc': 1797, 'awkward': 1798, 'corni': 1799, 'anthoni': 1800, 'sean': 1801, 'clip': 1802, '13': 1803, 'psycho': 1804, 'theatric': 1805, 'advic': 1806, 'w': 1807, 'religion': 1808, 'curiou': 1809, 'reli': 1810, 'priest': 1811, 'flow': 1812, 'addict': 1813, 'secur': 1814, 'howard': 1815, 'jennif': 1816, 'asian': 1817, 'specif': 1818, 'skin': 1819, 'promot': 1820, 'organ': 1821, 'comfort': 1822, 'luke': 1823, 'core': 1824, 'golden': 1825, 'cash': 1826, 'lucki': 1827, 'cheat': 1828, 'associ': 1829, 'lower': 1830, 'dislik': 1831, 'balanc': 1832, 'frankli': 1833, 'contribut': 1834, 'spell': 1835, 'regret': 1836, 'frequent': 1837, 'devic': 1838, 'wing': 1839, 'degre': 1840, 'sake': 1841, 'print': 1842, 'lake': 1843, 'forgiv': 1844, 'thoma': 1845, 'mass': 1846, 'betti': 1847, 'unexpect': 1848, 'crack': 1849, 'gordon': 1850, 'construct': 1851, 'amateur': 1852, 'depend': 1853, 'unfold': 1854, 'categori': 1855, 'grown': 1856, 'invit': 1857, 'grew': 1858, 'condit': 1859, 'intellectu': 1860, 'walter': 1861, 'anna': 1862, 'matur': 1863, 'honor': 1864, 'spectacular': 1865, 'sudden': 1866, 'veteran': 1867, 'mirror': 1868, 'sole': 1869, 'liner': 1870, 'meanwhil': 1871, 'experienc': 1872, 'gift': 1873, 'card': 1874, 'grip': 1875, 'freedom': 1876, 'robin': 1877, 'overli': 1878, 'demonstr': 1879, 'circumst': 1880, 'drew': 1881, 'sheriff': 1882, 'colour': 1883, 'theori': 1884, 'crappi': 1885, 'subtitl': 1886, 'unabl': 1887, 'brilliantli': 1888, 'oliv': 1889, 'section': 1890, 'parker': 1891, 'path': 1892, 'laughter': 1893, 'pile': 1894, 'matt': 1895, 'altern': 1896, 'cook': 1897, 'sheer': 1898, 'sinatra': 1899, 'hall': 1900, 'relief': 1901, 'wander': 1902, 'treatment': 1903, 'lawyer': 1904, 'accident': 1905, 'defin': 1906, 'captiv': 1907, 'hank': 1908, 'dragon': 1909, 'gratuit': 1910, 'moor': 1911, 'halloween': 1912, 'barbara': 1913, 'unintent': 1914, 'k': 1915, 'wayn': 1916, 'cowboy': 1917, 'wound': 1918, 'broadway': 1919, 'jacki': 1920, 'kung': 1921, 'spoof': 1922, 'canadian': 1923, 'surreal': 1924, 'statement': 1925, 'winter': 1926, 'gonna': 1927, 'fish': 1928, 'cheer': 1929, 'compos': 1930, 'fare': 1931, 'treasur': 1932, 'unrealist': 1933, 'victor': 1934, 'sensit': 1935, 'emerg': 1936, 'woodi': 1937, 'ran': 1938, 'sympathet': 1939, 'driven': 1940, 'neighbor': 1941, 'menac': 1942, 'authent': 1943, 'expos': 1944, 'overlook': 1945, 'topic': 1946, 'glass': 1947, 'ancient': 1948, 'gross': 1949, 'chief': 1950, 'michel': 1951, 'handsom': 1952, 'stranger': 1953, 'contemporari': 1954, 'feet': 1955, 'nevertheless': 1956, 'comedian': 1957, 'built': 1958, 'pleasant': 1959, 'cinderella': 1960, 'network': 1961, 'russel': 1962, 'gori': 1963, 'earn': 1964, 'underr': 1965, 'consider': 1966, 'endless': 1967, 'miser': 1968, 'blockbust': 1969, 'letter': 1970, 'solv': 1971, 'switch': 1972, 'brook': 1973, 'virgin': 1974, 'joseph': 1975, 'convict': 1976, 'bullet': 1977, 'edward': 1978, 'victoria': 1979, 'chosen': 1980, 'cynic': 1981, 'scenario': 1982, 'alex': 1983, '0': 1984, 'scale': 1985, 'gut': 1986, 'sword': 1987, 'curs': 1988, 'outrag': 1989, 'com': 1990, 'juli': 1991, 'wrap': 1992, 'proper': 1993, 'substanc': 1994, 'driver': 1995, 'monkey': 1996, 'uk': 1997, 'screenwrit': 1998, 'par': 1999, 'remov': 2000, 'bird': 2001, 'court': 2002, 'indic': 2003, 'consequ': 2004, 'roy': 2005, 'advertis': 2006, 'grave': 2007, 'inevit': 2008, 'naiv': 2009, 'loser': 2010, 'rental': 2011, 'nanci': 2012, 'germani': 2013, 'le': 2014, 'bridg': 2015, 'fatal': 2016, 'slap': 2017, 'brave': 2018, 'invis': 2019, 'footbal': 2020, 'ador': 2021, 'anger': 2022, 'provok': 2023, 'loui': 2024, 'alcohol': 2025, 'anderson': 2026, 'chan': 2027, 'willi': 2028, 'ryan': 2029, 'professor': 2030, 'stumbl': 2031, 'assassin': 2032, '1930': 2033, 'patrick': 2034, 'sharp': 2035, 'bat': 2036, 'australian': 2037, 'heck': 2038, 'amateurish': 2039, 'strongli': 2040, 'saturday': 2041, 'lousi': 2042, 'deni': 2043, 'trilog': 2044, 'refresh': 2045, 'eight': 2046, 'ape': 2047, 'liber': 2048, 'cell': 2049, 'sin': 2050, 'vagu': 2051, 'san': 2052, 'resid': 2053, 'justifi': 2054, 'indi': 2055, 'defeat': 2056, 'reput': 2057, 'creator': 2058, 'terrifi': 2059, 'sympathi': 2060, 'mini': 2061, 'expert': 2062, 'endur': 2063, 'task': 2064, 'tabl': 2065, 'prevent': 2066, 'tediou': 2067, 'basebal': 2068, 'offend': 2069, 'che': 2070, 'trial': 2071, 'employ': 2072, 'rival': 2073, 'imit': 2074, 'complaint': 2075, 'dig': 2076, 'beach': 2077, 'max': 2078, 'pitch': 2079, 'europ': 2080, 'fairi': 2081, 'weekend': 2082, 'purchas': 2083, 'format': 2084, 'murphi': 2085, 'risk': 2086, 'harsh': 2087, 'tini': 2088, 'bite': 2089, 'hype': 2090, 'reminisc': 2091, 'glimps': 2092, 'nois': 2093, 'titan': 2094, 'powel': 2095, 'till': 2096, 'asleep': 2097, 'fals': 2098, 'north': 2099, 'prime': 2100, 'strip': 2101, '14': 2102, 'texa': 2103, 'destruct': 2104, 'revel': 2105, 'africa': 2106, 'descript': 2107, 'spin': 2108, 'surfac': 2109, 'semi': 2110, 'uninterest': 2111, 'inner': 2112, 'excess': 2113, 'arrest': 2114, 'sitcom': 2115, 'argu': 2116, 'makeup': 2117, 'controversi': 2118, 'maintain': 2119, 'massiv': 2120, 'twin': 2121, 'hitchcock': 2122, 'dinosaur': 2123, 'insist': 2124, 'ideal': 2125, 'expens': 2126, 'ludicr': 2127, 'reject': 2128, 'stare': 2129, 'melodrama': 2130, 'kim': 2131, 'subplot': 2132, 'erot': 2133, 'ala': 2134, 'ga': 2135, 'forest': 2136, 'nail': 2137, 'press': 2138, 'atroci': 2139, 'host': 2140, 'supernatur': 2141, 'columbo': 2142, 'notch': 2143, 'cant': 2144, 'dude': 2145, 'presum': 2146, 'identifi': 2147, 'method': 2148, 'closer': 2149, 'plagu': 2150, 'crude': 2151, 'forgett': 2152, 'character': 2153, 'guest': 2154, 'lion': 2155, 'foster': 2156, 'beast': 2157, 'landscap': 2158, 'border': 2159, 'ear': 2160, 'princess': 2161, 'damag': 2162, 'bound': 2163, 'previous': 2164, 'birth': 2165, 'aunt': 2166, 'storytel': 2167, 'urban': 2168, 'jungl': 2169, 'accus': 2170, 'pacino': 2171, 'jess': 2172, 'nude': 2173, 'chose': 2174, 'doll': 2175, 'emma': 2176, 'guid': 2177, 'thirti': 2178, 'propaganda': 2179, 'pet': 2180, 'whoever': 2181, 'mate': 2182, 'warrior': 2183, '25': 2184, 'mainstream': 2185, 'exact': 2186, 'friday': 2187, 'upset': 2188, 'cooper': 2189, 'poster': 2190, 'merit': 2191, 'deadli': 2192, 'latest': 2193, 'size': 2194, 'gritti': 2195, 'blend': 2196, '1990': 2197, 'wilson': 2198, 'settl': 2199, 'rough': 2200, 'ton': 2201, 'contact': 2202, 'popul': 2203, 'corps': 2204, 'contest': 2205, 'buff': 2206, 'warner': 2207, 'citizen': 2208, 'sun': 2209, 'mgm': 2210, 'bu': 2211, 'rat': 2212, 'metal': 2213, 'environ': 2214, 'select': 2215, 'alic': 2216, 'overcom': 2217, 'widow': 2218, 'pitt': 2219, 'lift': 2220, 'guilti': 2221, 'link': 2222, 'ted': 2223, 'particip': 2224, 'revolut': 2225, 'afternoon': 2226, 'corner': 2227, 'corpor': 2228, 'accompani': 2229, '1960': 2230, 'moron': 2231, 'exagger': 2232, 'johnson': 2233, 'matrix': 2234, 'prostitut': 2235, 'leagu': 2236, 'doom': 2237, 'friendli': 2238, 'instal': 2239, 'sincer': 2240, 'clair': 2241, 'multipl': 2242, 'hood': 2243, 'holm': 2244, 'examin': 2245, 'aka': 2246, 'defend': 2247, 'junk': 2248, 'string': 2249, 'campi': 2250, 'hip': 2251, 'sunday': 2252, 'advis': 2253, 'irish': 2254, 'blah': 2255, 'lugosi': 2256, 'grim': 2257, 'shut': 2258, 'confid': 2259, 'pro': 2260, 'shake': 2261, 'tight': 2262, 'varieti': 2263, 'rachel': 2264, 'icon': 2265, 'denni': 2266, 'mexican': 2267, 'attach': 2268, 'jaw': 2269, 'goal': 2270, 'directli': 2271, 'medic': 2272, 'sullivan': 2273, 'duke': 2274, 'legendari': 2275, 'courag': 2276, 'bourn': 2277, 'prior': 2278, 'breast': 2279, 'sarah': 2280, 'terrorist': 2281, 'truck': 2282, 'dean': 2283, 'sentenc': 2284, 'vietnam': 2285, 'un': 2286, 'nose': 2287, 'behav': 2288, 'proceed': 2289, 'hong': 2290, 'donald': 2291, 'entri': 2292, 'split': 2293, 'yell': 2294, 'lifetim': 2295, 'crush': 2296, 'forth': 2297, 'everywher': 2298, 'buri': 2299, 'confess': 2300, 'unconvinc': 2301, 'concentr': 2302, 'borrow': 2303, 'stolen': 2304, 'swim': 2305, 'jerk': 2306, 'gather': 2307, 'california': 2308, 'deliveri': 2309, 'pan': 2310, 'julia': 2311, 'spite': 2312, 'lip': 2313, 'turkey': 2314, 'china': 2315, 'flight': 2316, 'hoffman': 2317, 'reward': 2318, 'quest': 2319, 'offici': 2320, 'freeman': 2321, 'downright': 2322, 'proud': 2323, 'fabul': 2324, 'sink': 2325, 'inept': 2326, 'notori': 2327, 'jon': 2328, 'lazi': 2329, 'worthwhil': 2330, 'encourag': 2331, 'betray': 2332, 'jail': 2333, 'fade': 2334, 'sir': 2335, 'shower': 2336, 'bag': 2337, 'branagh': 2338, 'storm': 2339, 'imageri': 2340, 'lisa': 2341, 'susan': 2342, 'bell': 2343, 'retard': 2344, 'teeth': 2345, 'cousin': 2346, 'survivor': 2347, 'relev': 2348, 'summari': 2349, 'tremend': 2350, 'finger': 2351, 'hugh': 2352, 'stab': 2353, 'quirki': 2354, 'bride': 2355, 'alright': 2356, 'mexico': 2357, 'facial': 2358, 'trade': 2359, 'toler': 2360, 'shark': 2361, 'ha': 2362, 'von': 2363, 'blown': 2364, 'pose': 2365, 'hyster': 2366, 'bitter': 2367, 'cruel': 2368, 'scheme': 2369, 'address': 2370, 'bone': 2371, 'afterward': 2372, 'christ': 2373, 'larri': 2374, 'ned': 2375, 'ron': 2376, 'feed': 2377, 'distinct': 2378, 'snake': 2379, 'swear': 2380, 'beg': 2381, 'tour': 2382, 'screw': 2383, 'thumb': 2384, 'traci': 2385, 'pursu': 2386, 'photo': 2387, 'stomach': 2388, 'occas': 2389, 'raw': 2390, 'mechan': 2391, 'chair': 2392, 'obscur': 2393, 'sidney': 2394, 'argument': 2395, 'resist': 2396, 'heavili': 2397, 'southern': 2398, 'gruesom': 2399, 'chain': 2400, 'hardi': 2401, 'render': 2402, 'cabin': 2403, 'necessarili': 2404, 'holiday': 2405, 'indulg': 2406, 'satan': 2407, 'racist': 2408, 'philip': 2409, 'india': 2410, 'understood': 2411, 'tongu': 2412, 'midnight': 2413, 'forgot': 2414, 'integr': 2415, 'obnoxi': 2416, 'fourth': 2417, 'pregnant': 2418, 'belov': 2419, 'stalk': 2420, 'lay': 2421, 'outfit': 2422, '17': 2423, 'garden': 2424, 'ticket': 2425, 'restor': 2426, 'slapstick': 2427, 'inhabit': 2428, 'magazin': 2429, 'deeper': 2430, 'carol': 2431, 'lincoln': 2432, 'devot': 2433, 'brad': 2434, 'shoe': 2435, 'incid': 2436, 'guarante': 2437, 'sandler': 2438, 'disbelief': 2439, 'anticip': 2440, 'benefit': 2441, 'maria': 2442, 'divorc': 2443, 'underground': 2444, 'lili': 2445, 'elizabeth': 2446, 'slave': 2447, 'princip': 2448, 'amazingli': 2449, 'capit': 2450, 'cring': 2451, 'mildli': 2452, 'bbc': 2453, 'greater': 2454, 'explod': 2455, 'creation': 2456, 'halfway': 2457, 'lesli': 2458, 'introduct': 2459, 'funnier': 2460, 'extraordinari': 2461, 'punish': 2462, 'wreck': 2463, 'transfer': 2464, 'overwhelm': 2465, 'tap': 2466, 'text': 2467, 'extent': 2468, 'enhanc': 2469, 'advantag': 2470, 'lane': 2471, 'preview': 2472, 'plant': 2473, 'dynam': 2474, 'error': 2475, 'deliber': 2476, 'horrif': 2477, 'east': 2478, 'lo': 2479, 'jessica': 2480, 'appli': 2481, 'basi': 2482, 'ensu': 2483, 'sophist': 2484, 'vincent': 2485, 'vacat': 2486, 'miller': 2487, 'miscast': 2488, 'homosexu': 2489, '2000': 2490, 'extend': 2491, 'spoken': 2492, 'steel': 2493, 'uncomfort': 2494, 'measur': 2495, 'mansion': 2496, 'elev': 2497, 'sleazi': 2498, 'via': 2499, 'reed': 2500, 'bollywood': 2501, 'mous': 2502, 'assign': 2503, 'daili': 2504, 'melt': 2505, 'beer': 2506, 'blair': 2507, 'alter': 2508, 'fix': 2509, 'conceiv': 2510, 'overact': 2511, 'stanley': 2512, 'goofi': 2513, 'savag': 2514, 'breathtak': 2515, 'dentist': 2516, 'hippi': 2517, 'cathol': 2518, 'subsequ': 2519, 'succe': 2520, 'everyday': 2521, 'oppos': 2522, 'nowaday': 2523, 'burt': 2524, 'inspector': 2525, 'properli': 2526, 'sacrific': 2527, 'carpent': 2528, 'block': 2529, 'neck': 2530, 'laura': 2531, 'massacr': 2532, 'circl': 2533, 'christi': 2534, 'seagal': 2535, 'access': 2536, 'grey': 2537, 'pool': 2538, 'concert': 2539, 'lesser': 2540, 'portrait': 2541, 'mob': 2542, 'fallen': 2543, 'fay': 2544, 'jewish': 2545, 'isol': 2546, 'sinist': 2547, 'relax': 2548, 'jake': 2549, 'chees': 2550, 'competit': 2551, 'react': 2552, 'usa': 2553, 'creep': 2554, 'nonetheless': 2555, 'immens': 2556, '2006': 2557, 'stink': 2558, 'appal': 2559, 'chop': 2560, 'lyric': 2561, 'nine': 2562, 'suitabl': 2563, 'spiritu': 2564, 'ironi': 2565, 'user': 2566, 'showcas': 2567, 'franchis': 2568, 'rage': 2569, 'needless': 2570, 'reduc': 2571, 'sold': 2572, 'navi': 2573, 'adopt': 2574, 'retir': 2575, 'shirt': 2576, 'nut': 2577, 'spring': 2578, 'luci': 2579, 'digit': 2580, 'asham': 2581, 'zone': 2582, 'nurs': 2583, 'bulli': 2584, 'per': 2585, 'bath': 2586, 'stanwyck': 2587, 'jay': 2588, 'uninspir': 2589, 'sutherland': 2590, 'amongst': 2591, 'illustr': 2592, 'laid': 2593, 'oddli': 2594, '1940': 2595, '2001': 2596, 'broadcast': 2597, 'upper': 2598, 'stylish': 2599, 'brando': 2600, 'disguis': 2601, 'fulfil': 2602, 'throat': 2603, 'baker': 2604, 'aspir': 2605, 'pride': 2606, 'wanna': 2607, 'pound': 2608, 'impli': 2609, '18': 2610, 'neighborhood': 2611, 'thief': 2612, 'wwii': 2613, 'endear': 2614, 'em': 2615, 'nobl': 2616, 'rochest': 2617, 'dinner': 2618, 'cinematograph': 2619, 'shoulder': 2620, 'shift': 2621, 'diseas': 2622, 'bo': 2623, 'distribut': 2624, 'dawn': 2625, '16': 2626, 'coher': 2627, 'tens': 2628, 'bett': 2629, 'prop': 2630, 'albeit': 2631, 'silenc': 2632, 'forti': 2633, 'rebel': 2634, 'poignant': 2635, 'knife': 2636, 'matthau': 2637, 'contract': 2638, 'wash': 2639, 'shout': 2640, 'surf': 2641, 'function': 2642, 'snow': 2643, 'henc': 2644, 'silver': 2645, 'elvira': 2646, 'internet': 2647, 'height': 2648, 'derek': 2649, 'horrend': 2650, 'heat': 2651, 'proof': 2652, 'duti': 2653, 'widmark': 2654, 'cannib': 2655, 'eeri': 2656, 'instinct': 2657, 'chuck': 2658, 'cancel': 2659, 'mindless': 2660, 'reunion': 2661, 'neat': 2662, 'greatli': 2663, 'premier': 2664, 'glori': 2665, 'absorb': 2666, 'pie': 2667, 'etern': 2668, 'incoher': 2669, 'torn': 2670, 'alik': 2671, 'spielberg': 2672, 'elvi': 2673, 'mill': 2674, 'musician': 2675, 'repetit': 2676, 'innov': 2677, 'announc': 2678, 'fbi': 2679, 'burton': 2680, 'blank': 2681, 'itali': 2682, 'precis': 2683, 'britain': 2684, 'wealthi': 2685, 'bang': 2686, 'crisi': 2687, 'nelson': 2688, 'homag': 2689, 'racism': 2690, 'lovabl': 2691, 'trite': 2692, 'horrifi': 2693, 'diamond': 2694, 'redempt': 2695, 'infam': 2696, 'resolut': 2697, 'hammer': 2698, 'parallel': 2699, 'ensembl': 2700, 'flop': 2701, 'dedic': 2702, 'helen': 2703, 'streisand': 2704, 'chaplin': 2705, 'wilder': 2706, 'happili': 2707, 'pat': 2708, 'plastic': 2709, 'oil': 2710, 'disagre': 2711, 'broke': 2712, 'conclud': 2713, 'cube': 2714, 'st': 2715, 'factori': 2716, 'triumph': 2717, 'carter': 2718, 'mar': 2719, 'fighter': 2720, 'vega': 2721, 'chuckl': 2722, 'row': 2723, 'weight': 2724, 'bush': 2725, 'own': 2726, 'march': 2727, 'rocket': 2728, 'climb': 2729, 'sensibl': 2730, 'unforgett': 2731, 'lust': 2732, 'dane': 2733, 'dump': 2734, 'boot': 2735, 'mst3k': 2736, 'meaning': 2737, 'spare': 2738, 'wherea': 2739, 'enorm': 2740, 'thug': 2741, 'kurt': 2742, 'luca': 2743, 'adequ': 2744, 'engin': 2745, 'brand': 2746, 'stress': 2747, 'rap': 2748, 'caricatur': 2749, 'threat': 2750, 'bobbi': 2751, 'fifti': 2752, 'karloff': 2753, 'difficulti': 2754, 'butt': 2755, 'dear': 2756, 'arnold': 2757, 'swing': 2758, 'flynn': 2759, 'ego': 2760, 'polish': 2761, 'fest': 2762, 'homeless': 2763, 'barri': 2764, 'journalist': 2765, 'ralph': 2766, 'hamlet': 2767, 'secretari': 2768, 'arrog': 2769, 'elabor': 2770, 'arrang': 2771, 'float': 2772, 'fanci': 2773, 'induc': 2774, 'unbear': 2775, 'grate': 2776, 'resort': 2777, 'conspiraci': 2778, 'simpson': 2779, 'tool': 2780, 'puppet': 2781, 'spike': 2782, 'cruis': 2783, 'basement': 2784, 'muppet': 2785, 'exercis': 2786, 'tribut': 2787, 'boll': 2788, 'choreograph': 2789, 'phillip': 2790, 'guilt': 2791, 'pig': 2792, 'scarecrow': 2793, 'slip': 2794, 'puzzl': 2795, 'file': 2796, 'medium': 2797, 'ham': 2798, 'fianc': 2799, 'editor': 2800, 'stan': 2801, 'item': 2802, 'toilet': 2803, 'tower': 2804, 'korean': 2805, 'babe': 2806, 'ward': 2807, '24': 2808, 'layer': 2809, 'document': 2810, 'denzel': 2811, 'slaughter': 2812, 'territori': 2813, 'superfici': 2814, 'librari': 2815, 'larger': 2816, 'assur': 2817, 'doc': 2818, 'portion': 2819, 'minim': 2820, 'inexplic': 2821, 'glover': 2822, 'orient': 2823, 'spark': 2824, 'philosoph': 2825, 'persona': 2826, 'catherin': 2827, 'transit': 2828, 'dorothi': 2829, 'owe': 2830, 'boredom': 2831, 'jeremi': 2832, 'ban': 2833, 'sneak': 2834, 'curti': 2835, 'jet': 2836, 'shi': 2837, 'financi': 2838, 'walken': 2839, 'wolf': 2840, 'pg': 2841, 'whale': 2842, 'profound': 2843, 'hudson': 2844, 'multi': 2845, 'backdrop': 2846, 'ambigu': 2847, 'metaphor': 2848, 'eleph': 2849, 'cusack': 2850, 'birthday': 2851, 'rave': 2852, 'implaus': 2853, 'notion': 2854, 'ultra': 2855, 'union': 2856, 'hack': 2857, 'gadget': 2858, 'elsewher': 2859, '2005': 2860, 'stiff': 2861, 'viru': 2862, 'hawk': 2863, '1st': 2864, 'afford': 2865, 'eva': 2866, 'squar': 2867, 'disc': 2868, 'slight': 2869, 'lloyd': 2870, 'urg': 2871, 'newspap': 2872, 'canada': 2873, 'deriv': 2874, 'distanc': 2875, 'poison': 2876, 'superhero': 2877, 'bibl': 2878, 'pad': 2879, 'eastwood': 2880, 'reader': 2881, 'sadist': 2882, 'spread': 2883, 'montag': 2884, 'restaur': 2885, 'essenc': 2886, 'charisma': 2887, 'cure': 2888, 'skit': 2889, 'button': 2890, 'drown': 2891, 'health': 2892, 'huh': 2893, 'heston': 2894, 'invest': 2895, 'estat': 2896, 'companion': 2897, 'scoobi': 2898, 'gradual': 2899, 'lab': 2900, 'dealt': 2901, 'peak': 2902, 'godfath': 2903, 'muslim': 2904, 'fetch': 2905, 'maniac': 2906, 'alli': 2907, 'subtleti': 2908, 'countless': 2909, 'servant': 2910, 'gothic': 2911, 'ritter': 2912, 'kane': 2913, 'tea': 2914, 'miik': 2915, 'cup': 2916, 'heroic': 2917, 'salli': 2918, 'iii': 2919, 'briefli': 2920, 'elect': 2921, 'charismat': 2922, 'electr': 2923, 'resourc': 2924, 'toss': 2925, 'cole': 2926, 'tender': 2927, 'wannab': 2928, 'neil': 2929, 'grandmoth': 2930, 'nuanc': 2931, 'admittedli': 2932, 'bud': 2933, 'reel': 2934, 'ingredi': 2935, 'stronger': 2936, 'gate': 2937, 'pauli': 2938, 'dawson': 2939, 'poverti': 2940, 'mafia': 2941, 'kubrick': 2942, 'stood': 2943, 'label': 2944, 'shall': 2945, 'reev': 2946, 'mild': 2947, 'carrey': 2948, 'pit': 2949, 'punk': 2950, 'updat': 2951, 'tag': 2952, 'useless': 2953, 'burst': 2954, 'smooth': 2955, 'ian': 2956, 'assault': 2957, 'easier': 2958, 'smash': 2959, 'cox': 2960, 'bakshi': 2961, 'cardboard': 2962, 'fond': 2963, 'outcom': 2964, 'astair': 2965, 'terri': 2966, 'coincid': 2967, 'divers': 2968, 'resolv': 2969, 'vulner': 2970, 'fist': 2971, 'sketch': 2972, 'increasingli': 2973, 'exchang': 2974, 'melodramat': 2975, 'vari': 2976, '2002': 2977, 'qualifi': 2978, 'rex': 2979, 'samurai': 2980, 'suspend': 2981, 'be': 2982, 'blast': 2983, 'reynold': 2984, 'insert': 2985, 'conveni': 2986, 'scratch': 2987, 'templ': 2988, 'tame': 2989, 'luckili': 2990, 'brillianc': 2991, 'gotta': 2992, 'matthew': 2993, 'jami': 2994, 'coach': 2995, 'nuclear': 2996, 'pin': 2997, 'soprano': 2998, 'ambiti': 2999, 'walker': 3000, 'meat': 3001, 'seventi': 3002, 'hamilton': 3003, 'strictli': 3004, 'fisher': 3005, 'farm': 3006, 'worthless': 3007, 'struck': 3008, 'ninja': 3009, 'convolut': 3010, 'spooki': 3011, 'instantli': 3012, 'closet': 3013, 'clock': 3014, 'grasp': 3015, 'recreat': 3016, 'timeless': 3017, 'revers': 3018, 'kudo': 3019, 'butcher': 3020, 'cave': 3021, 'joey': 3022, 'empir': 3023, 'brosnan': 3024, 'monk': 3025, 'eccentr': 3026, 'discoveri': 3027, 'eighti': 3028, 'pal': 3029, 'sloppi': 3030, 'norman': 3031, 'inconsist': 3032, 'gray': 3033, 'sidekick': 3034, 'cliff': 3035, 'clown': 3036, 'evok': 3037, 'importantli': 3038, 'selfish': 3039, 'wipe': 3040, 'seller': 3041, 'partli': 3042, 'declar': 3043, 'communist': 3044, 'fifteen': 3045, 'bleak': 3046, 'miracl': 3047, 'mitchel': 3048, 'lifestyl': 3049, '45': 3050, 'aforement': 3051, 'ho': 3052, 'destin': 3053, 'seed': 3054, 'chew': 3055, 'psychiatrist': 3056, 'superbl': 3057, 'flawless': 3058, 'stoog': 3059, 'enthusiast': 3060, 'debat': 3061, 'farc': 3062, 'cheek': 3063, 'piano': 3064, 'australia': 3065, 'websit': 3066, 'emili': 3067, 'kitchen': 3068, 'pressur': 3069, 'directori': 3070, 'dire': 3071, 'wrestl': 3072, 'soviet': 3073, 'drivel': 3074, 'bash': 3075, 'incompet': 3076, 'splatter': 3077, 'wick': 3078, 'slice': 3079, 'anni': 3080, 'abc': 3081, 'regardless': 3082, 'akshay': 3083, 'dash': 3084, 'pleasantli': 3085, 'jar': 3086, 'beaten': 3087, 'distant': 3088, 'dave': 3089, 'boil': 3090, 'flower': 3091, 'artifici': 3092, 'seduc': 3093, 'doo': 3094, 'cameron': 3095, 'mann': 3096, 'cia': 3097, 'judi': 3098, 'duo': 3099, 'curios': 3100, 'glow': 3101, 'helicopt': 3102, 'chapter': 3103, 'recov': 3104, 'suppli': 3105, 'lou': 3106, 'increas': 3107, 'prize': 3108, 'cagney': 3109, 'ken': 3110, 'blob': 3111, 'goldberg': 3112, 'ranger': 3113, 'combat': 3114, 'drunken': 3115, 'hop': 3116, 'web': 3117, 'francisco': 3118, 'splendid': 3119, 'laurel': 3120, 'turner': 3121, 'perri': 3122, 'panic': 3123, 'ellen': 3124, 'glenn': 3125, 'craig': 3126, 'eleg': 3127, 'favour': 3128, 'psychot': 3129, 'craven': 3130, 'graduat': 3131, 'plausibl': 3132, 'greek': 3133, 'modesti': 3134, 'slightest': 3135, 'flip': 3136, 'min': 3137, '20th': 3138, 'rid': 3139, 'gandhi': 3140, 'gentl': 3141, 'hatr': 3142, 'falk': 3143, 'shortli': 3144, 'ruth': 3145, 'wizard': 3146, 'philosophi': 3147, 'alexand': 3148, 'fx': 3149, 'legal': 3150, 'manhattan': 3151, 'holi': 3152, 'knight': 3153, 'fund': 3154, 'harm': 3155, 'jealou': 3156, 'futurist': 3157, 'dracula': 3158, 'we': 3159, 'unpleas': 3160, 'lend': 3161, 'ocean': 3162, 'felix': 3163, 'tall': 3164, 'preciou': 3165, 'childish': 3166, 'thread': 3167, 'giallo': 3168, 'digniti': 3169, 'ami': 3170, 'tank': 3171, 'nod': 3172, 'explicit': 3173, 'mock': 3174, 'forbidden': 3175, 'bless': 3176, 'reviv': 3177, 'scientif': 3178, 'overdon': 3179, 'unwatch': 3180, 'awe': 3181, '2004': 3182, 'broad': 3183, 'awaken': 3184, 'eve': 3185, 'torment': 3186, 'nerv': 3187, 'thick': 3188, 'fever': 3189, 'margaret': 3190, 'pirat': 3191, 'elderli': 3192, 'repeatedli': 3193, 'yesterday': 3194, '99': 3195, 'mel': 3196, 'verhoeven': 3197, 'bin': 3198, 'kay': 3199, 'absenc': 3200, 'royal': 3201, 'acclaim': 3202, 'romero': 3203, 'publish': 3204, 'automat': 3205, 'roman': 3206, 'stiller': 3207, 'eas': 3208, 'ah': 3209, 'launch': 3210, 'rivet': 3211, 'uniform': 3212, 'politician': 3213, 'timothi': 3214, 'griffith': 3215, 'custom': 3216, 'lean': 3217, 'ambit': 3218, 'stinker': 3219, 'darker': 3220, 'sunshin': 3221, 'bathroom': 3222, 'termin': 3223, 'transport': 3224, 'purpl': 3225, 'antic': 3226, 'crook': 3227, 'tomato': 3228, 'pierc': 3229, 'gabriel': 3230, 'foul': 3231, 'phrase': 3232, 'wallac': 3233, 'warren': 3234, 'pulp': 3235, 'homicid': 3236, 'marin': 3237, 'hollow': 3238, 'eyr': 3239, 'karen': 3240, 'sixti': 3241, 'kenneth': 3242, 'saint': 3243, 'evolv': 3244, 'packag': 3245, 'choreographi': 3246, 'juvenil': 3247, 'q': 3248, 'brazil': 3249, 'album': 3250, 'awak': 3251, 'revolutionari': 3252, '2003': 3253, 'contrari': 3254, 'ought': 3255, 'rambo': 3256, 'prom': 3257, 'coloni': 3258, 'pray': 3259, 'viciou': 3260, 'donna': 3261, 'li': 3262, 'horrid': 3263, 'defi': 3264, 'beatti': 3265, 'nerd': 3266, 'blade': 3267, 'ramon': 3268, 'conserv': 3269, 'stole': 3270, 'dose': 3271, 'candid': 3272, 'option': 3273, 'overr': 3274, 'mildr': 3275, 'ireland': 3276, 'boast': 3277, 'mummi': 3278, 'twelv': 3279, 'kapoor': 3280, 'detract': 3281, 'collabor': 3282, 'fulci': 3283, 'trio': 3284, 'protest': 3285, 'flame': 3286, 'astonish': 3287, 'confirm': 3288, 'natali': 3289, 'jazz': 3290, 'global': 3291, 'altman': 3292, 'funer': 3293, 'kirk': 3294, 'tommi': 3295, 'audio': 3296, 'spit': 3297, 'racial': 3298, 'leap': 3299, 'shade': 3300, 'yellow': 3301, 'delici': 3302, 'blake': 3303, 'bottl': 3304, 'bull': 3305, 'whip': 3306, 'mystic': 3307, 'destini': 3308, 'nicholson': 3309, 'enterpris': 3310, 'swedish': 3311, 'pseudo': 3312, 'adolesc': 3313, 'threw': 3314, 'enchant': 3315, 'harder': 3316, 'inherit': 3317, 'popcorn': 3318, 'merci': 3319, 'reunit': 3320, 'visibl': 3321, 'meaningless': 3322, 'staff': 3323, 'vivid': 3324, 'neo': 3325, 'bedroom': 3326, 'altogeth': 3327, 'todd': 3328, 'fonda': 3329, 'ruthless': 3330, 'reserv': 3331, 'kennedi': 3332, 'leonard': 3333, 'edi': 3334, 'moodi': 3335, 'respond': 3336, 'voight': 3337, 'lemmon': 3338, 'roommat': 3339, 'lawrenc': 3340, 'atlanti': 3341, 'tip': 3342, 'crocodil': 3343, 'befriend': 3344, 'uneven': 3345, 'exhibit': 3346, 'wire': 3347, 'synopsi': 3348, 'decor': 3349, 'await': 3350, 'fanat': 3351, 'jew': 3352, 'bust': 3353, 'suspici': 3354, 'madonna': 3355, 'abysm': 3356, 'garner': 3357, 'rural': 3358, 'incident': 3359, 'bargain': 3360, 'bold': 3361, 'bradi': 3362, 'ventur': 3363, 'centr': 3364, 'chao': 3365, 'audit': 3366, 'dimens': 3367, 'holli': 3368, '2007': 3369, 'voyag': 3370, 'clint': 3371, 'carl': 3372, 'clumsi': 3373, 'unsettl': 3374, 'palma': 3375, 'timon': 3376, 'echo': 3377, 'imperson': 3378, 'cari': 3379, 'mall': 3380, 'immigr': 3381, 'hart': 3382, 'nearbi': 3383, 'neglect': 3384, 'humili': 3385, 'tiger': 3386, 'poetic': 3387, 'trail': 3388, 'acknowledg': 3389, 'versu': 3390, 'troop': 3391, 'cd': 3392, '2nd': 3393, 'daddi': 3394, 'characterist': 3395, 'wealth': 3396, 'lit': 3397, 'cuba': 3398, 'ant': 3399, 'elimin': 3400, 'pun': 3401, 'celluloid': 3402, 'solo': 3403, 'mistaken': 3404, 'mickey': 3405, 'prejudic': 3406, 'collaps': 3407, 'jeffrey': 3408, 'repuls': 3409, 'paus': 3410, 'saga': 3411, 'marshal': 3412, 'domest': 3413, 'homer': 3414, 'infect': 3415, 'promin': 3416, 'coffe': 3417, 'inappropri': 3418, 'cake': 3419, 'undoubtedli': 3420, 'chest': 3421, 'harvey': 3422, 'pant': 3423, 'hbo': 3424, 'apolog': 3425, 'ginger': 3426, 'olivi': 3427, 'milk': 3428, 'assembl': 3429, 'interrupt': 3430, 'inan': 3431, 'coat': 3432, 'tribe': 3433, 'sore': 3434, 'equip': 3435, 'gear': 3436, '1996': 3437, 'leon': 3438, 'maggi': 3439, 'pen': 3440, 'colleagu': 3441, 'solut': 3442, 'institut': 3443, 'florida': 3444, 'aveng': 3445, 'retain': 3446, 'colonel': 3447, 'devast': 3448, 'pot': 3449, 'furthermor': 3450, 'polanski': 3451, 'brooklyn': 3452, 'airplan': 3453, 'trace': 3454, 'jenni': 3455, 'highest': 3456, 'consum': 3457, 'humbl': 3458, 'exot': 3459, 'instant': 3460, 'vulgar': 3461, 'embrac': 3462, 'primari': 3463, 'disabl': 3464, 'godzilla': 3465, 'strain': 3466, '3rd': 3467, 'cope': 3468, 'descend': 3469, 'gender': 3470, 'sale': 3471, 'linda': 3472, 'ya': 3473, 'dian': 3474, 'wive': 3475, 'principl': 3476, 'rick': 3477, 'illog': 3478, '1999': 3479, 'poke': 3480, 'bowl': 3481, 'dutch': 3482, 'seduct': 3483, 'outer': 3484, 'smaller': 3485, 'secondli': 3486, 'gundam': 3487, 'predecessor': 3488, 'cue': 3489, 'bubbl': 3490, 'dive': 3491, 'inferior': 3492, 'lol': 3493, 'yard': 3494, 'devoid': 3495, 'vast': 3496, 'rabbit': 3497, 'hal': 3498, 'mixtur': 3499, 'beneath': 3500, 'primarili': 3501, 'glamor': 3502, 'scope': 3503, 'blatant': 3504, 'gloriou': 3505, 'dud': 3506, 'museum': 3507, 'z': 3508, 'shelf': 3509, 'simplist': 3510, 'senseless': 3511, 'casual': 3512, 'countrysid': 3513, 'trademark': 3514, 'pearl': 3515, 'disjoint': 3516, 'hideou': 3517, 'breed': 3518, 'et': 3519, 'talki': 3520, 'streep': 3521, 'aggress': 3522, 'invas': 3523, 'arab': 3524, 'alert': 3525, 'shirley': 3526, 'myer': 3527, 'alfr': 3528, 'domino': 3529, 'grinch': 3530, 'april': 3531, 'garbo': 3532, 'obtain': 3533, 'defens': 3534, 'stellar': 3535, 'boom': 3536, 'hopeless': 3537, 'rendit': 3538, 'uwe': 3539, 'mail': 3540, 'acid': 3541, 'loyal': 3542, 'experiment': 3543, 'hardcor': 3544, 'stir': 3545, 'maci': 3546, 'mayor': 3547, 'unhappi': 3548, 'vanish': 3549, 'oz': 3550, 'robberi': 3551, 'disgrac': 3552, 'robinson': 3553, 'khan': 3554, 'applaud': 3555, 'sh': 3556, 'slide': 3557, 'illeg': 3558, 'stack': 3559, 'tempt': 3560, 'amanda': 3561, 'declin': 3562, 'psychic': 3563, 'spider': 3564, 'diana': 3565, 'grandfath': 3566, 'tenant': 3567, 'blew': 3568, 'span': 3569, 'craze': 3570, 'emphasi': 3571, 'incomprehens': 3572, 'counter': 3573, 'topless': 3574, 'fri': 3575, 'rifl': 3576, 'soccer': 3577, 'recruit': 3578, 'berlin': 3579, 'dismiss': 3580, 'dicken': 3581, 'scroog': 3582, 'wont': 3583, 'hartley': 3584, 'faster': 3585, 'ethnic': 3586, 'sympath': 3587, 'trashi': 3588, 'intim': 3589, 'parad': 3590, 'niro': 3591, 'ration': 3592, 'resurrect': 3593, 'shaw': 3594, 'wet': 3595, 'shed': 3596, 'lumet': 3597, 'revolt': 3598, 'woo': 3599, 'goer': 3600, 'riot': 3601, 'porno': 3602, 'bitch': 3603, 'justin': 3604, 'sibl': 3605, 'farmer': 3606, 'eager': 3607, 'andr': 3608, 'partial': 3609, 'hopper': 3610, 'slick': 3611, 'mario': 3612, 'wheel': 3613, 'honesti': 3614, 'steam': 3615, 'region': 3616, 'biographi': 3617, 'gap': 3618, 'wendi': 3619, 'hesit': 3620, 'unreal': 3621, 'feminist': 3622, 'ensur': 3623, 'choru': 3624, 'jonathan': 3625, 'immort': 3626, 'commend': 3627, '00': 3628, 'enlighten': 3629, 'weakest': 3630, 'dealer': 3631, 'nephew': 3632, 'patriot': 3633, 'worm': 3634, 'rider': 3635, 'lena': 3636, 'ballet': 3637, 'sappi': 3638, 'mutant': 3639, 'safeti': 3640, 'vice': 3641, 'morri': 3642, 'skull': 3643, 'snap': 3644, 'victori': 3645, 'composit': 3646, 'util': 3647, 'wore': 3648, 'kingdom': 3649, 'repress': 3650, 'psychopath': 3651, 'prequel': 3652, 'blunt': 3653, 'owen': 3654, 'sandra': 3655, 'nostalg': 3656, 'leo': 3657, 'franco': 3658, 'similarli': 3659, 'properti': 3660, 'hung': 3661, 'charlott': 3662, 'confin': 3663, 'macarthur': 3664, 'whoopi': 3665, 'dalton': 3666, 'drain': 3667, 'montana': 3668, 'compass': 3669, 'repli': 3670, 'bonu': 3671, 'strand': 3672, 'rocki': 3673, 'drum': 3674, 'bumbl': 3675, 'del': 3676, 'farrel': 3677, 'compens': 3678, 'rambl': 3679, 'tad': 3680, 'despair': 3681, 'dust': 3682, 'kyle': 3683, 'acquir': 3684, 'heartbreak': 3685, 'nervou': 3686, 'pattern': 3687, 'thru': 3688, 'recycl': 3689, 'tail': 3690, 'cg': 3691, 'valuabl': 3692, '1972': 3693, 'deed': 3694, 'bow': 3695, 'rope': 3696, 'exit': 3697, 'emperor': 3698, 'campbel': 3699, 'miseri': 3700, 'latin': 3701, 'speci': 3702, 'snl': 3703, 'hyde': 3704, 'bergman': 3705, 'romp': 3706, 'percept': 3707, 'gal': 3708, 'tonight': 3709, 'rapist': 3710, 'mistress': 3711, '35': 3712, 'wacki': 3713, 'carradin': 3714, 'contempl': 3715, 'slug': 3716, 'downhil': 3717, 'gimmick': 3718, 'orson': 3719, 'radic': 3720, 'olli': 3721, 'roth': 3722, 'bleed': 3723, 'pour': 3724, 'oppress': 3725, 'martian': 3726, 'airport': 3727, 'da': 3728, 'rotten': 3729, 'chess': 3730, 'melodi': 3731, 'mislead': 3732, 'preach': 3733, 'champion': 3734, 'belt': 3735, 'pervert': 3736, 'pervers': 3737, 'arguabl': 3738, 'paltrow': 3739, 'arc': 3740, 'tackl': 3741, 'heal': 3742, 'pursuit': 3743, '1983': 3744, 'attorney': 3745, 'dazzl': 3746, 'banal': 3747, 'edgar': 3748, 'taught': 3749, 'programm': 3750, 'unpredict': 3751, 'stilt': 3752, 'shelley': 3753, 'slash': 3754, 'tooth': 3755, 'tiresom': 3756, 'virginia': 3757, 'gambl': 3758, 'plight': 3759, 'duval': 3760, 'marti': 3761, 'chicken': 3762, 'closest': 3763, 'franki': 3764, 'orang': 3765, 'poem': 3766, 'vocal': 3767, 'vengeanc': 3768, 'maid': 3769, 'raymond': 3770, 'conneri': 3771, 'mesmer': 3772, 'graham': 3773, 'passeng': 3774, 'cleverli': 3775, 'employe': 3776, 'bela': 3777, 'uplift': 3778, 'rubi': 3779, 'sensat': 3780, 'dixon': 3781, '1968': 3782, 'outing': 3783, 'tube': 3784, 'abraham': 3785, 'monologu': 3786, 'suffic': 3787, 'bay': 3788, 'inject': 3789, 'climact': 3790, 'numb': 3791, 'crystal': 3792, 'amitabh': 3793, 'mute': 3794, 'pokemon': 3795, 'quarter': 3796, 'paranoia': 3797, 'volum': 3798, 'calm': 3799, 'engross': 3800, 'yawn': 3801, 'extens': 3802, 'swallow': 3803, 'profan': 3804, 'giggl': 3805, 'secretli': 3806, 'habit': 3807, 'gerard': 3808, 'lundgren': 3809, 'convincingli': 3810, 'scottish': 3811, 'whine': 3812, 'clone': 3813, 'sirk': 3814, 'iran': 3815, 'earl': 3816, 'ethan': 3817, 'grotesqu': 3818, 'plod': 3819, 'trend': 3820, 'meander': 3821, 'backward': 3822, 'bend': 3823, 'richardson': 3824, 'nichola': 3825, 'poetri': 3826, 'austen': 3827, 'taxi': 3828, 'profess': 3829, 'frankenstein': 3830, 'abort': 3831, 'franci': 3832, 'lowest': 3833, 'expand': 3834, 'im': 3835, 'surpass': 3836, 'dispos': 3837, 'chicago': 3838, 'underst': 3839, 'fed': 3840, 'linger': 3841, 'junior': 3842, 'septemb': 3843, 'spock': 3844, 'stallon': 3845, 'rant': 3846, 'lure': 3847, 'simplic': 3848, 'muddl': 3849, 'compliment': 3850, 'econom': 3851, 'catchi': 3852, 'mundan': 3853, 'descent': 3854, 'sue': 3855, 'myth': 3856, 'waitress': 3857, 'nostalgia': 3858, 'hum': 3859, 'spoke': 3860, 'tourist': 3861, 'household': 3862, 'instrument': 3863, 'cannon': 3864, 'dysfunct': 3865, 'literatur': 3866, 'rubber': 3867, 'der': 3868, 'eugen': 3869, 'greedi': 3870, 'firstli': 3871, 'carel': 3872, 'alongsid': 3873, 'insur': 3874, 'occupi': 3875, 'deaf': 3876, 'eaten': 3877, 'mankind': 3878, 'louis': 3879, 'phoni': 3880, 'coast': 3881, 'furi': 3882, 'duck': 3883, 'irrelev': 3884, 'dictat': 3885, 'dement': 3886, 'stale': 3887, 'equival': 3888, 'sissi': 3889, 'map': 3890, 'cent': 3891, 'damon': 3892, 'bacal': 3893, 'june': 3894, 'recognit': 3895, 'molli': 3896, 'mortal': 3897, 'crucial': 3898, 'recognis': 3899, 'phantom': 3900, 'lang': 3901, 'hello': 3902, 'randi': 3903, 'flee': 3904, 'omen': 3905, 'heel': 3906, 'buffalo': 3907, 'damm': 3908, 'bump': 3909, 'newli': 3910, 'dreari': 3911, 'biko': 3912, '1973': 3913, 'daisi': 3914, 'rooney': 3915, 'ashley': 3916, 'freez': 3917, 'wisdom': 3918, 'rude': 3919, 'antwon': 3920, 'grayson': 3921, 'drake': 3922, 'lengthi': 3923, 'loyalti': 3924, 'cyborg': 3925, 'distinguish': 3926, 'labor': 3927, 'reign': 3928, 'twilight': 3929, 'blackmail': 3930, 'bike': 3931, 'onlin': 3932, 'likewis': 3933, 'chronicl': 3934, 'barrymor': 3935, 'tunnel': 3936, 'prey': 3937, 'approv': 3938, 'inher': 3939, 'attribut': 3940, 'basketbal': 3941, 'boxer': 3942, 'sailor': 3943, 'keith': 3944, 'butler': 3945, 'vein': 3946, 'unorigin': 3947, 'analysi': 3948, 'nineti': 3949, 'ridden': 3950, 'baddi': 3951, 'emphas': 3952, 'startl': 3953, 'proce': 3954, 'worn': 3955, 'exposur': 3956, 'interior': 3957, 'incorpor': 3958, 'pink': 3959, 'provoc': 3960, 'millionair': 3961, 'nicol': 3962, 'degrad': 3963, 'simmon': 3964, 'er': 3965, 'walsh': 3966, 'underli': 3967, 'mighti': 3968, 'carla': 3969, 'barrel': 3970, 'condemn': 3971, 'meg': 3972, 'improvis': 3973, 'predat': 3974, 'undeni': 3975, 'mormon': 3976, 'stalker': 3977, 'belushi': 3978, 'robbin': 3979, 'meyer': 3980, 'fleet': 3981, 'elm': 3982, 'unrel': 3983, 'indiffer': 3984, 'julian': 3985, 'drift': 3986, 'bunni': 3987, 'othello': 3988, 'hypnot': 3989, 'substitut': 3990, 'errol': 3991, 'enthusiasm': 3992, 'edgi': 3993, 'unawar': 3994, 'alarm': 3995, 'warmth': 3996, 'roof': 3997, 'disord': 3998, 'palac': 3999, 'exquisit': 4000, 'firm': 4001, 'dolph': 4002, 'nyc': 4003, 'reid': 4004, '3d': 4005, 'shove': 4006, 'vital': 4007, 'hay': 4008, 'greed': 4009, 'agenda': 4010, 'mtv': 4011, 'lampoon': 4012, 'watson': 4013, 'novak': 4014, 'priceless': 4015, 'marion': 4016, 'alison': 4017, 'rukh': 4018, 'crown': 4019, 'minimum': 4020, 'beatl': 4021, 'petti': 4022, 'campaign': 4023, 'israel': 4024, 'championship': 4025, 'pamela': 4026, 'gestur': 4027, 'simultan': 4028, 'testament': 4029, 'preserv': 4030, 'orlean': 4031, 'showdown': 4032, 'unleash': 4033, 'profit': 4034, 'sergeant': 4035, 'coup': 4036, 'angela': 4037, 'ponder': 4038, 'iraq': 4039, '13th': 4040, 'peck': 4041, 'eastern': 4042, 'glanc': 4043, 'session': 4044, 'thompson': 4045, 'peril': 4046, 'what': 4047, 'drip': 4048, 'valentin': 4049, 'distort': 4050, 'spain': 4051, 'cassidi': 4052, '1933': 4053, 'randomli': 4054, 'zizek': 4055, 'nun': 4056, 'quinn': 4057, 'gentleman': 4058, 'restrain': 4059, 'unimagin': 4060, 'reson': 4061, 'brenda': 4062, 'shootout': 4063, '1984': 4064, 'han': 4065, 'cream': 4066, 'stroke': 4067, 'represent': 4068, 'perpetu': 4069, 'fido': 4070, 'bro': 4071, 'crawl': 4072, 'empathi': 4073, 'regist': 4074, 'calib': 4075, 'rout': 4076, 'valley': 4077, 'scotland': 4078, 'travesti': 4079, 'exposit': 4080, 'jan': 4081, 'cooki': 4082, 'buster': 4083, 'miyazaki': 4084, 'mon': 4085, 'wig': 4086, 'din': 4087, 'contradict': 4088, 'climat': 4089, 'kurosawa': 4090, 'sabrina': 4091, 'crow': 4092, 'realm': 4093, 'stake': 4094, 'distress': 4095, 'warrant': 4096, 'unseen': 4097, 'ustinov': 4098, 'cloud': 4099, 'stargat': 4100, 'femm': 4101, 'traumat': 4102, 'tacki': 4103, 'wax': 4104, 'censor': 4105, 'derang': 4106, 'passabl': 4107, 'businessman': 4108, 'soderbergh': 4109, 'demis': 4110, 'baldwin': 4111, 'painter': 4112, 'sammi': 4113, 'greg': 4114, 'unsatisfi': 4115, 'mclaglen': 4116, 'monoton': 4117, 'meryl': 4118, 'shaki': 4119, 'geek': 4120, '1997': 4121, 'sucker': 4122, 'delic': 4123, 'shoddi': 4124, 'fuller': 4125, 'pretens': 4126, 'pole': 4127, 'absent': 4128, 'spacey': 4129, 'josh': 4130, 'crawford': 4131, 'ross': 4132, 'dana': 4133, 'perceiv': 4134, 'compromis': 4135, 'abomin': 4136, 'darren': 4137, '1987': 4138, 'nathan': 4139, 'norm': 4140, 'clash': 4141, 'fog': 4142, 'unravel': 4143, 'polici': 4144, 'deceas': 4145, 'jewel': 4146, 'dee': 4147, 'fenc': 4148, 'kumar': 4149, 'tech': 4150, 'reluct': 4151, 'primit': 4152, 'valid': 4153, 'tarantino': 4154, 'verbal': 4155, 'wholli': 4156, 'accuraci': 4157, 'sid': 4158, 'seal': 4159, 'austin': 4160, 'deniro': 4161, 'exclus': 4162, 'uncov': 4163, 'click': 4164, 'furiou': 4165, 'antonioni': 4166, 'judgment': 4167, 'correctli': 4168, '1993': 4169, 'expedit': 4170, 'anchor': 4171, 'clerk': 4172, '1995': 4173, 'behold': 4174, 'ritual': 4175, 'tax': 4176, 'malon': 4177, 'joel': 4178, 'fart': 4179, 'slam': 4180, 'crippl': 4181, 'conduct': 4182, 'murray': 4183, '1971': 4184, 'logan': 4185, 'darn': 4186, 'pocket': 4187, 'dreck': 4188, 'shanghai': 4189, 'enforc': 4190, 'sunni': 4191, 'trait': 4192, 'sustain': 4193, 'seldom': 4194, 'nicola': 4195, 'unfair': 4196, 'fabric': 4197, '3000': 4198, 'sheet': 4199, 'sand': 4200, 'temper': 4201, 'debt': 4202, '2008': 4203, 'patienc': 4204, 'wretch': 4205, 'roller': 4206, 'wang': 4207, 'alec': 4208, 'fought': 4209, 'hallucin': 4210, 'bake': 4211, 'vanc': 4212, 'mode': 4213, 'preston': 4214, 'conscious': 4215, 'pete': 4216, 'helpless': 4217, 'outlin': 4218, 'divid': 4219, 'penni': 4220, 'soup': 4221, 'stuart': 4222, 'sweep': 4223, 'preposter': 4224, 'exhaust': 4225, 'despis': 4226, 'critiqu': 4227, 'schedul': 4228, 'scriptwrit': 4229, 'grief': 4230, 'bias': 4231, 'robber': 4232, 'tactic': 4233, 'technicolor': 4234, 'bridget': 4235, 'fundament': 4236, 'runner': 4237, 'shell': 4238, 'squad': 4239, 'canyon': 4240, 'guitar': 4241, 'rita': 4242, 'clau': 4243, 'stark': 4244, 'legaci': 4245, 'phil': 4246, 'isabel': 4247, 'flair': 4248, 'sentinel': 4249, 'jodi': 4250, 'implic': 4251, 'lacklust': 4252, 'rehash': 4253, 'boyl': 4254, 'downey': 4255, 'delv': 4256, 'consciou': 4257, 'alley': 4258, 'inabl': 4259, 'palanc': 4260, 'culmin': 4261, 'vomit': 4262, 'gregori': 4263, 'kansa': 4264, 'cigarett': 4265, 'marc': 4266, 'passag': 4267, 'sniper': 4268, 'liberti': 4269, 'propos': 4270, 'jacket': 4271, 'connor': 4272, 'agenc': 4273, 'rear': 4274, 'invad': 4275, 'restrict': 4276, 'drove': 4277, 'unexpectedli': 4278, 'sugar': 4279, 'bloom': 4280, 'russia': 4281, 'alicia': 4282, 'newman': 4283, 'wrench': 4284, 'chainsaw': 4285, 'karl': 4286, 'tripe': 4287, 'arrow': 4288, 'aesthet': 4289, 'delet': 4290, 'lush': 4291, 'foxx': 4292, 'behaviour': 4293, 'pale': 4294, 'feat': 4295, 'asylum': 4296, 'awhil': 4297, 'bacon': 4298, 'rampag': 4299, 'improb': 4300, 'sharon': 4301, '22': 4302, 'ladder': 4303, 'horn': 4304, 'tendenc': 4305, '1936': 4306, 'rehears': 4307, 'rod': 4308, 'cap': 4309, 'mccoy': 4310, 'vet': 4311, 'yeti': 4312, 'kolchak': 4313, 'filler': 4314, 'tasteless': 4315, 'paradis': 4316, 'amazon': 4317, 'suspicion': 4318, 'tomorrow': 4319, 'hulk': 4320, 'fright': 4321, 'visitor': 4322, 'loneli': 4323, 'financ': 4324, 'wildli': 4325, '1988': 4326, '1920': 4327, 'wagner': 4328, 'sung': 4329, '19th': 4330, 'hackney': 4331, 'underneath': 4332, 'minu': 4333, 'suffici': 4334, 'stream': 4335, 'hungri': 4336, 'shortcom': 4337, 'elit': 4338, 'weav': 4339, 'lurk': 4340, 'scoop': 4341, 'conscienc': 4342, 'basing': 4343, '1978': 4344, 'coaster': 4345, 'rumor': 4346, 'globe': 4347, 'prank': 4348, 'aristocrat': 4349, 'paramount': 4350, 'rhythm': 4351, 'spice': 4352, 'el': 4353, 'thunderbird': 4354, 'newcom': 4355, 'penn': 4356, 'minist': 4357, 'couch': 4358, 'grudg': 4359, 'inmat': 4360, 'immers': 4361, 'iv': 4362, 'dirt': 4363, 'wwe': 4364, 'brit': 4365, 'quietli': 4366, '1989': 4367, 'curli': 4368, 'choppi': 4369, 'abrupt': 4370, 'secondari': 4371, 'literari': 4372, 'chavez': 4373, 'impos': 4374, 'springer': 4375, '75': 4376, 'bread': 4377, 'lectur': 4378, 'naughti': 4379, 'heist': 4380, 'ingeni': 4381, 'straightforward': 4382, 'hopkin': 4383, 'entranc': 4384, 'cancer': 4385, 'worship': 4386, '1939': 4387, 'en': 4388, 'paxton': 4389, 'beverli': 4390, 'ram': 4391, 'teas': 4392, 'atroc': 4393, 'leigh': 4394, 'recogniz': 4395, 'smell': 4396, 'rub': 4397, 'tierney': 4398, 'standout': 4399, 'posey': 4400, 'counterpart': 4401, 'chamberlain': 4402, 'nemesi': 4403, 'enthral': 4404, 'entitl': 4405, 'misguid': 4406, 'quaid': 4407, 'duel': 4408, 'skeptic': 4409, 'ratso': 4410, 'policeman': 4411, 'attenborough': 4412, 'morbid': 4413, 'net': 4414, 'yearn': 4415, 'transcend': 4416, 'moreov': 4417, 'injuri': 4418, 'heartfelt': 4419, '1986': 4420, 'cattl': 4421, 'sublim': 4422, 'esther': 4423, 'nolan': 4424, 'bernard': 4425, 'watcher': 4426, 'convert': 4427, 'laurenc': 4428, 'missil': 4429, 'variat': 4430, 'lindsay': 4431, 'sassi': 4432, 'ace': 4433, 'clan': 4434, 'geni': 4435, 'kidman': 4436, 'moder': 4437, 'facil': 4438, 'diari': 4439, 'enabl': 4440, 'uncut': 4441, 'unexplain': 4442, 'poe': 4443, 'graini': 4444, 'puppi': 4445, 'mytholog': 4446, 'obstacl': 4447, 'bean': 4448, 'hopelessli': 4449, 'artsi': 4450, 'brood': 4451, 'youngest': 4452, 'dont': 4453, 'spiral': 4454, 'tyler': 4455, 'grin': 4456, 'steadi': 4457, 'cruelti': 4458, 'egg': 4459, 'bye': 4460, 'rosemari': 4461, 'characteris': 4462, 'reliabl': 4463, 'hk': 4464, 'vader': 4465, 'carlito': 4466, 'buzz': 4467, '1979': 4468, 'kitti': 4469, 'setup': 4470, 'out': 4471, 'athlet': 4472, 'hammi': 4473, 'weather': 4474, 'heap': 4475, 'bewar': 4476, '1969': 4477, 'christin': 4478, 'kline': 4479, 'bounc': 4480, 'exterior': 4481, 'underworld': 4482, 'effici': 4483, 'preming': 4484, 'spontan': 4485, 'acquaint': 4486, 'narrow': 4487, 'fuel': 4488, 'sweat': 4489, 'niec': 4490, 'gina': 4491, 'martha': 4492, 'disastr': 4493, 'baffl': 4494, 'brendan': 4495, 'decept': 4496, 'despic': 4497, 'clueless': 4498, 'patricia': 4499, 'oblig': 4500, 'hain': 4501, 'gillian': 4502, 'bronson': 4503, 'mayhem': 4504, 'dilemma': 4505, 'injur': 4506, 'loath': 4507, 'viewpoint': 4508, 'scar': 4509, 'harmless': 4510, 'tick': 4511, 'sooner': 4512, '19': 4513, 'angst': 4514, 'virtu': 4515, 'goof': 4516, 'outlaw': 4517, 'housewif': 4518, 'shatter': 4519, 'suprem': 4520, 'trigger': 4521, 'analyz': 4522, 'loi': 4523, 'uh': 4524, 'renaiss': 4525, 'candl': 4526, 'biker': 4527, 'insipid': 4528, 'preachi': 4529, 'circu': 4530, 'lester': 4531, 'sleepwalk': 4532, 'mermaid': 4533, 'rome': 4534, 'dandi': 4535, 'fontain': 4536, '73': 4537, 'enlist': 4538, 'headach': 4539, 'taboo': 4540, 'astound': 4541, 'hepburn': 4542, 'boston': 4543, 'macho': 4544, 'dish': 4545, 'surgeri': 4546, 'hostag': 4547, 'salt': 4548, 'hokey': 4549, 'camcord': 4550, 'idol': 4551, 'bent': 4552, 'stair': 4553, 'steer': 4554, 'oldest': 4555, 'amor': 4556, 'slimi': 4557, 'foolish': 4558, 'claustrophob': 4559, 'whore': 4560, 'contempt': 4561, 'sox': 4562, 'ebert': 4563, 'tripl': 4564, 'stimul': 4565, 'spade': 4566, 'glorifi': 4567, 'zoom': 4568, 'phenomenon': 4569, 'redund': 4570, 'immatur': 4571, 'fluff': 4572, 'scorses': 4573, 'ariel': 4574, 'overlong': 4575, 'intric': 4576, 'hooker': 4577, 'gere': 4578, 'dismal': 4579, 'guin': 4580, 'corbett': 4581, 'cassavet': 4582, 'filth': 4583, 'flag': 4584, 'margin': 4585, 'down': 4586, 'obligatori': 4587, '1976': 4588, 'mount': 4589, 'dwarf': 4590, 'zane': 4591, 'preced': 4592, 'mutual': 4593, 'transplant': 4594, 'flirt': 4595, 'keen': 4596, 'muscl': 4597, 'spinal': 4598, 'perman': 4599, 'spree': 4600, 'antagonist': 4601, 'cohen': 4602, 'frantic': 4603, 'cow': 4604, 'astronaut': 4605, 'proport': 4606, 'joker': 4607, 'widescreen': 4608, '1981': 4609, 'gasp': 4610, 'shred': 4611, 'faint': 4612, 'shield': 4613, 'gabl': 4614, 'trivia': 4615, 'alvin': 4616, 'flashi': 4617, 'rhyme': 4618, 'beard': 4619, 'assert': 4620, 'schlock': 4621, 'strongest': 4622, 'fascist': 4623, 'radiat': 4624, 'remad': 4625, 'harold': 4626, 'naschi': 4627, 'nolt': 4628, 'corman': 4629, 'conquer': 4630, 'messi': 4631, 'cush': 4632, 'repris': 4633, 'hara': 4634, '95': 4635, 'mobil': 4636, 'boob': 4637, 'scandal': 4638, 'strive': 4639, 'archiv': 4640, 'sensual': 4641, 'bachelor': 4642, 'barn': 4643, 'departur': 4644, 'raj': 4645, 'neurot': 4646, '28': 4647, 'bitten': 4648, 'brush': 4649, 'instruct': 4650, 'inflict': 4651, 'off': 4652, 'deer': 4653, 'claud': 4654, 'carey': 4655, 'mol': 4656, 'vaniti': 4657, 'someday': 4658, 'info': 4659, 'discern': 4660, 'interestingli': 4661, 'triangl': 4662, 'danish': 4663, 'persuad': 4664, '1945': 4665, 'divin': 4666, 'ritchi': 4667, 'wield': 4668, 'www': 4669, 'resum': 4670, 'flock': 4671, 'fishburn': 4672, 'aborigin': 4673, 'hug': 4674, 'cb': 4675, 'ish': 4676, 'cliffhang': 4677, 'neill': 4678, 'fragil': 4679, 'parson': 4680, 'kathryn': 4681, 'axe': 4682, 'miracul': 4683, 'pacif': 4684, 'clad': 4685, 'jade': 4686, 'dylan': 4687, 'frontier': 4688, 'rot': 4689, 'cher': 4690, 'biblic': 4691, 'carlo': 4692, 'luka': 4693, 'artwork': 4694, 'colin': 4695, 'dim': 4696, 'pixar': 4697, 'hilar': 4698, 'hapless': 4699, 'senior': 4700, 'dame': 4701, 'earnest': 4702, 'cycl': 4703, 'submit': 4704, 'helm': 4705, 'melissa': 4706, 'mobster': 4707, 'harrison': 4708, 'casino': 4709, 'traffic': 4710, 'prophet': 4711, 'anton': 4712, 'recit': 4713, 'banter': 4714, 'heartwarm': 4715, 'proclaim': 4716, 'vibrant': 4717, 'timberlak': 4718, 'loretta': 4719, 'wendigo': 4720, 'undermin': 4721, 'bate': 4722, 'europa': 4723, 'pickford': 4724, 'aris': 4725, 'estrang': 4726, 'marlon': 4727, 'jordan': 4728, 'foil': 4729, 'misfortun': 4730, 'electron': 4731, 'bikini': 4732, 'razor': 4733, 'venom': 4734, 'legitim': 4735, 'rooki': 4736, 'breakfast': 4737, 'shepherd': 4738, 'seedi': 4739, 'static': 4740, 'isra': 4741, 'mathieu': 4742, 'redneck': 4743, 'vile': 4744, 'sicken': 4745, 'vanessa': 4746, 'blatantli': 4747, 'articl': 4748, 'jo': 4749, 'akin': 4750, 'feast': 4751, 'lui': 4752, 'mason': 4753, 'eli': 4754, 'bondag': 4755, 'uma': 4756, 'token': 4757, 'http': 4758, 'nope': 4759, 'lucil': 4760, 'choke': 4761, 'wardrob': 4762, 'pc': 4763, 'holocaust': 4764, 'toronto': 4765, 'cerebr': 4766, 'winchest': 4767, 'illus': 4768, 'northern': 4769, 'alexandr': 4770, 'flavor': 4771, 'milo': 4772, 'orphan': 4773, 'antholog': 4774, 'trier': 4775, 'smack': 4776, 'swept': 4777, 'disregard': 4778, 'howl': 4779, 'comprehend': 4780, 'ceremoni': 4781, 'psych': 4782, 'oppon': 4783, 'feminin': 4784, 'gilbert': 4785, 'tack': 4786, 'clinic': 4787, 'nightclub': 4788, 'outdat': 4789, 'wrestler': 4790, 'styliz': 4791, 'ideolog': 4792, 'fifth': 4793, 'linear': 4794, 'deem': 4795, 'affleck': 4796, 'magician': 4797, 'charlton': 4798, 'boyer': 4799, 'huston': 4800, 'abund': 4801, 'leather': 4802, 'peer': 4803, 'cartoonish': 4804, 'gunga': 4805, 'highway': 4806, 'retriev': 4807, 'dudley': 4808, 'glare': 4809, 'shorter': 4810, 'audrey': 4811, 'knightley': 4812, 'turd': 4813, 'frog': 4814, 'corn': 4815, 'plate': 4816, 'bastard': 4817, 'client': 4818, 'monument': 4819, 'deliver': 4820, '1994': 4821, 'cemeteri': 4822, 'spine': 4823, 'bogu': 4824, 'mitch': 4825, '1991': 4826, 'moe': 4827, 'whack': 4828, 'chip': 4829, 'greet': 4830, 'energet': 4831, 'tara': 4832, 'spawn': 4833, 'boo': 4834, '4th': 4835, 'compris': 4836, 'phenomen': 4837, 'goldsworthi': 4838, 'breakdown': 4839, 'conrad': 4840, 'lighter': 4841, 'evolut': 4842, 'toe': 4843, 'durat': 4844, 'braveheart': 4845, 'lavish': 4846, 'sleaz': 4847, 'potter': 4848, 'lifeless': 4849, 'btw': 4850, 'newer': 4851, 'einstein': 4852, 'collector': 4853, 'snatch': 4854, 'senat': 4855, 'cuban': 4856, 'salman': 4857, 'summar': 4858, 'uniformli': 4859, 'constitut': 4860, 'replay': 4861, 'evelyn': 4862, 'cecil': 4863, 'armstrong': 4864, 'spectacl': 4865, 'signal': 4866, 'jare': 4867, 'outright': 4868, 'lex': 4869, 'undertak': 4870, 'appl': 4871, 'luxuri': 4872, 'healthi': 4873, 'judd': 4874, 'kazan': 4875, 'bori': 4876, 'pronounc': 4877, 'capot': 4878, 'nina': 4879, 'historian': 4880, 'undead': 4881, 'belli': 4882, 'ie': 4883, 'alleg': 4884, 'creek': 4885, '1977': 4886, 'fluid': 4887, 'neatli': 4888, 'randolph': 4889, 'bulk': 4890, 'kent': 4891, 'sorrow': 4892, 'jam': 4893, 'occup': 4894, 'jedi': 4895, 'trauma': 4896, 'liu': 4897, 'eleven': 4898, 'inaccuraci': 4899, 'mcqueen': 4900, 'ol': 4901, 'embark': 4902, 'firmli': 4903, 'clara': 4904, 'gilliam': 4905, 'jule': 4906, '1974': 4907, 'wtf': 4908, 'spray': 4909, 'fruit': 4910, 'knee': 4911, 'abound': 4912, 'pepper': 4913, 'inaccur': 4914, 'comprehens': 4915, 'poker': 4916, 'rosario': 4917, 'congratul': 4918, 'groan': 4919, 'genet': 4920, 'roar': 4921, 'bait': 4922, 'decapit': 4923, 'mum': 4924, 'miniseri': 4925, 'id': 4926, 'vain': 4927, 'curtain': 4928, 'blur': 4929, 'ash': 4930, 'goldblum': 4931, 'carmen': 4932, 'truman': 4933, 'unsuspect': 4934, 'subtli': 4935, 'propheci': 4936, 'unattract': 4937, 'relentless': 4938, 'conan': 4939, 'kiddi': 4940, 'lauren': 4941, '1985': 4942, 'pioneer': 4943, 'antonio': 4944, 'tokyo': 4945, 'palm': 4946, 'meal': 4947, 'vignett': 4948, 'sidewalk': 4949, 'sacrif': 4950, 'comb': 4951, 'galaxi': 4952, 'bsg': 4953, 'aussi': 4954, 'lanc': 4955, 'porter': 4956, 'walt': 4957, 'inclus': 4958, 'cape': 4959, 'forgiven': 4960, 'miami': 4961, 'basket': 4962, 'paula': 4963, 'bach': 4964, 'growth': 4965, 'masterson': 4966, 'victorian': 4967, 'turtl': 4968, 'asset': 4969, 'sophi': 4970, 'reincarn': 4971, 'ghetto': 4972, 'profil': 4973, 'playboy': 4974, 'frontal': 4975, 'casper': 4976, '21st': 4977, 'verg': 4978, 'sparkl': 4979, 'spill': 4980, 'macabr': 4981, 'orchestr': 4982, 'vastli': 4983, 'detach': 4984, 'modest': 4985, 'rapidli': 4986, 'mice': 4987, 'incorrect': 4988, 'epitom': 4989, 'hackman': 4990, 'cypher': 4991, 'evan': 4992, 'drone': 4993, 'omin': 4994, 'weaker': 4995, 'dubiou': 4996, 'hostil': 4997, 'substanti': 4998, 'jill': 4999}\n"
     ]
    }
   ],
   "source": [
    "# TODO: Use this space to determine the five most frequently appearing words in the training set.\n",
    "print(word_dict)"
   ]
  },
  {
   "cell_type": "markdown",
   "metadata": {},
   "source": [
    "### Save `word_dict`\n",
    "\n",
    "Later on when we construct an endpoint which processes a submitted review we will need to make use of the `word_dict` which we have created. As such, we will save it to a file now for future use."
   ]
  },
  {
   "cell_type": "code",
   "execution_count": null,
   "metadata": {},
   "outputs": [],
   "source": []
  },
  {
   "cell_type": "code",
   "execution_count": 14,
   "metadata": {},
   "outputs": [],
   "source": [
    "data_dir = '../data/pytorch' # The folder we will use for storing data\n",
    "if not os.path.exists(data_dir): # Make sure that the folder exists\n",
    "    os.makedirs(data_dir)"
   ]
  },
  {
   "cell_type": "code",
   "execution_count": 15,
   "metadata": {},
   "outputs": [],
   "source": [
    "with open(os.path.join(data_dir, 'word_dict.pkl'), \"wb\") as f:\n",
    "    pickle.dump(word_dict, f)"
   ]
  },
  {
   "cell_type": "markdown",
   "metadata": {},
   "source": [
    "### Transform the reviews\n",
    "\n",
    "Now that we have our word dictionary which allows us to transform the words appearing in the reviews into integers, it is time to make use of it and convert our reviews to their integer sequence representation, making sure to pad or truncate to a fixed length, which in our case is `500`."
   ]
  },
  {
   "cell_type": "code",
   "execution_count": 16,
   "metadata": {},
   "outputs": [],
   "source": [
    "def convert_and_pad(word_dict, sentence, pad=500):\n",
    "    NOWORD = 0 # We will use 0 to represent the 'no word' category\n",
    "    INFREQ = 1 # and we use 1 to represent the infrequent words, i.e., words not appearing in word_dict\n",
    "    \n",
    "    working_sentence = [NOWORD] * pad\n",
    "    \n",
    "    for word_index, word in enumerate(sentence[:pad]):\n",
    "        if word in word_dict:\n",
    "            working_sentence[word_index] = word_dict[word]\n",
    "        else:\n",
    "            working_sentence[word_index] = INFREQ\n",
    "            \n",
    "    return working_sentence, min(len(sentence), pad)\n",
    "\n",
    "def convert_and_pad_data(word_dict, data, pad=500):\n",
    "    result = []\n",
    "    lengths = []\n",
    "    \n",
    "    for sentence in data:\n",
    "        converted, leng = convert_and_pad(word_dict, sentence, pad)\n",
    "        result.append(converted)\n",
    "        lengths.append(leng)\n",
    "        \n",
    "    return np.array(result), np.array(lengths)"
   ]
  },
  {
   "cell_type": "code",
   "execution_count": 17,
   "metadata": {},
   "outputs": [],
   "source": [
    "train_X, train_X_len = convert_and_pad_data(word_dict, train_X)\n",
    "test_X, test_X_len = convert_and_pad_data(word_dict, test_X)"
   ]
  },
  {
   "cell_type": "markdown",
   "metadata": {},
   "source": [
    "As a quick check to make sure that things are working as intended, check to see what one of the reviews in the training set looks like after having been processeed. Does this look reasonable? What is the length of a review in the training set?"
   ]
  },
  {
   "cell_type": "code",
   "execution_count": 18,
   "metadata": {},
   "outputs": [
    {
     "name": "stdout",
     "output_type": "stream",
     "text": [
      "500\n",
      "[  12    2 2834 2472  166 1172  609    2 1409  312 1619 4179  336   48\n",
      " 2606  104  344 4063   52 2013   34   52  705   35   77    2   70  718\n",
      "  229 3089    1    1  160 4179  336  289    1  336  407 2145    1  403\n",
      " 1757    1 1004    1  624    8  176 2725   10 1140  195  634 2145 1318\n",
      "  922  711   41   83  103 1080 1379 3539 2788 1501   73 1989    7    1\n",
      " 2145   65  852 2632    5  339  160   70  104  289    1   34  468 1278\n",
      "  853    1  407    1  609  403    1    1   34   79 1885  339    2  674\n",
      " 3019  325 2788  160   83    0    0    0    0    0    0    0    0    0\n",
      "    0    0    0    0    0    0    0    0    0    0    0    0    0    0\n",
      "    0    0    0    0    0    0    0    0    0    0    0    0    0    0\n",
      "    0    0    0    0    0    0    0    0    0    0    0    0    0    0\n",
      "    0    0    0    0    0    0    0    0    0    0    0    0    0    0\n",
      "    0    0    0    0    0    0    0    0    0    0    0    0    0    0\n",
      "    0    0    0    0    0    0    0    0    0    0    0    0    0    0\n",
      "    0    0    0    0    0    0    0    0    0    0    0    0    0    0\n",
      "    0    0    0    0    0    0    0    0    0    0    0    0    0    0\n",
      "    0    0    0    0    0    0    0    0    0    0    0    0    0    0\n",
      "    0    0    0    0    0    0    0    0    0    0    0    0    0    0\n",
      "    0    0    0    0    0    0    0    0    0    0    0    0    0    0\n",
      "    0    0    0    0    0    0    0    0    0    0    0    0    0    0\n",
      "    0    0    0    0    0    0    0    0    0    0    0    0    0    0\n",
      "    0    0    0    0    0    0    0    0    0    0    0    0    0    0\n",
      "    0    0    0    0    0    0    0    0    0    0    0    0    0    0\n",
      "    0    0    0    0    0    0    0    0    0    0    0    0    0    0\n",
      "    0    0    0    0    0    0    0    0    0    0    0    0    0    0\n",
      "    0    0    0    0    0    0    0    0    0    0    0    0    0    0\n",
      "    0    0    0    0    0    0    0    0    0    0    0    0    0    0\n",
      "    0    0    0    0    0    0    0    0    0    0    0    0    0    0\n",
      "    0    0    0    0    0    0    0    0    0    0    0    0    0    0\n",
      "    0    0    0    0    0    0    0    0    0    0    0    0    0    0\n",
      "    0    0    0    0    0    0    0    0    0    0    0    0    0    0\n",
      "    0    0    0    0    0    0    0    0    0    0    0    0    0    0\n",
      "    0    0    0    0    0    0    0    0    0    0    0    0    0    0\n",
      "    0    0    0    0    0    0    0    0    0    0    0    0    0    0\n",
      "    0    0    0    0    0    0    0    0    0    0    0    0    0    0\n",
      "    0    0    0    0    0    0    0    0    0    0]\n"
     ]
    }
   ],
   "source": [
    "# Use this cell to examine one of the processed reviews to make sure everything is working as intended.\n",
    "print(len(train_X[100]))\n",
    "print(train_X[100])"
   ]
  },
  {
   "cell_type": "markdown",
   "metadata": {},
   "source": [
    "**Question:** In the cells above we use the `preprocess_data` and `convert_and_pad_data` methods to process both the training and testing set. Why or why not might this be a problem?"
   ]
  },
  {
   "cell_type": "markdown",
   "metadata": {},
   "source": [
    "**Answer:** The preprocess for the data should be the same because the model is trained to see the data in a specific way. As to the convert_and_pad_data it uses a word dictionary. A word dictionary will most of the times be more adapted to a dataset than to other."
   ]
  },
  {
   "cell_type": "markdown",
   "metadata": {},
   "source": [
    "## Step 3: Upload the data to S3\n",
    "\n",
    "As in the XGBoost notebook, we will need to upload the training dataset to S3 in order for our training code to access it. For now we will save it locally and we will upload to S3 later on.\n",
    "\n",
    "### Save the processed training dataset locally\n",
    "\n",
    "It is important to note the format of the data that we are saving as we will need to know it when we write the training code. In our case, each row of the dataset has the form `label`, `length`, `review[500]` where `review[500]` is a sequence of `500` integers representing the words in the review."
   ]
  },
  {
   "cell_type": "code",
   "execution_count": 19,
   "metadata": {},
   "outputs": [],
   "source": [
    "import pandas as pd\n",
    "    \n",
    "pd.concat([pd.DataFrame(train_y), pd.DataFrame(train_X_len), pd.DataFrame(train_X)], axis=1) \\\n",
    "        .to_csv(os.path.join(data_dir, 'train.csv'), header=False, index=False)"
   ]
  },
  {
   "cell_type": "markdown",
   "metadata": {},
   "source": [
    "### Uploading the training data\n",
    "\n",
    "\n",
    "Next, we need to upload the training data to the SageMaker default S3 bucket so that we can provide access to it while training our model."
   ]
  },
  {
   "cell_type": "code",
   "execution_count": 20,
   "metadata": {},
   "outputs": [],
   "source": [
    "import sagemaker\n",
    "\n",
    "sagemaker_session = sagemaker.Session()\n",
    "\n",
    "bucket = sagemaker_session.default_bucket()\n",
    "prefix = 'sagemaker/sentiment_rnn'\n",
    "\n",
    "role = sagemaker.get_execution_role()"
   ]
  },
  {
   "cell_type": "code",
   "execution_count": 21,
   "metadata": {},
   "outputs": [],
   "source": [
    "input_data = sagemaker_session.upload_data(path=data_dir, bucket=bucket, key_prefix=prefix)"
   ]
  },
  {
   "cell_type": "markdown",
   "metadata": {},
   "source": [
    "**NOTE:** The cell above uploads the entire contents of our data directory. This includes the `word_dict.pkl` file. This is fortunate as we will need this later on when we create an endpoint that accepts an arbitrary review. For now, we will just take note of the fact that it resides in the data directory (and so also in the S3 training bucket) and that we will need to make sure it gets saved in the model directory."
   ]
  },
  {
   "cell_type": "markdown",
   "metadata": {},
   "source": [
    "## Step 4: Build and Train the PyTorch Model\n",
    "\n",
    "In the XGBoost notebook we discussed what a model is in the SageMaker framework. In particular, a model comprises three objects\n",
    "\n",
    " - Model Artifacts,\n",
    " - Training Code, and\n",
    " - Inference Code,\n",
    " \n",
    "each of which interact with one another. In the XGBoost example we used training and inference code that was provided by Amazon. Here we will still be using containers provided by Amazon with the added benefit of being able to include our own custom code.\n",
    "\n",
    "We will start by implementing our own neural network in PyTorch along with a training script. For the purposes of this project we have provided the necessary model object in the `model.py` file, inside of the `train` folder. You can see the provided implementation by running the cell below."
   ]
  },
  {
   "cell_type": "code",
   "execution_count": 22,
   "metadata": {},
   "outputs": [
    {
     "name": "stdout",
     "output_type": "stream",
     "text": [
      "\u001b[34mimport\u001b[39;49;00m \u001b[04m\u001b[36mtorch.nn\u001b[39;49;00m \u001b[34mas\u001b[39;49;00m \u001b[04m\u001b[36mnn\u001b[39;49;00m\r\n",
      "\r\n",
      "\u001b[34mclass\u001b[39;49;00m \u001b[04m\u001b[32mLSTMClassifier\u001b[39;49;00m(nn.Module):\r\n",
      "    \u001b[33m\"\"\"\u001b[39;49;00m\r\n",
      "\u001b[33m    This is the simple RNN model we will be using to perform Sentiment Analysis.\u001b[39;49;00m\r\n",
      "\u001b[33m    \"\"\"\u001b[39;49;00m\r\n",
      "\r\n",
      "    \u001b[34mdef\u001b[39;49;00m \u001b[32m__init__\u001b[39;49;00m(\u001b[36mself\u001b[39;49;00m, embedding_dim, hidden_dim, vocab_size):\r\n",
      "        \u001b[33m\"\"\"\u001b[39;49;00m\r\n",
      "\u001b[33m        Initialize the model by settingg up the various layers.\u001b[39;49;00m\r\n",
      "\u001b[33m        \"\"\"\u001b[39;49;00m\r\n",
      "        \u001b[36msuper\u001b[39;49;00m(LSTMClassifier, \u001b[36mself\u001b[39;49;00m).\u001b[32m__init__\u001b[39;49;00m()\r\n",
      "\r\n",
      "        \u001b[36mself\u001b[39;49;00m.embedding = nn.Embedding(vocab_size, embedding_dim, padding_idx=\u001b[34m0\u001b[39;49;00m)\r\n",
      "        \u001b[36mself\u001b[39;49;00m.lstm = nn.LSTM(embedding_dim, hidden_dim)\r\n",
      "        \u001b[36mself\u001b[39;49;00m.dense = nn.Linear(in_features=hidden_dim, out_features=\u001b[34m1\u001b[39;49;00m)\r\n",
      "        \u001b[36mself\u001b[39;49;00m.sig = nn.Sigmoid()\r\n",
      "        \r\n",
      "        \u001b[36mself\u001b[39;49;00m.word_dict = \u001b[36mNone\u001b[39;49;00m\r\n",
      "\r\n",
      "    \u001b[34mdef\u001b[39;49;00m \u001b[32mforward\u001b[39;49;00m(\u001b[36mself\u001b[39;49;00m, x):\r\n",
      "        \u001b[33m\"\"\"\u001b[39;49;00m\r\n",
      "\u001b[33m        Perform a forward pass of our model on some input.\u001b[39;49;00m\r\n",
      "\u001b[33m        \"\"\"\u001b[39;49;00m\r\n",
      "        x = x.t()\r\n",
      "        lengths = x[\u001b[34m0\u001b[39;49;00m,:]\r\n",
      "        reviews = x[\u001b[34m1\u001b[39;49;00m:,:]\r\n",
      "        embeds = \u001b[36mself\u001b[39;49;00m.embedding(reviews)\r\n",
      "        lstm_out, _ = \u001b[36mself\u001b[39;49;00m.lstm(embeds)\r\n",
      "        out = \u001b[36mself\u001b[39;49;00m.dense(lstm_out)\r\n",
      "        out = out[lengths - \u001b[34m1\u001b[39;49;00m, \u001b[36mrange\u001b[39;49;00m(\u001b[36mlen\u001b[39;49;00m(lengths))]\r\n",
      "        \u001b[34mreturn\u001b[39;49;00m \u001b[36mself\u001b[39;49;00m.sig(out.squeeze())\r\n"
     ]
    }
   ],
   "source": [
    "!pygmentize train/model.py"
   ]
  },
  {
   "cell_type": "markdown",
   "metadata": {},
   "source": [
    "The important takeaway from the implementation provided is that there are three parameters that we may wish to tweak to improve the performance of our model. These are the embedding dimension, the hidden dimension and the size of the vocabulary. We will likely want to make these parameters configurable in the training script so that if we wish to modify them we do not need to modify the script itself. We will see how to do this later on. To start we will write some of the training code in the notebook so that we can more easily diagnose any issues that arise.\n",
    "\n",
    "First we will load a small portion of the training data set to use as a sample. It would be very time consuming to try and train the model completely in the notebook as we do not have access to a gpu and the compute instance that we are using is not particularly powerful. However, we can work on a small bit of the data to get a feel for how our training script is behaving."
   ]
  },
  {
   "cell_type": "code",
   "execution_count": 23,
   "metadata": {},
   "outputs": [],
   "source": [
    "import torch\n",
    "import torch.utils.data\n",
    "import torch.nn as nn\n",
    "\n",
    "# Read in only the first 250 rows\n",
    "train_sample = pd.read_csv(os.path.join(data_dir, 'train.csv'), header=None, names=None, nrows=250)\n",
    "\n",
    "# Turn the input pandas dataframe into tensors\n",
    "train_sample_y = torch.from_numpy(train_sample[[0]].values).float().squeeze()\n",
    "train_sample_X = torch.from_numpy(train_sample.drop([0], axis=1).values).long()\n",
    "\n",
    "# Build the dataset\n",
    "train_sample_ds = torch.utils.data.TensorDataset(train_sample_X, train_sample_y)\n",
    "# Build the dataloader\n",
    "train_sample_dl = torch.utils.data.DataLoader(train_sample_ds, batch_size=50)"
   ]
  },
  {
   "cell_type": "markdown",
   "metadata": {},
   "source": [
    "### (TODO) Writing the training method\n",
    "\n",
    "Next we need to write the training code itself. This should be very similar to training methods that you have written before to train PyTorch models. We will leave any difficult aspects such as model saving / loading and parameter loading until a little later."
   ]
  },
  {
   "cell_type": "code",
   "execution_count": 24,
   "metadata": {},
   "outputs": [],
   "source": [
    "def train(model, train_loader, epochs, optimizer, loss_fn, device):\n",
    "    for epoch in range(1, epochs + 1):\n",
    "        model.train()\n",
    "        total_loss = 0\n",
    "        for batch in train_loader:         \n",
    "            batch_X, batch_y = batch\n",
    "            \n",
    "            batch_X = batch_X.to(device)\n",
    "            batch_y = batch_y.to(device)\n",
    "            \n",
    "            # TODO: Complete this train method to train the model provided.\n",
    "            \n",
    "            optimizer.zero_grad()\n",
    "    \n",
    "            output = model(batch_X)\n",
    "    \n",
    "            loss = loss_fn(output.squeeze(),batch_y)\n",
    "    \n",
    "            loss.backward()\n",
    "        \n",
    "            #gradient clipping\n",
    "            nn.utils.clip_grad_norm_(model.parameters(), 5)\n",
    "    \n",
    "            #optimizer\n",
    "            optimizer.step()\n",
    "            \n",
    "            total_loss += loss.data.item()\n",
    "        print(\"Epoch: {}, BCELoss: {}\".format(epoch, total_loss / len(train_loader)))"
   ]
  },
  {
   "cell_type": "markdown",
   "metadata": {},
   "source": [
    "Supposing we have the training method above, we will test that it is working by writing a bit of code in the notebook that executes our training method on the small sample training set that we loaded earlier. The reason for doing this in the notebook is so that we have an opportunity to fix any errors that arise early when they are easier to diagnose."
   ]
  },
  {
   "cell_type": "code",
   "execution_count": 25,
   "metadata": {},
   "outputs": [
    {
     "name": "stdout",
     "output_type": "stream",
     "text": [
      "Epoch: 1, BCELoss: 0.6945502042770386\n",
      "Epoch: 2, BCELoss: 0.6856969356536865\n",
      "Epoch: 3, BCELoss: 0.6781686067581176\n",
      "Epoch: 4, BCELoss: 0.6696938037872314\n",
      "Epoch: 5, BCELoss: 0.6589839100837708\n"
     ]
    }
   ],
   "source": [
    "import torch.optim as optim\n",
    "from train.model import LSTMClassifier\n",
    "\n",
    "device = torch.device(\"cuda\" if torch.cuda.is_available() else \"cpu\")\n",
    "model = LSTMClassifier(32, 100, 5000).to(device)\n",
    "optimizer = optim.Adam(model.parameters())\n",
    "loss_fn = torch.nn.BCELoss()\n",
    "\n",
    "train(model, train_sample_dl, 5, optimizer, loss_fn, device)"
   ]
  },
  {
   "cell_type": "markdown",
   "metadata": {},
   "source": [
    "In order to construct a PyTorch model using SageMaker we must provide SageMaker with a training script. We may optionally include a directory which will be copied to the container and from which our training code will be run. When the training container is executed it will check the uploaded directory (if there is one) for a `requirements.txt` file and install any required Python libraries, after which the training script will be run."
   ]
  },
  {
   "cell_type": "markdown",
   "metadata": {},
   "source": [
    "### (TODO) Training the model\n",
    "\n",
    "When a PyTorch model is constructed in SageMaker, an entry point must be specified. This is the Python file which will be executed when the model is trained. Inside of the `train` directory is a file called `train.py` which has been provided and which contains most of the necessary code to train our model. The only thing that is missing is the implementation of the `train()` method which you wrote earlier in this notebook.\n",
    "\n",
    "**TODO**: Copy the `train()` method written above and paste it into the `train/train.py` file where required.\n",
    "\n",
    "The way that SageMaker passes hyperparameters to the training script is by way of arguments. These arguments can then be parsed and used in the training script. To see how this is done take a look at the provided `train/train.py` file."
   ]
  },
  {
   "cell_type": "code",
   "execution_count": 26,
   "metadata": {},
   "outputs": [],
   "source": [
    "from sagemaker.pytorch import PyTorch\n",
    "\n",
    "estimator = PyTorch(entry_point=\"train.py\",\n",
    "                    source_dir=\"train\",\n",
    "                    role=role,\n",
    "                    framework_version='0.4.0',\n",
    "                    train_instance_count=1,\n",
    "                    train_instance_type='ml.p2.xlarge',\n",
    "                    hyperparameters={\n",
    "                        'epochs': 10,\n",
    "                        'hidden_dim': 200,\n",
    "                    })"
   ]
  },
  {
   "cell_type": "code",
   "execution_count": 27,
   "metadata": {},
   "outputs": [
    {
     "name": "stdout",
     "output_type": "stream",
     "text": [
      "2019-07-18 15:30:44 Starting - Starting the training job...\n",
      "2019-07-18 15:30:45 Starting - Launching requested ML instances......\n",
      "2019-07-18 15:31:48 Starting - Preparing the instances for training.........\n",
      "2019-07-18 15:33:17 Downloading - Downloading input data...\n",
      "2019-07-18 15:33:48 Training - Downloading the training image..\n",
      "\u001b[31mbash: cannot set terminal process group (-1): Inappropriate ioctl for device\u001b[0m\n",
      "\u001b[31mbash: no job control in this shell\u001b[0m\n",
      "\u001b[31m2019-07-18 15:34:22,712 sagemaker-containers INFO     Imported framework sagemaker_pytorch_container.training\u001b[0m\n",
      "\u001b[31m2019-07-18 15:34:22,736 sagemaker_pytorch_container.training INFO     Block until all host DNS lookups succeed.\u001b[0m\n",
      "\u001b[31m2019-07-18 15:34:25,775 sagemaker_pytorch_container.training INFO     Invoking user training script.\u001b[0m\n",
      "\u001b[31m2019-07-18 15:34:26,094 sagemaker-containers INFO     Module train does not provide a setup.py. \u001b[0m\n",
      "\u001b[31mGenerating setup.py\u001b[0m\n",
      "\u001b[31m2019-07-18 15:34:26,094 sagemaker-containers INFO     Generating setup.cfg\u001b[0m\n",
      "\u001b[31m2019-07-18 15:34:26,095 sagemaker-containers INFO     Generating MANIFEST.in\u001b[0m\n",
      "\u001b[31m2019-07-18 15:34:26,095 sagemaker-containers INFO     Installing module with the following command:\u001b[0m\n",
      "\u001b[31m/usr/bin/python -m pip install -U . -r requirements.txt\u001b[0m\n",
      "\u001b[31mProcessing /opt/ml/code\u001b[0m\n",
      "\u001b[31mCollecting pandas (from -r requirements.txt (line 1))\n",
      "  Downloading https://files.pythonhosted.org/packages/74/24/0cdbf8907e1e3bc5a8da03345c23cbed7044330bb8f73bb12e711a640a00/pandas-0.24.2-cp35-cp35m-manylinux1_x86_64.whl (10.0MB)\u001b[0m\n",
      "\u001b[31mCollecting numpy (from -r requirements.txt (line 2))\n",
      "  Downloading https://files.pythonhosted.org/packages/bb/ef/d5a21cbc094d3f4d5b5336494dbcc9550b70c766a8345513c7c24ed18418/numpy-1.16.4-cp35-cp35m-manylinux1_x86_64.whl (17.2MB)\u001b[0m\n",
      "\u001b[31mCollecting nltk (from -r requirements.txt (line 3))\n",
      "  Downloading https://files.pythonhosted.org/packages/87/16/4d247e27c55a7b6412e7c4c86f2500ae61afcbf5932b9e3491f8462f8d9e/nltk-3.4.4.zip (1.5MB)\u001b[0m\n",
      "\u001b[31mCollecting beautifulsoup4 (from -r requirements.txt (line 4))\n",
      "  Downloading https://files.pythonhosted.org/packages/1d/5d/3260694a59df0ec52f8b4883f5d23b130bc237602a1411fa670eae12351e/beautifulsoup4-4.7.1-py3-none-any.whl (94kB)\u001b[0m\n",
      "\u001b[31mCollecting html5lib (from -r requirements.txt (line 5))\n",
      "  Downloading https://files.pythonhosted.org/packages/a5/62/bbd2be0e7943ec8504b517e62bab011b4946e1258842bc159e5dfde15b96/html5lib-1.0.1-py2.py3-none-any.whl (117kB)\u001b[0m\n",
      "\u001b[31mRequirement already satisfied, skipping upgrade: python-dateutil>=2.5.0 in /usr/local/lib/python3.5/dist-packages (from pandas->-r requirements.txt (line 1)) (2.7.5)\u001b[0m\n",
      "\u001b[31mCollecting pytz>=2011k (from pandas->-r requirements.txt (line 1))\u001b[0m\n",
      "\u001b[31m  Downloading https://files.pythonhosted.org/packages/3d/73/fe30c2daaaa0713420d0382b16fbb761409f532c56bdcc514bf7b6262bb6/pytz-2019.1-py2.py3-none-any.whl (510kB)\u001b[0m\n",
      "\u001b[31mRequirement already satisfied, skipping upgrade: six in /usr/local/lib/python3.5/dist-packages (from nltk->-r requirements.txt (line 3)) (1.11.0)\u001b[0m\n",
      "\u001b[31mCollecting soupsieve>=1.2 (from beautifulsoup4->-r requirements.txt (line 4))\n",
      "  Downloading https://files.pythonhosted.org/packages/35/e3/25079e8911085ab76a6f2facae0771078260c930216ab0b0c44dc5c9bf31/soupsieve-1.9.2-py2.py3-none-any.whl\u001b[0m\n",
      "\u001b[31mCollecting webencodings (from html5lib->-r requirements.txt (line 5))\n",
      "  Downloading https://files.pythonhosted.org/packages/f4/24/2a3e3df732393fed8b3ebf2ec078f05546de641fe1b667ee316ec1dcf3b7/webencodings-0.5.1-py2.py3-none-any.whl\u001b[0m\n",
      "\u001b[31mBuilding wheels for collected packages: nltk, train\n",
      "  Running setup.py bdist_wheel for nltk: started\u001b[0m\n",
      "\u001b[31m  Running setup.py bdist_wheel for nltk: finished with status 'done'\n",
      "  Stored in directory: /root/.cache/pip/wheels/41/c8/31/48ace4468e236e0e8435f30d33e43df48594e4d53e367cf061\n",
      "  Running setup.py bdist_wheel for train: started\n",
      "  Running setup.py bdist_wheel for train: finished with status 'done'\n",
      "  Stored in directory: /tmp/pip-ephem-wheel-cache-94qw8i3x/wheels/35/24/16/37574d11bf9bde50616c67372a334f94fa8356bc7164af8ca3\u001b[0m\n",
      "\u001b[31mSuccessfully built nltk train\u001b[0m\n",
      "\n",
      "2019-07-18 15:34:21 Training - Training image download completed. Training in progress.\u001b[31mInstalling collected packages: pytz, numpy, pandas, nltk, soupsieve, beautifulsoup4, webencodings, html5lib, train\n",
      "  Found existing installation: numpy 1.15.4\n",
      "    Uninstalling numpy-1.15.4:\u001b[0m\n",
      "\u001b[31m      Successfully uninstalled numpy-1.15.4\u001b[0m\n",
      "\u001b[31mSuccessfully installed beautifulsoup4-4.7.1 html5lib-1.0.1 nltk-3.4.4 numpy-1.16.4 pandas-0.24.2 pytz-2019.1 soupsieve-1.9.2 train-1.0.0 webencodings-0.5.1\u001b[0m\n",
      "\u001b[31mYou are using pip version 18.1, however version 19.1.1 is available.\u001b[0m\n",
      "\u001b[31mYou should consider upgrading via the 'pip install --upgrade pip' command.\u001b[0m\n",
      "\u001b[31m2019-07-18 15:34:38,373 sagemaker-containers INFO     Invoking user script\n",
      "\u001b[0m\n",
      "\u001b[31mTraining Env:\n",
      "\u001b[0m\n",
      "\u001b[31m{\n",
      "    \"additional_framework_parameters\": {},\n",
      "    \"resource_config\": {\n",
      "        \"hosts\": [\n",
      "            \"algo-1\"\n",
      "        ],\n",
      "        \"current_host\": \"algo-1\",\n",
      "        \"network_interface_name\": \"eth0\"\n",
      "    },\n",
      "    \"network_interface_name\": \"eth0\",\n",
      "    \"user_entry_point\": \"train.py\",\n",
      "    \"channel_input_dirs\": {\n",
      "        \"training\": \"/opt/ml/input/data/training\"\n",
      "    },\n",
      "    \"output_dir\": \"/opt/ml/output\",\n",
      "    \"job_name\": \"sagemaker-pytorch-2019-07-18-15-30-43-954\",\n",
      "    \"num_cpus\": 4,\n",
      "    \"module_name\": \"train\",\n",
      "    \"input_data_config\": {\n",
      "        \"training\": {\n",
      "            \"TrainingInputMode\": \"File\",\n",
      "            \"S3DistributionType\": \"FullyReplicated\",\n",
      "            \"RecordWrapperType\": \"None\"\n",
      "        }\n",
      "    },\n",
      "    \"framework_module\": \"sagemaker_pytorch_container.training:main\",\n",
      "    \"log_level\": 20,\n",
      "    \"num_gpus\": 1,\n",
      "    \"output_intermediate_dir\": \"/opt/ml/output/intermediate\",\n",
      "    \"model_dir\": \"/opt/ml/model\",\n",
      "    \"output_data_dir\": \"/opt/ml/output/data\",\n",
      "    \"input_dir\": \"/opt/ml/input\",\n",
      "    \"hyperparameters\": {\n",
      "        \"hidden_dim\": 200,\n",
      "        \"epochs\": 10\n",
      "    },\n",
      "    \"current_host\": \"algo-1\",\n",
      "    \"module_dir\": \"s3://sagemaker-eu-west-1-704174316395/sagemaker-pytorch-2019-07-18-15-30-43-954/source/sourcedir.tar.gz\",\n",
      "    \"hosts\": [\n",
      "        \"algo-1\"\n",
      "    ],\n",
      "    \"input_config_dir\": \"/opt/ml/input/config\"\u001b[0m\n",
      "\u001b[31m}\n",
      "\u001b[0m\n",
      "\u001b[31mEnvironment variables:\n",
      "\u001b[0m\n",
      "\u001b[31mSM_INPUT_CONFIG_DIR=/opt/ml/input/config\u001b[0m\n",
      "\u001b[31mSM_CHANNELS=[\"training\"]\u001b[0m\n",
      "\u001b[31mSM_LOG_LEVEL=20\u001b[0m\n",
      "\u001b[31mSM_OUTPUT_INTERMEDIATE_DIR=/opt/ml/output/intermediate\u001b[0m\n",
      "\u001b[31mPYTHONPATH=/usr/local/bin:/usr/lib/python35.zip:/usr/lib/python3.5:/usr/lib/python3.5/plat-x86_64-linux-gnu:/usr/lib/python3.5/lib-dynload:/usr/local/lib/python3.5/dist-packages:/usr/lib/python3/dist-packages\u001b[0m\n",
      "\u001b[31mSM_MODULE_NAME=train\u001b[0m\n",
      "\u001b[31mSM_OUTPUT_DIR=/opt/ml/output\u001b[0m\n",
      "\u001b[31mSM_NETWORK_INTERFACE_NAME=eth0\u001b[0m\n",
      "\u001b[31mSM_CHANNEL_TRAINING=/opt/ml/input/data/training\u001b[0m\n",
      "\u001b[31mSM_MODULE_DIR=s3://sagemaker-eu-west-1-704174316395/sagemaker-pytorch-2019-07-18-15-30-43-954/source/sourcedir.tar.gz\u001b[0m\n",
      "\u001b[31mSM_USER_ENTRY_POINT=train.py\u001b[0m\n",
      "\u001b[31mSM_NUM_GPUS=1\u001b[0m\n",
      "\u001b[31mSM_NUM_CPUS=4\u001b[0m\n",
      "\u001b[31mSM_INPUT_DIR=/opt/ml/input\u001b[0m\n",
      "\u001b[31mSM_HOSTS=[\"algo-1\"]\u001b[0m\n",
      "\u001b[31mSM_OUTPUT_DATA_DIR=/opt/ml/output/data\u001b[0m\n",
      "\u001b[31mSM_TRAINING_ENV={\"additional_framework_parameters\":{},\"channel_input_dirs\":{\"training\":\"/opt/ml/input/data/training\"},\"current_host\":\"algo-1\",\"framework_module\":\"sagemaker_pytorch_container.training:main\",\"hosts\":[\"algo-1\"],\"hyperparameters\":{\"epochs\":10,\"hidden_dim\":200},\"input_config_dir\":\"/opt/ml/input/config\",\"input_data_config\":{\"training\":{\"RecordWrapperType\":\"None\",\"S3DistributionType\":\"FullyReplicated\",\"TrainingInputMode\":\"File\"}},\"input_dir\":\"/opt/ml/input\",\"job_name\":\"sagemaker-pytorch-2019-07-18-15-30-43-954\",\"log_level\":20,\"model_dir\":\"/opt/ml/model\",\"module_dir\":\"s3://sagemaker-eu-west-1-704174316395/sagemaker-pytorch-2019-07-18-15-30-43-954/source/sourcedir.tar.gz\",\"module_name\":\"train\",\"network_interface_name\":\"eth0\",\"num_cpus\":4,\"num_gpus\":1,\"output_data_dir\":\"/opt/ml/output/data\",\"output_dir\":\"/opt/ml/output\",\"output_intermediate_dir\":\"/opt/ml/output/intermediate\",\"resource_config\":{\"current_host\":\"algo-1\",\"hosts\":[\"algo-1\"],\"network_interface_name\":\"eth0\"},\"user_entry_point\":\"train.py\"}\u001b[0m\n",
      "\u001b[31mSM_HPS={\"epochs\":10,\"hidden_dim\":200}\u001b[0m\n",
      "\u001b[31mSM_FRAMEWORK_PARAMS={}\u001b[0m\n",
      "\u001b[31mSM_RESOURCE_CONFIG={\"current_host\":\"algo-1\",\"hosts\":[\"algo-1\"],\"network_interface_name\":\"eth0\"}\u001b[0m\n",
      "\u001b[31mSM_HP_HIDDEN_DIM=200\u001b[0m\n",
      "\u001b[31mSM_INPUT_DATA_CONFIG={\"training\":{\"RecordWrapperType\":\"None\",\"S3DistributionType\":\"FullyReplicated\",\"TrainingInputMode\":\"File\"}}\u001b[0m\n",
      "\u001b[31mSM_HP_EPOCHS=10\u001b[0m\n",
      "\u001b[31mSM_FRAMEWORK_MODULE=sagemaker_pytorch_container.training:main\u001b[0m\n",
      "\u001b[31mSM_USER_ARGS=[\"--epochs\",\"10\",\"--hidden_dim\",\"200\"]\u001b[0m\n",
      "\u001b[31mSM_CURRENT_HOST=algo-1\u001b[0m\n",
      "\u001b[31mSM_MODEL_DIR=/opt/ml/model\n",
      "\u001b[0m\n",
      "\u001b[31mInvoking script with the following command:\n",
      "\u001b[0m\n",
      "\u001b[31m/usr/bin/python -m train --epochs 10 --hidden_dim 200\n",
      "\n",
      "\u001b[0m\n",
      "\u001b[31mUsing device cuda.\u001b[0m\n",
      "\u001b[31mGet train data loader.\u001b[0m\n"
     ]
    },
    {
     "name": "stdout",
     "output_type": "stream",
     "text": [
      "\u001b[31mModel loaded with embedding_dim 32, hidden_dim 200, vocab_size 5000.\u001b[0m\n",
      "\u001b[31mEpoch: 1, BCELoss: 0.6752032832223542\u001b[0m\n",
      "\u001b[31mEpoch: 2, BCELoss: 0.5939729274535666\u001b[0m\n",
      "\u001b[31mEpoch: 3, BCELoss: 0.5212814959944511\u001b[0m\n",
      "\u001b[31mEpoch: 4, BCELoss: 0.4540885072581622\u001b[0m\n",
      "\u001b[31mEpoch: 5, BCELoss: 0.40442126077048635\u001b[0m\n",
      "\u001b[31mEpoch: 6, BCELoss: 0.37822381635101476\u001b[0m\n",
      "\u001b[31mEpoch: 7, BCELoss: 0.34754165763757666\u001b[0m\n",
      "\u001b[31mEpoch: 8, BCELoss: 0.3208145955387427\u001b[0m\n",
      "\u001b[31mEpoch: 9, BCELoss: 0.29487427552135625\u001b[0m\n",
      "\n",
      "2019-07-18 15:37:44 Uploading - Uploading generated training model\n",
      "2019-07-18 15:37:44 Completed - Training job completed\n",
      "\u001b[31mEpoch: 10, BCELoss: 0.2785185767071588\u001b[0m\n",
      "\u001b[31m2019-07-18 15:37:37,987 sagemaker-containers INFO     Reporting training SUCCESS\u001b[0m\n",
      "Billable seconds: 268\n"
     ]
    }
   ],
   "source": [
    "estimator.fit({'training': input_data})"
   ]
  },
  {
   "cell_type": "markdown",
   "metadata": {},
   "source": [
    "## Step 5: Testing the model\n",
    "\n",
    "As mentioned at the top of this notebook, we will be testing this model by first deploying it and then sending the testing data to the deployed endpoint. We will do this so that we can make sure that the deployed model is working correctly.\n",
    "\n",
    "## Step 6: Deploy the model for testing\n",
    "\n",
    "Now that we have trained our model, we would like to test it to see how it performs. Currently our model takes input of the form `review_length, review[500]` where `review[500]` is a sequence of `500` integers which describe the words present in the review, encoded using `word_dict`. Fortunately for us, SageMaker provides built-in inference code for models with simple inputs such as this.\n",
    "\n",
    "There is one thing that we need to provide, however, and that is a function which loads the saved model. This function must be called `model_fn()` and takes as its only parameter a path to the directory where the model artifacts are stored. This function must also be present in the python file which we specified as the entry point. In our case the model loading function has been provided and so no changes need to be made.\n",
    "\n",
    "**NOTE**: When the built-in inference code is run it must import the `model_fn()` method from the `train.py` file. This is why the training code is wrapped in a main guard ( ie, `if __name__ == '__main__':` )\n",
    "\n",
    "Since we don't need to change anything in the code that was uploaded during training, we can simply deploy the current model as-is.\n",
    "\n",
    "**NOTE:** When deploying a model you are asking SageMaker to launch an compute instance that will wait for data to be sent to it. As a result, this compute instance will continue to run until *you* shut it down. This is important to know since the cost of a deployed endpoint depends on how long it has been running for.\n",
    "\n",
    "In other words **If you are no longer using a deployed endpoint, shut it down!**\n",
    "\n",
    "**TODO:** Deploy the trained model."
   ]
  },
  {
   "cell_type": "code",
   "execution_count": 28,
   "metadata": {},
   "outputs": [
    {
     "name": "stdout",
     "output_type": "stream",
     "text": [
      "---------------------------------------------------------------------------------------------------!"
     ]
    }
   ],
   "source": [
    "# TODO: Deploy the trained model\n",
    "predictor = estimator.deploy(initial_instance_count=1, instance_type='ml.p2.xlarge')"
   ]
  },
  {
   "cell_type": "markdown",
   "metadata": {},
   "source": [
    "## Step 7 - Use the model for testing\n",
    "\n",
    "Once deployed, we can read in the test data and send it off to our deployed model to get some results. Once we collect all of the results we can determine how accurate our model is."
   ]
  },
  {
   "cell_type": "code",
   "execution_count": 29,
   "metadata": {},
   "outputs": [],
   "source": [
    "test_X = pd.concat([pd.DataFrame(test_X_len), pd.DataFrame(test_X)], axis=1)"
   ]
  },
  {
   "cell_type": "code",
   "execution_count": 30,
   "metadata": {},
   "outputs": [],
   "source": [
    "# We split the data into chunks and send each chunk seperately, accumulating the results.\n",
    "\n",
    "def predict(data, rows=512):\n",
    "    split_array = np.array_split(data, int(data.shape[0] / float(rows) + 1))\n",
    "    predictions = np.array([])\n",
    "    for array in split_array:\n",
    "        predictions = np.append(predictions, predictor.predict(array))\n",
    "    \n",
    "    return predictions"
   ]
  },
  {
   "cell_type": "code",
   "execution_count": 31,
   "metadata": {},
   "outputs": [],
   "source": [
    "predictions = predict(test_X.values)\n",
    "predictions = [round(num) for num in predictions]"
   ]
  },
  {
   "cell_type": "code",
   "execution_count": 32,
   "metadata": {},
   "outputs": [
    {
     "data": {
      "text/plain": [
       "0.85068"
      ]
     },
     "execution_count": 32,
     "metadata": {},
     "output_type": "execute_result"
    }
   ],
   "source": [
    "from sklearn.metrics import accuracy_score\n",
    "accuracy_score(test_y, predictions)"
   ]
  },
  {
   "cell_type": "markdown",
   "metadata": {},
   "source": [
    "**Question:** How does this model compare to the XGBoost model you created earlier? Why might these two models perform differently on this dataset? Which do *you* think is better for sentiment analysis?"
   ]
  },
  {
   "cell_type": "markdown",
   "metadata": {},
   "source": [
    "**Answer:** The performance is similar, with xgboost having a little bit higher accuracy. We have to pay attention to the fact that this is not a very complex model. In my opinion, the RNN should perform better since it can take into account the order (temporal sequence) of the words and so the context. "
   ]
  },
  {
   "cell_type": "markdown",
   "metadata": {},
   "source": [
    "### (TODO) More testing\n",
    "\n",
    "We now have a trained model which has been deployed and which we can send processed reviews to and which returns the predicted sentiment. However, ultimately we would like to be able to send our model an unprocessed review. That is, we would like to send the review itself as a string. For example, suppose we wish to send the following review to our model."
   ]
  },
  {
   "cell_type": "code",
   "execution_count": 33,
   "metadata": {},
   "outputs": [],
   "source": [
    "test_review = 'The simplest pleasures in life are the best, and this film is one of them. Combining a rather basic storyline of love and adventure this movie transcends the usual weekend fair with wit and unmitigated charm.'"
   ]
  },
  {
   "cell_type": "markdown",
   "metadata": {},
   "source": [
    "The question we now need to answer is, how do we send this review to our model?\n",
    "\n",
    "Recall in the first section of this notebook we did a bunch of data processing to the IMDb dataset. In particular, we did two specific things to the provided reviews.\n",
    " - Removed any html tags and stemmed the input\n",
    " - Encoded the review as a sequence of integers using `word_dict`\n",
    " \n",
    "In order process the review we will need to repeat these two steps.\n",
    "\n",
    "**TODO**: Using the `review_to_words` and `convert_and_pad` methods from section one, convert `test_review` into a numpy array `test_data` suitable to send to our model. Remember that our model expects input of the form `review_length, review[500]`."
   ]
  },
  {
   "cell_type": "code",
   "execution_count": 34,
   "metadata": {},
   "outputs": [
    {
     "name": "stdout",
     "output_type": "stream",
     "text": [
      "['simplest', 'pleasur', 'life', 'best', 'film', 'one', 'combin', 'rather', 'basic', 'storylin', 'love', 'adventur', 'movi', 'transcend', 'usual', 'weekend', 'fair', 'wit', 'unmitig', 'charm']\n",
      "[1, 1373, 50, 53, 3, 4, 878, 173, 392, 682, 29, 723, 2, 4416, 275, 2082, 1059, 760, 1, 581, 0, 0, 0, 0, 0, 0, 0, 0, 0, 0, 0, 0, 0, 0, 0, 0, 0, 0, 0, 0, 0, 0, 0, 0, 0, 0, 0, 0, 0, 0, 0, 0, 0, 0, 0, 0, 0, 0, 0, 0, 0, 0, 0, 0, 0, 0, 0, 0, 0, 0, 0, 0, 0, 0, 0, 0, 0, 0, 0, 0, 0, 0, 0, 0, 0, 0, 0, 0, 0, 0, 0, 0, 0, 0, 0, 0, 0, 0, 0, 0, 0, 0, 0, 0, 0, 0, 0, 0, 0, 0, 0, 0, 0, 0, 0, 0, 0, 0, 0, 0, 0, 0, 0, 0, 0, 0, 0, 0, 0, 0, 0, 0, 0, 0, 0, 0, 0, 0, 0, 0, 0, 0, 0, 0, 0, 0, 0, 0, 0, 0, 0, 0, 0, 0, 0, 0, 0, 0, 0, 0, 0, 0, 0, 0, 0, 0, 0, 0, 0, 0, 0, 0, 0, 0, 0, 0, 0, 0, 0, 0, 0, 0, 0, 0, 0, 0, 0, 0, 0, 0, 0, 0, 0, 0, 0, 0, 0, 0, 0, 0, 0, 0, 0, 0, 0, 0, 0, 0, 0, 0, 0, 0, 0, 0, 0, 0, 0, 0, 0, 0, 0, 0, 0, 0, 0, 0, 0, 0, 0, 0, 0, 0, 0, 0, 0, 0, 0, 0, 0, 0, 0, 0, 0, 0, 0, 0, 0, 0, 0, 0, 0, 0, 0, 0, 0, 0, 0, 0, 0, 0, 0, 0, 0, 0, 0, 0, 0, 0, 0, 0, 0, 0, 0, 0, 0, 0, 0, 0, 0, 0, 0, 0, 0, 0, 0, 0, 0, 0, 0, 0, 0, 0, 0, 0, 0, 0, 0, 0, 0, 0, 0, 0, 0, 0, 0, 0, 0, 0, 0, 0, 0, 0, 0, 0, 0, 0, 0, 0, 0, 0, 0, 0, 0, 0, 0, 0, 0, 0, 0, 0, 0, 0, 0, 0, 0, 0, 0, 0, 0, 0, 0, 0, 0, 0, 0, 0, 0, 0, 0, 0, 0, 0, 0, 0, 0, 0, 0, 0, 0, 0, 0, 0, 0, 0, 0, 0, 0, 0, 0, 0, 0, 0, 0, 0, 0, 0, 0, 0, 0, 0, 0, 0, 0, 0, 0, 0, 0, 0, 0, 0, 0, 0, 0, 0, 0, 0, 0, 0, 0, 0, 0, 0, 0, 0, 0, 0, 0, 0, 0, 0, 0, 0, 0, 0, 0, 0, 0, 0, 0, 0, 0, 0, 0, 0, 0, 0, 0, 0, 0, 0, 0, 0, 0, 0, 0, 0, 0, 0, 0, 0, 0, 0, 0, 0, 0, 0, 0, 0, 0, 0, 0, 0, 0, 0, 0, 0, 0, 0, 0, 0, 0, 0, 0, 0, 0, 0, 0, 0, 0, 0, 0, 0, 0, 0, 0, 0, 0, 0, 0, 0, 0, 0, 0, 0, 0, 0, 0, 0, 0, 0, 0, 0, 0, 0, 0, 0, 0, 0, 0, 0]\n",
      "20\n",
      "[[  20    1 1373   50   53    3    4  878  173  392  682   29  723    2\n",
      "  4416  275 2082 1059  760    1  581    0    0    0    0    0    0    0\n",
      "     0    0    0    0    0    0    0    0    0    0    0    0    0    0\n",
      "     0    0    0    0    0    0    0    0    0    0    0    0    0    0\n",
      "     0    0    0    0    0    0    0    0    0    0    0    0    0    0\n",
      "     0    0    0    0    0    0    0    0    0    0    0    0    0    0\n",
      "     0    0    0    0    0    0    0    0    0    0    0    0    0    0\n",
      "     0    0    0    0    0    0    0    0    0    0    0    0    0    0\n",
      "     0    0    0    0    0    0    0    0    0    0    0    0    0    0\n",
      "     0    0    0    0    0    0    0    0    0    0    0    0    0    0\n",
      "     0    0    0    0    0    0    0    0    0    0    0    0    0    0\n",
      "     0    0    0    0    0    0    0    0    0    0    0    0    0    0\n",
      "     0    0    0    0    0    0    0    0    0    0    0    0    0    0\n",
      "     0    0    0    0    0    0    0    0    0    0    0    0    0    0\n",
      "     0    0    0    0    0    0    0    0    0    0    0    0    0    0\n",
      "     0    0    0    0    0    0    0    0    0    0    0    0    0    0\n",
      "     0    0    0    0    0    0    0    0    0    0    0    0    0    0\n",
      "     0    0    0    0    0    0    0    0    0    0    0    0    0    0\n",
      "     0    0    0    0    0    0    0    0    0    0    0    0    0    0\n",
      "     0    0    0    0    0    0    0    0    0    0    0    0    0    0\n",
      "     0    0    0    0    0    0    0    0    0    0    0    0    0    0\n",
      "     0    0    0    0    0    0    0    0    0    0    0    0    0    0\n",
      "     0    0    0    0    0    0    0    0    0    0    0    0    0    0\n",
      "     0    0    0    0    0    0    0    0    0    0    0    0    0    0\n",
      "     0    0    0    0    0    0    0    0    0    0    0    0    0    0\n",
      "     0    0    0    0    0    0    0    0    0    0    0    0    0    0\n",
      "     0    0    0    0    0    0    0    0    0    0    0    0    0    0\n",
      "     0    0    0    0    0    0    0    0    0    0    0    0    0    0\n",
      "     0    0    0    0    0    0    0    0    0    0    0    0    0    0\n",
      "     0    0    0    0    0    0    0    0    0    0    0    0    0    0\n",
      "     0    0    0    0    0    0    0    0    0    0    0    0    0    0\n",
      "     0    0    0    0    0    0    0    0    0    0    0    0    0    0\n",
      "     0    0    0    0    0    0    0    0    0    0    0    0    0    0\n",
      "     0    0    0    0    0    0    0    0    0    0    0    0    0    0\n",
      "     0    0    0    0    0    0    0    0    0    0    0    0    0    0\n",
      "     0    0    0    0    0    0    0    0    0    0    0]]\n"
     ]
    }
   ],
   "source": [
    "# TODO: Convert test_review into a form usable by the model and save the results in test_data\n",
    "words = review_to_words(test_review)\n",
    "print(words)\n",
    "test_data, test_data_length = convert_and_pad(word_dict, words)\n",
    "print(test_data)\n",
    "print(test_data_length)\n",
    "test_data = np.array([[test_data_length] + test_data])\n",
    "print(test_data)"
   ]
  },
  {
   "cell_type": "markdown",
   "metadata": {},
   "source": [
    "Now that we have processed the review, we can send the resulting array to our model to predict the sentiment of the review."
   ]
  },
  {
   "cell_type": "code",
   "execution_count": 35,
   "metadata": {},
   "outputs": [
    {
     "data": {
      "text/plain": [
       "array(0.92379946, dtype=float32)"
      ]
     },
     "execution_count": 35,
     "metadata": {},
     "output_type": "execute_result"
    }
   ],
   "source": [
    "predictor.predict(test_data)"
   ]
  },
  {
   "cell_type": "markdown",
   "metadata": {},
   "source": [
    "Since the return value of our model is close to `1`, we can be certain that the review we submitted is positive."
   ]
  },
  {
   "cell_type": "markdown",
   "metadata": {},
   "source": [
    "### Delete the endpoint\n",
    "\n",
    "Of course, just like in the XGBoost notebook, once we've deployed an endpoint it continues to run until we tell it to shut down. Since we are done using our endpoint for now, we can delete it."
   ]
  },
  {
   "cell_type": "code",
   "execution_count": 36,
   "metadata": {},
   "outputs": [],
   "source": [
    "estimator.delete_endpoint()"
   ]
  },
  {
   "cell_type": "markdown",
   "metadata": {},
   "source": [
    "## Step 6 (again) - Deploy the model for the web app\n",
    "\n",
    "Now that we know that our model is working, it's time to create some custom inference code so that we can send the model a review which has not been processed and have it determine the sentiment of the review.\n",
    "\n",
    "As we saw above, by default the estimator which we created, when deployed, will use the entry script and directory which we provided when creating the model. However, since we now wish to accept a string as input and our model expects a processed review, we need to write some custom inference code.\n",
    "\n",
    "We will store the code that we write in the `serve` directory. Provided in this directory is the `model.py` file that we used to construct our model, a `utils.py` file which contains the `review_to_words` and `convert_and_pad` pre-processing functions which we used during the initial data processing, and `predict.py`, the file which will contain our custom inference code. Note also that `requirements.txt` is present which will tell SageMaker what Python libraries are required by our custom inference code.\n",
    "\n",
    "When deploying a PyTorch model in SageMaker, you are expected to provide four functions which the SageMaker inference container will use.\n",
    " - `model_fn`: This function is the same function that we used in the training script and it tells SageMaker how to load our model.\n",
    " - `input_fn`: This function receives the raw serialized input that has been sent to the model's endpoint and its job is to de-serialize and make the input available for the inference code.\n",
    " - `output_fn`: This function takes the output of the inference code and its job is to serialize this output and return it to the caller of the model's endpoint.\n",
    " - `predict_fn`: The heart of the inference script, this is where the actual prediction is done and is the function which you will need to complete.\n",
    "\n",
    "For the simple website that we are constructing during this project, the `input_fn` and `output_fn` methods are relatively straightforward. We only require being able to accept a string as input and we expect to return a single value as output. You might imagine though that in a more complex application the input or output may be image data or some other binary data which would require some effort to serialize.\n",
    "\n",
    "### (TODO) Writing inference code\n",
    "\n",
    "Before writing our custom inference code, we will begin by taking a look at the code which has been provided."
   ]
  },
  {
   "cell_type": "code",
   "execution_count": 56,
   "metadata": {},
   "outputs": [
    {
     "name": "stdout",
     "output_type": "stream",
     "text": [
      "\u001b[34mimport\u001b[39;49;00m \u001b[04m\u001b[36margparse\u001b[39;49;00m\r\n",
      "\u001b[34mimport\u001b[39;49;00m \u001b[04m\u001b[36mjson\u001b[39;49;00m\r\n",
      "\u001b[34mimport\u001b[39;49;00m \u001b[04m\u001b[36mos\u001b[39;49;00m\r\n",
      "\u001b[34mimport\u001b[39;49;00m \u001b[04m\u001b[36mpickle\u001b[39;49;00m\r\n",
      "\u001b[34mimport\u001b[39;49;00m \u001b[04m\u001b[36msys\u001b[39;49;00m\r\n",
      "\u001b[34mimport\u001b[39;49;00m \u001b[04m\u001b[36msagemaker_containers\u001b[39;49;00m\r\n",
      "\u001b[34mimport\u001b[39;49;00m \u001b[04m\u001b[36mpandas\u001b[39;49;00m \u001b[34mas\u001b[39;49;00m \u001b[04m\u001b[36mpd\u001b[39;49;00m\r\n",
      "\u001b[34mimport\u001b[39;49;00m \u001b[04m\u001b[36mnumpy\u001b[39;49;00m \u001b[34mas\u001b[39;49;00m \u001b[04m\u001b[36mnp\u001b[39;49;00m\r\n",
      "\u001b[34mimport\u001b[39;49;00m \u001b[04m\u001b[36mtorch\u001b[39;49;00m\r\n",
      "\u001b[34mimport\u001b[39;49;00m \u001b[04m\u001b[36mtorch.nn\u001b[39;49;00m \u001b[34mas\u001b[39;49;00m \u001b[04m\u001b[36mnn\u001b[39;49;00m\r\n",
      "\u001b[34mimport\u001b[39;49;00m \u001b[04m\u001b[36mtorch.optim\u001b[39;49;00m \u001b[34mas\u001b[39;49;00m \u001b[04m\u001b[36moptim\u001b[39;49;00m\r\n",
      "\u001b[34mimport\u001b[39;49;00m \u001b[04m\u001b[36mtorch.utils.data\u001b[39;49;00m\r\n",
      "\r\n",
      "\u001b[34mfrom\u001b[39;49;00m \u001b[04m\u001b[36mmodel\u001b[39;49;00m \u001b[34mimport\u001b[39;49;00m LSTMClassifier\r\n",
      "\r\n",
      "\u001b[34mfrom\u001b[39;49;00m \u001b[04m\u001b[36mutils\u001b[39;49;00m \u001b[34mimport\u001b[39;49;00m review_to_words, convert_and_pad\r\n",
      "\r\n",
      "\u001b[34mdef\u001b[39;49;00m \u001b[32mmodel_fn\u001b[39;49;00m(model_dir):\r\n",
      "    \u001b[33m\"\"\"Load the PyTorch model from the `model_dir` directory.\"\"\"\u001b[39;49;00m\r\n",
      "    \u001b[34mprint\u001b[39;49;00m(\u001b[33m\"\u001b[39;49;00m\u001b[33mLoading model.\u001b[39;49;00m\u001b[33m\"\u001b[39;49;00m)\r\n",
      "\r\n",
      "    \u001b[37m# First, load the parameters used to create the model.\u001b[39;49;00m\r\n",
      "    model_info = {}\r\n",
      "    model_info_path = os.path.join(model_dir, \u001b[33m'\u001b[39;49;00m\u001b[33mmodel_info.pth\u001b[39;49;00m\u001b[33m'\u001b[39;49;00m)\r\n",
      "    \u001b[34mwith\u001b[39;49;00m \u001b[36mopen\u001b[39;49;00m(model_info_path, \u001b[33m'\u001b[39;49;00m\u001b[33mrb\u001b[39;49;00m\u001b[33m'\u001b[39;49;00m) \u001b[34mas\u001b[39;49;00m f:\r\n",
      "        model_info = torch.load(f)\r\n",
      "\r\n",
      "    \u001b[34mprint\u001b[39;49;00m(\u001b[33m\"\u001b[39;49;00m\u001b[33mmodel_info: {}\u001b[39;49;00m\u001b[33m\"\u001b[39;49;00m.format(model_info))\r\n",
      "\r\n",
      "    \u001b[37m# Determine the device and construct the model.\u001b[39;49;00m\r\n",
      "    device = torch.device(\u001b[33m\"\u001b[39;49;00m\u001b[33mcuda\u001b[39;49;00m\u001b[33m\"\u001b[39;49;00m \u001b[34mif\u001b[39;49;00m torch.cuda.is_available() \u001b[34melse\u001b[39;49;00m \u001b[33m\"\u001b[39;49;00m\u001b[33mcpu\u001b[39;49;00m\u001b[33m\"\u001b[39;49;00m)\r\n",
      "    model = LSTMClassifier(model_info[\u001b[33m'\u001b[39;49;00m\u001b[33membedding_dim\u001b[39;49;00m\u001b[33m'\u001b[39;49;00m], model_info[\u001b[33m'\u001b[39;49;00m\u001b[33mhidden_dim\u001b[39;49;00m\u001b[33m'\u001b[39;49;00m], model_info[\u001b[33m'\u001b[39;49;00m\u001b[33mvocab_size\u001b[39;49;00m\u001b[33m'\u001b[39;49;00m])\r\n",
      "\r\n",
      "    \u001b[37m# Load the store model parameters.\u001b[39;49;00m\r\n",
      "    model_path = os.path.join(model_dir, \u001b[33m'\u001b[39;49;00m\u001b[33mmodel.pth\u001b[39;49;00m\u001b[33m'\u001b[39;49;00m)\r\n",
      "    \u001b[34mwith\u001b[39;49;00m \u001b[36mopen\u001b[39;49;00m(model_path, \u001b[33m'\u001b[39;49;00m\u001b[33mrb\u001b[39;49;00m\u001b[33m'\u001b[39;49;00m) \u001b[34mas\u001b[39;49;00m f:\r\n",
      "        model.load_state_dict(torch.load(f))\r\n",
      "\r\n",
      "    \u001b[37m# Load the saved word_dict.\u001b[39;49;00m\r\n",
      "    word_dict_path = os.path.join(model_dir, \u001b[33m'\u001b[39;49;00m\u001b[33mword_dict.pkl\u001b[39;49;00m\u001b[33m'\u001b[39;49;00m)\r\n",
      "    \u001b[34mwith\u001b[39;49;00m \u001b[36mopen\u001b[39;49;00m(word_dict_path, \u001b[33m'\u001b[39;49;00m\u001b[33mrb\u001b[39;49;00m\u001b[33m'\u001b[39;49;00m) \u001b[34mas\u001b[39;49;00m f:\r\n",
      "        model.word_dict = pickle.load(f)\r\n",
      "\r\n",
      "    model.to(device).eval()\r\n",
      "\r\n",
      "    \u001b[34mprint\u001b[39;49;00m(\u001b[33m\"\u001b[39;49;00m\u001b[33mDone loading model.\u001b[39;49;00m\u001b[33m\"\u001b[39;49;00m)\r\n",
      "    \u001b[34mreturn\u001b[39;49;00m model\r\n",
      "\r\n",
      "\u001b[34mdef\u001b[39;49;00m \u001b[32minput_fn\u001b[39;49;00m(serialized_input_data, content_type):\r\n",
      "    \u001b[34mprint\u001b[39;49;00m(\u001b[33m'\u001b[39;49;00m\u001b[33mDeserializing the input data.\u001b[39;49;00m\u001b[33m'\u001b[39;49;00m)\r\n",
      "    \u001b[34mif\u001b[39;49;00m content_type == \u001b[33m'\u001b[39;49;00m\u001b[33mtext/plain\u001b[39;49;00m\u001b[33m'\u001b[39;49;00m:\r\n",
      "        data = serialized_input_data.decode(\u001b[33m'\u001b[39;49;00m\u001b[33mutf-8\u001b[39;49;00m\u001b[33m'\u001b[39;49;00m)\r\n",
      "        \u001b[34mreturn\u001b[39;49;00m data\r\n",
      "    \u001b[34mraise\u001b[39;49;00m \u001b[36mException\u001b[39;49;00m(\u001b[33m'\u001b[39;49;00m\u001b[33mRequested unsupported ContentType in content_type: \u001b[39;49;00m\u001b[33m'\u001b[39;49;00m + content_type)\r\n",
      "\r\n",
      "\u001b[34mdef\u001b[39;49;00m \u001b[32moutput_fn\u001b[39;49;00m(prediction_output, accept):\r\n",
      "    \u001b[34mprint\u001b[39;49;00m(\u001b[33m'\u001b[39;49;00m\u001b[33mSerializing the generated output.\u001b[39;49;00m\u001b[33m'\u001b[39;49;00m)\r\n",
      "    \u001b[34mreturn\u001b[39;49;00m \u001b[36mstr\u001b[39;49;00m(prediction_output)\r\n",
      "\r\n",
      "\u001b[34mdef\u001b[39;49;00m \u001b[32mpredict_fn\u001b[39;49;00m(input_data, model):\r\n",
      "    \u001b[34mprint\u001b[39;49;00m(\u001b[33m'\u001b[39;49;00m\u001b[33mInferring sentiment of input data.\u001b[39;49;00m\u001b[33m'\u001b[39;49;00m)\r\n",
      "\r\n",
      "    device = torch.device(\u001b[33m\"\u001b[39;49;00m\u001b[33mcuda\u001b[39;49;00m\u001b[33m\"\u001b[39;49;00m \u001b[34mif\u001b[39;49;00m torch.cuda.is_available() \u001b[34melse\u001b[39;49;00m \u001b[33m\"\u001b[39;49;00m\u001b[33mcpu\u001b[39;49;00m\u001b[33m\"\u001b[39;49;00m)\r\n",
      "    \r\n",
      "    \u001b[34mif\u001b[39;49;00m model.word_dict \u001b[35mis\u001b[39;49;00m \u001b[36mNone\u001b[39;49;00m:\r\n",
      "        \u001b[34mraise\u001b[39;49;00m \u001b[36mException\u001b[39;49;00m(\u001b[33m'\u001b[39;49;00m\u001b[33mModel has not been loaded properly, no word_dict.\u001b[39;49;00m\u001b[33m'\u001b[39;49;00m)\r\n",
      "    \r\n",
      "    \u001b[37m# TODO: Process input_data so that it is ready to be sent to our model.\u001b[39;49;00m\r\n",
      "    \u001b[37m#       You should produce two variables:\u001b[39;49;00m\r\n",
      "    \u001b[37m#         data_X   - A sequence of length 500 which represents the converted review\u001b[39;49;00m\r\n",
      "    \u001b[37m#         data_len - The length of the review\u001b[39;49;00m\r\n",
      "    \r\n",
      "    words = review_to_words(input_data)\r\n",
      "    words, words_length = convert_and_pad(model.word_dict, words)\u001b[37m#doing the same processing that was shown before in the notebook\u001b[39;49;00m\r\n",
      "    \r\n",
      "    \r\n",
      "    \r\n",
      "    data_X = words\r\n",
      "    data_len = words_length\r\n",
      "\r\n",
      "    \u001b[37m# Using data_X and data_len we construct an appropriate input tensor. Remember\u001b[39;49;00m\r\n",
      "    \u001b[37m# that our model expects input data of the form 'len, review[500]'.\u001b[39;49;00m\r\n",
      "    data_pack = np.hstack((data_len, data_X))\r\n",
      "    data_pack = data_pack.reshape(\u001b[34m1\u001b[39;49;00m, -\u001b[34m1\u001b[39;49;00m)\r\n",
      "    \r\n",
      "    data = torch.from_numpy(data_pack)\r\n",
      "    data = data.to(device)\r\n",
      "\r\n",
      "    \u001b[37m# Make sure to put the model into evaluation mode\u001b[39;49;00m\r\n",
      "    model.eval()\r\n",
      "\r\n",
      "    \u001b[37m# TODO: Compute the result of applying the model to the input data. The variable `result` should\u001b[39;49;00m\r\n",
      "    \u001b[37m#       be a numpy array which contains a single integer which is either 1 or 0\u001b[39;49;00m\r\n",
      "    \u001b[37m#out = model.(data).detach().cpu().numpy()\u001b[39;49;00m\r\n",
      "    \r\n",
      "    \u001b[37m#print(out)\u001b[39;49;00m\r\n",
      "    \u001b[37m#result = round(float(result))\u001b[39;49;00m\r\n",
      "    \u001b[37m#result = np.round(out).astype(np.int)\u001b[39;49;00m\r\n",
      "    \u001b[34mwith\u001b[39;49;00m torch.no_grad():\r\n",
      "        out = model.forward(data)\r\n",
      "        \r\n",
      "    out = out.to(\u001b[33m'\u001b[39;49;00m\u001b[33mcpu\u001b[39;49;00m\u001b[33m'\u001b[39;49;00m)\r\n",
      "    \r\n",
      "    result = np.round(out.numpy())\r\n",
      "    result = \u001b[36mint\u001b[39;49;00m(result)\r\n",
      "    \u001b[34mreturn\u001b[39;49;00m result\r\n"
     ]
    }
   ],
   "source": [
    "!pygmentize serve/predict.py"
   ]
  },
  {
   "cell_type": "markdown",
   "metadata": {},
   "source": [
    "As mentioned earlier, the `model_fn` method is the same as the one provided in the training code and the `input_fn` and `output_fn` methods are very simple and your task will be to complete the `predict_fn` method. Make sure that you save the completed file as `predict.py` in the `serve` directory.\n",
    "\n",
    "**TODO**: Complete the `predict_fn()` method in the `serve/predict.py` file."
   ]
  },
  {
   "cell_type": "markdown",
   "metadata": {},
   "source": [
    "### Deploying the model\n",
    "\n",
    "Now that the custom inference code has been written, we will create and deploy our model. To begin with, we need to construct a new PyTorchModel object which points to the model artifacts created during training and also points to the inference code that we wish to use. Then we can call the deploy method to launch the deployment container.\n",
    "\n",
    "**NOTE**: The default behaviour for a deployed PyTorch model is to assume that any input passed to the predictor is a `numpy` array. In our case we want to send a string so we need to construct a simple wrapper around the `RealTimePredictor` class to accomodate simple strings. In a more complicated situation you may want to provide a serialization object, for example if you wanted to sent image data."
   ]
  },
  {
   "cell_type": "code",
   "execution_count": 64,
   "metadata": {},
   "outputs": [
    {
     "name": "stdout",
     "output_type": "stream",
     "text": [
      "--------------------------------------------------------------------------------------!"
     ]
    }
   ],
   "source": [
    "from sagemaker.predictor import RealTimePredictor\n",
    "from sagemaker.pytorch import PyTorchModel\n",
    "\n",
    "class StringPredictor(RealTimePredictor):\n",
    "    def __init__(self, endpoint_name, sagemaker_session):\n",
    "        super(StringPredictor, self).__init__(endpoint_name, sagemaker_session, content_type='text/plain')\n",
    "\n",
    "model = PyTorchModel(model_data=estimator.model_data,\n",
    "                     role = role,\n",
    "                     framework_version='0.4.0',\n",
    "                     entry_point='predict.py',\n",
    "                     source_dir='serve',\n",
    "                     predictor_cls=StringPredictor)\n",
    "predictor = model.deploy(initial_instance_count=1, instance_type='ml.m4.xlarge')"
   ]
  },
  {
   "cell_type": "markdown",
   "metadata": {},
   "source": [
    "### Testing the model\n",
    "\n",
    "Now that we have deployed our model with the custom inference code, we should test to see if everything is working. Here we test our model by loading the first `250` positive and negative reviews and send them to the endpoint, then collect the results. The reason for only sending some of the data is that the amount of time it takes for our model to process the input and then perform inference is quite long and so testing the entire data set would be prohibitive."
   ]
  },
  {
   "cell_type": "code",
   "execution_count": 58,
   "metadata": {},
   "outputs": [],
   "source": [
    "import glob\n",
    "\n",
    "def test_reviews(data_dir='../data/aclImdb', stop=250):\n",
    "    \n",
    "    results = []\n",
    "    ground = []\n",
    "    \n",
    "    # We make sure to test both positive and negative reviews    \n",
    "    for sentiment in ['pos', 'neg']:\n",
    "        \n",
    "        path = os.path.join(data_dir, 'test', sentiment, '*.txt')\n",
    "        files = glob.glob(path)\n",
    "        \n",
    "        files_read = 0\n",
    "        \n",
    "        print('Starting ', sentiment, ' files')\n",
    "        \n",
    "        # Iterate through the files and send them to the predictor\n",
    "        for f in files:\n",
    "            with open(f) as review:\n",
    "                # First, we store the ground truth (was the review positive or negative)\n",
    "                if sentiment == 'pos':\n",
    "                    ground.append(1)\n",
    "                else:\n",
    "                    ground.append(0)\n",
    "                # Read in the review and convert to 'utf-8' for transmission via HTTP\n",
    "                review_input = review.read().encode('utf-8')\n",
    "                # Send the review to the predictor and store the results\n",
    "                results.append(int(predictor.predict(review_input)))\n",
    "                \n",
    "            # Sending reviews to our endpoint one at a time takes a while so we\n",
    "            # only send a small number of reviews\n",
    "            files_read += 1\n",
    "            if files_read == stop:\n",
    "                break\n",
    "            \n",
    "    return ground, results"
   ]
  },
  {
   "cell_type": "code",
   "execution_count": 59,
   "metadata": {},
   "outputs": [
    {
     "name": "stdout",
     "output_type": "stream",
     "text": [
      "Starting  pos  files\n",
      "Starting  neg  files\n"
     ]
    }
   ],
   "source": [
    "ground, results = test_reviews()"
   ]
  },
  {
   "cell_type": "code",
   "execution_count": 60,
   "metadata": {},
   "outputs": [
    {
     "data": {
      "text/plain": [
       "0.844"
      ]
     },
     "execution_count": 60,
     "metadata": {},
     "output_type": "execute_result"
    }
   ],
   "source": [
    "from sklearn.metrics import accuracy_score\n",
    "accuracy_score(ground, results)"
   ]
  },
  {
   "cell_type": "markdown",
   "metadata": {},
   "source": [
    "As an additional test, we can try sending the `test_review` that we looked at earlier."
   ]
  },
  {
   "cell_type": "code",
   "execution_count": 61,
   "metadata": {},
   "outputs": [
    {
     "data": {
      "text/plain": [
       "b'1'"
      ]
     },
     "execution_count": 61,
     "metadata": {},
     "output_type": "execute_result"
    }
   ],
   "source": [
    "predictor.predict(test_review)"
   ]
  },
  {
   "cell_type": "markdown",
   "metadata": {},
   "source": [
    "Now that we know our endpoint is working as expected, we can set up the web page that will interact with it. If you don't have time to finish the project now, make sure to skip down to the end of this notebook and shut down your endpoint. You can deploy it again when you come back."
   ]
  },
  {
   "cell_type": "markdown",
   "metadata": {},
   "source": [
    "## Step 7 (again): Use the model for the web app\n",
    "\n",
    "> **TODO:** This entire section and the next contain tasks for you to complete, mostly using the AWS console.\n",
    "\n",
    "So far we have been accessing our model endpoint by constructing a predictor object which uses the endpoint and then just using the predictor object to perform inference. What if we wanted to create a web app which accessed our model? The way things are set up currently makes that not possible since in order to access a SageMaker endpoint the app would first have to authenticate with AWS using an IAM role which included access to SageMaker endpoints. However, there is an easier way! We just need to use some additional AWS services.\n",
    "\n",
    "<img src=\"Web App Diagram.svg\">\n",
    "\n",
    "The diagram above gives an overview of how the various services will work together. On the far right is the model which we trained above and which is deployed using SageMaker. On the far left is our web app that collects a user's movie review, sends it off and expects a positive or negative sentiment in return.\n",
    "\n",
    "In the middle is where some of the magic happens. We will construct a Lambda function, which you can think of as a straightforward Python function that can be executed whenever a specified event occurs. We will give this function permission to send and recieve data from a SageMaker endpoint.\n",
    "\n",
    "Lastly, the method we will use to execute the Lambda function is a new endpoint that we will create using API Gateway. This endpoint will be a url that listens for data to be sent to it. Once it gets some data it will pass that data on to the Lambda function and then return whatever the Lambda function returns. Essentially it will act as an interface that lets our web app communicate with the Lambda function.\n",
    "\n",
    "### Setting up a Lambda function\n",
    "\n",
    "The first thing we are going to do is set up a Lambda function. This Lambda function will be executed whenever our public API has data sent to it. When it is executed it will receive the data, perform any sort of processing that is required, send the data (the review) to the SageMaker endpoint we've created and then return the result.\n",
    "\n",
    "#### Part A: Create an IAM Role for the Lambda function\n",
    "\n",
    "Since we want the Lambda function to call a SageMaker endpoint, we need to make sure that it has permission to do so. To do this, we will construct a role that we can later give the Lambda function.\n",
    "\n",
    "Using the AWS Console, navigate to the **IAM** page and click on **Roles**. Then, click on **Create role**. Make sure that the **AWS service** is the type of trusted entity selected and choose **Lambda** as the service that will use this role, then click **Next: Permissions**.\n",
    "\n",
    "In the search box type `sagemaker` and select the check box next to the **AmazonSageMakerFullAccess** policy. Then, click on **Next: Review**.\n",
    "\n",
    "Lastly, give this role a name. Make sure you use a name that you will remember later on, for example `LambdaSageMakerRole`. Then, click on **Create role**.\n",
    "\n",
    "#### Part B: Create a Lambda function\n",
    "\n",
    "Now it is time to actually create the Lambda function.\n",
    "\n",
    "Using the AWS Console, navigate to the AWS Lambda page and click on **Create a function**. When you get to the next page, make sure that **Author from scratch** is selected. Now, name your Lambda function, using a name that you will remember later on, for example `sentiment_analysis_func`. Make sure that the **Python 3.6** runtime is selected and then choose the role that you created in the previous part. Then, click on **Create Function**.\n",
    "\n",
    "On the next page you will see some information about the Lambda function you've just created. If you scroll down you should see an editor in which you can write the code that will be executed when your Lambda function is triggered. In our example, we will use the code below. \n",
    "\n",
    "```python\n",
    "# We need to use the low-level library to interact with SageMaker since the SageMaker API\n",
    "# is not available natively through Lambda.\n",
    "import boto3\n",
    "\n",
    "def lambda_handler(event, context):\n",
    "\n",
    "    # The SageMaker runtime is what allows us to invoke the endpoint that we've created.\n",
    "    runtime = boto3.Session().client('sagemaker-runtime')\n",
    "\n",
    "    # Now we use the SageMaker runtime to invoke our endpoint, sending the review we were given\n",
    "    response = runtime.invoke_endpoint(EndpointName = '**ENDPOINT NAME HERE**',    # The name of the endpoint we created\n",
    "                                       ContentType = 'text/plain',                 # The data format that is expected\n",
    "                                       Body = event['body'])                       # The actual review\n",
    "\n",
    "    # The response is an HTTP response whose body contains the result of our inference\n",
    "    result = response['Body'].read().decode('utf-8')\n",
    "\n",
    "    return {\n",
    "        'statusCode' : 200,\n",
    "        'headers' : { 'Content-Type' : 'text/plain', 'Access-Control-Allow-Origin' : '*' },\n",
    "        'body' : result\n",
    "    }\n",
    "```\n",
    "\n",
    "Once you have copy and pasted the code above into the Lambda code editor, replace the `**ENDPOINT NAME HERE**` portion with the name of the endpoint that we deployed earlier. You can determine the name of the endpoint using the code cell below."
   ]
  },
  {
   "cell_type": "code",
   "execution_count": 65,
   "metadata": {},
   "outputs": [
    {
     "data": {
      "text/plain": [
       "'sagemaker-pytorch-2019-07-18-17-58-32-687'"
      ]
     },
     "execution_count": 65,
     "metadata": {},
     "output_type": "execute_result"
    }
   ],
   "source": [
    "predictor.endpoint"
   ]
  },
  {
   "cell_type": "markdown",
   "metadata": {},
   "source": [
    "Once you have added the endpoint name to the Lambda function, click on **Save**. Your Lambda function is now up and running. Next we need to create a way for our web app to execute the Lambda function.\n",
    "\n",
    "### Setting up API Gateway\n",
    "\n",
    "Now that our Lambda function is set up, it is time to create a new API using API Gateway that will trigger the Lambda function we have just created.\n",
    "\n",
    "Using AWS Console, navigate to **Amazon API Gateway** and then click on **Get started**.\n",
    "\n",
    "On the next page, make sure that **New API** is selected and give the new api a name, for example, `sentiment_analysis_api`. Then, click on **Create API**.\n",
    "\n",
    "Now we have created an API, however it doesn't currently do anything. What we want it to do is to trigger the Lambda function that we created earlier.\n",
    "\n",
    "Select the **Actions** dropdown menu and click **Create Method**. A new blank method will be created, select its dropdown menu and select **POST**, then click on the check mark beside it.\n",
    "\n",
    "For the integration point, make sure that **Lambda Function** is selected and click on the **Use Lambda Proxy integration**. This option makes sure that the data that is sent to the API is then sent directly to the Lambda function with no processing. It also means that the return value must be a proper response object as it will also not be processed by API Gateway.\n",
    "\n",
    "Type the name of the Lambda function you created earlier into the **Lambda Function** text entry box and then click on **Save**. Click on **OK** in the pop-up box that then appears, giving permission to API Gateway to invoke the Lambda function you created.\n",
    "\n",
    "The last step in creating the API Gateway is to select the **Actions** dropdown and click on **Deploy API**. You will need to create a new Deployment stage and name it anything you like, for example `prod`.\n",
    "\n",
    "You have now successfully set up a public API to access your SageMaker model. Make sure to copy or write down the URL provided to invoke your newly created public API as this will be needed in the next step. This URL can be found at the top of the page, highlighted in blue next to the text **Invoke URL**."
   ]
  },
  {
   "cell_type": "markdown",
   "metadata": {},
   "source": [
    "## Step 4: Deploying our web app\n",
    "\n",
    "Now that we have a publicly available API, we can start using it in a web app. For our purposes, we have provided a simple static html file which can make use of the public api you created earlier.\n",
    "\n",
    "In the `website` folder there should be a file called `index.html`. Download the file to your computer and open that file up in a text editor of your choice. There should be a line which contains **\\*\\*REPLACE WITH PUBLIC API URL\\*\\***. Replace this string with the url that you wrote down in the last step and then save the file.\n",
    "\n",
    "Now, if you open `index.html` on your local computer, your browser will behave as a local web server and you can use the provided site to interact with your SageMaker model.\n",
    "\n",
    "If you'd like to go further, you can host this html file anywhere you'd like, for example using github or hosting a static site on Amazon's S3. Once you have done this you can share the link with anyone you'd like and have them play with it too!\n",
    "\n",
    "> **Important Note** In order for the web app to communicate with the SageMaker endpoint, the endpoint has to actually be deployed and running. This means that you are paying for it. Make sure that the endpoint is running when you want to use the web app but that you shut it down when you don't need it, otherwise you will end up with a surprisingly large AWS bill.\n",
    "\n",
    "**TODO:** Make sure that you include the edited `index.html` file in your project submission."
   ]
  },
  {
   "cell_type": "markdown",
   "metadata": {},
   "source": [
    "Now that your web app is working, trying playing around with it and see how well it works.\n",
    "\n",
    "**Question**: Give an example of a review that you entered into your web app. What was the predicted sentiment of your example review?"
   ]
  },
  {
   "cell_type": "markdown",
   "metadata": {},
   "source": [
    "**Answer:** I liked this movie. It was awesome.\n",
    "The predicted sentiment was positive.\n",
    "\n",
    "I disliked this movie. \n",
    "It was rated as negative\n",
    "\n",
    "I did not like this movie.\n",
    "It was rated as positive, I think because the other words don't have much impact and the word like as a positive impact, so it can trick the model."
   ]
  },
  {
   "cell_type": "markdown",
   "metadata": {},
   "source": [
    "### Delete the endpoint\n",
    "\n",
    "Remember to always shut down your endpoint if you are no longer using it. You are charged for the length of time that the endpoint is running so if you forget and leave it on you could end up with an unexpectedly large bill."
   ]
  },
  {
   "cell_type": "code",
   "execution_count": 66,
   "metadata": {},
   "outputs": [],
   "source": [
    "predictor.delete_endpoint()"
   ]
  },
  {
   "cell_type": "code",
   "execution_count": null,
   "metadata": {},
   "outputs": [],
   "source": []
  }
 ],
 "metadata": {
  "kernelspec": {
   "display_name": "conda_pytorch_p36",
   "language": "python",
   "name": "conda_pytorch_p36"
  },
  "language_info": {
   "codemirror_mode": {
    "name": "ipython",
    "version": 3
   },
   "file_extension": ".py",
   "mimetype": "text/x-python",
   "name": "python",
   "nbconvert_exporter": "python",
   "pygments_lexer": "ipython3",
   "version": "3.6.5"
  }
 },
 "nbformat": 4,
 "nbformat_minor": 2
}
